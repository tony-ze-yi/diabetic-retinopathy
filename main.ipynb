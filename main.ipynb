{
 "cells": [
  {
   "cell_type": "code",
   "execution_count": 1,
   "metadata": {},
   "outputs": [
    {
     "name": "stdout",
     "output_type": "stream",
     "text": [
      "\n"
     ]
    }
   ],
   "source": [
    "import os\n",
    "import pandas as pd\n",
    "import torch\n",
    "import torch.nn as nn\n",
    "import torch.optim as optim\n",
    "from torch.utils.data import DataLoader, Dataset\n",
    "from torchvision import transforms, models, datasets\n",
    "from efficientnet_pytorch import EfficientNet\n",
    "import collections\n",
    "import sys\n",
    "from mpemu import mpt_emu\n",
    "from mpemu import qutils\n",
    "import timm\n",
    "sys.path.insert(0, \"./ViT-pytorch\")\n",
    "from models.modeling import VisionTransformer, CONFIGS\n",
    "import numpy as np\n",
    "# Define paths and hyperparameters\n",
    "BATCH_SIZE = 24\n",
    "NUM_EPOCHS = 100\n",
    "LEARNING_RATE = 0.001\n",
    "DEVICE = torch.device(\"cuda\" if torch.cuda.is_available() else \"cpu\")\n",
    "QUANTIZE = False\n",
    "TEST_MODEL = False\n",
    "\n",
    "# quantization\n",
    "# torch.backends.cudnn.benchmark = True\n",
    "# filter_module_types = [torch.nn.Conv2d, torch.nn.Linear] # Only quantizing convolution and linear modules\n",
    "# exempt_modules = [\"conv1\",\"fc\"]\n",
    "\n",
    "print()\n",
    "# define the EfficientNet models to use\n",
    "# b0 max: 64\n",
    "# b3 max: 32?\n",
    "efficientnets = {\n",
    "    # \"b0\": EfficientNet.from_pretrained(\"efficientnet-b0\", num_classes=5),\n",
    "    # \"b1\": EfficientNet.from_pretrained(\"efficientnet-b1\", num_classes=5),\n",
    "    # \"b2\": EfficientNet.from_pretrained(\"efficientnet-b2\", num_classes=5),\n",
    "    # \"b3\": EfficientNet.from_pretrained(\"efficientnet-b3\", num_classes=5),\n",
    "    # \"b4\": EfficientNet.from_pretrained(\"efficientnet-b4\", num_classes=5),\n",
    "    # \"b5\": EfficientNet.from_pretrained(\"efficientnet-b5\", num_classes=5),\n",
    "    # \"b6\": EfficientNet.from_pretrained(\"efficientnet-b6\", num_classes=5),\n",
    "    # \"b7\": EfficientNet.from_pretrained(\"efficientnet-b7\", num_classes=5),\n",
    "}\n",
    "\n",
    "efficientnet_sizes = {\n",
    "    \"b0\": 224,\n",
    "    \"b1\": 240,\n",
    "    \"b2\": 260,\n",
    "    \"b3\": 300,\n",
    "    \"b4\": 380,\n",
    "    \"b5\": 456,\n",
    "    \"b6\": 528,\n",
    "    \"b7\": 600,\n",
    "}\n",
    "# model_name = \"vit_base_r50_s16_384\"\n",
    "model_name = \"R50-ViT-B_16\"\n",
    "# resnext = timm.create_model(model_name, pretrained=True, num_classes=5)\n",
    "vit = VisionTransformer(CONFIGS[model_name], 384, zero_head=True, num_classes=5)\n",
    "model_ckpt = torch.load(\"r50/checkpoint_11.pt\", map_location=\"cpu\")\n",
    "vit.load_state_dict(model_ckpt[\"model_state_dict\"] if \"model_state_dict\" in model_ckpt else model_ckpt, strict=False)\n",
    "#vit.load_from(np.load(\"R50-ViT-B_16.npz\"))\n",
    "vit.to(DEVICE)\n",
    "models = [vit]"
   ]
  },
  {
   "cell_type": "code",
   "execution_count": 2,
   "metadata": {},
   "outputs": [
    {
     "data": {
      "text/plain": [
       "['convit_base',\n",
       " 'convit_small',\n",
       " 'convit_tiny',\n",
       " 'crossvit_9_240',\n",
       " 'crossvit_9_dagger_240',\n",
       " 'crossvit_15_240',\n",
       " 'crossvit_15_dagger_240',\n",
       " 'crossvit_15_dagger_408',\n",
       " 'crossvit_18_240',\n",
       " 'crossvit_18_dagger_240',\n",
       " 'crossvit_18_dagger_408',\n",
       " 'crossvit_base_240',\n",
       " 'crossvit_small_240',\n",
       " 'crossvit_tiny_240',\n",
       " 'gcvit_base',\n",
       " 'gcvit_small',\n",
       " 'gcvit_tiny',\n",
       " 'gcvit_xtiny',\n",
       " 'gcvit_xxtiny',\n",
       " 'levit_128',\n",
       " 'levit_128s',\n",
       " 'levit_192',\n",
       " 'levit_256',\n",
       " 'levit_256d',\n",
       " 'levit_384',\n",
       " 'maxvit_base_224',\n",
       " 'maxvit_large_224',\n",
       " 'maxvit_nano_rw_256',\n",
       " 'maxvit_pico_rw_256',\n",
       " 'maxvit_rmlp_nano_rw_256',\n",
       " 'maxvit_rmlp_pico_rw_256',\n",
       " 'maxvit_rmlp_small_rw_224',\n",
       " 'maxvit_rmlp_small_rw_256',\n",
       " 'maxvit_rmlp_tiny_rw_256',\n",
       " 'maxvit_small_224',\n",
       " 'maxvit_tiny_224',\n",
       " 'maxvit_tiny_pm_256',\n",
       " 'maxvit_tiny_rw_224',\n",
       " 'maxvit_tiny_rw_256',\n",
       " 'maxvit_xlarge_224',\n",
       " 'maxxvit_rmlp_nano_rw_256',\n",
       " 'maxxvit_rmlp_small_rw_256',\n",
       " 'maxxvit_rmlp_tiny_rw_256',\n",
       " 'mobilevit_s',\n",
       " 'mobilevit_xs',\n",
       " 'mobilevit_xxs',\n",
       " 'mobilevitv2_050',\n",
       " 'mobilevitv2_075',\n",
       " 'mobilevitv2_100',\n",
       " 'mobilevitv2_125',\n",
       " 'mobilevitv2_150',\n",
       " 'mobilevitv2_150_384_in22ft1k',\n",
       " 'mobilevitv2_150_in22ft1k',\n",
       " 'mobilevitv2_175',\n",
       " 'mobilevitv2_175_384_in22ft1k',\n",
       " 'mobilevitv2_175_in22ft1k',\n",
       " 'mobilevitv2_200',\n",
       " 'mobilevitv2_200_384_in22ft1k',\n",
       " 'mobilevitv2_200_in22ft1k',\n",
       " 'mvitv2_base',\n",
       " 'mvitv2_large',\n",
       " 'mvitv2_small',\n",
       " 'mvitv2_small_cls',\n",
       " 'mvitv2_tiny',\n",
       " 'semobilevit_s',\n",
       " 'vit_base_patch8_224',\n",
       " 'vit_base_patch8_224_dino',\n",
       " 'vit_base_patch8_224_in21k',\n",
       " 'vit_base_patch16_18x2_224',\n",
       " 'vit_base_patch16_224',\n",
       " 'vit_base_patch16_224_dino',\n",
       " 'vit_base_patch16_224_in21k',\n",
       " 'vit_base_patch16_224_miil',\n",
       " 'vit_base_patch16_224_miil_in21k',\n",
       " 'vit_base_patch16_224_sam',\n",
       " 'vit_base_patch16_384',\n",
       " 'vit_base_patch16_plus_240',\n",
       " 'vit_base_patch16_rpn_224',\n",
       " 'vit_base_patch32_224',\n",
       " 'vit_base_patch32_224_clip_laion2b',\n",
       " 'vit_base_patch32_224_in21k',\n",
       " 'vit_base_patch32_224_sam',\n",
       " 'vit_base_patch32_384',\n",
       " 'vit_base_patch32_plus_256',\n",
       " 'vit_base_r26_s32_224',\n",
       " 'vit_base_r50_s16_224',\n",
       " 'vit_base_r50_s16_224_in21k',\n",
       " 'vit_base_r50_s16_384',\n",
       " 'vit_base_resnet26d_224',\n",
       " 'vit_base_resnet50_224_in21k',\n",
       " 'vit_base_resnet50_384',\n",
       " 'vit_base_resnet50d_224',\n",
       " 'vit_giant_patch14_224',\n",
       " 'vit_giant_patch14_224_clip_laion2b',\n",
       " 'vit_gigantic_patch14_224',\n",
       " 'vit_huge_patch14_224',\n",
       " 'vit_huge_patch14_224_clip_laion2b',\n",
       " 'vit_huge_patch14_224_in21k',\n",
       " 'vit_large_patch14_224',\n",
       " 'vit_large_patch14_224_clip_laion2b',\n",
       " 'vit_large_patch16_224',\n",
       " 'vit_large_patch16_224_in21k',\n",
       " 'vit_large_patch16_384',\n",
       " 'vit_large_patch32_224',\n",
       " 'vit_large_patch32_224_in21k',\n",
       " 'vit_large_patch32_384',\n",
       " 'vit_large_r50_s32_224',\n",
       " 'vit_large_r50_s32_224_in21k',\n",
       " 'vit_large_r50_s32_384',\n",
       " 'vit_relpos_base_patch16_224',\n",
       " 'vit_relpos_base_patch16_cls_224',\n",
       " 'vit_relpos_base_patch16_clsgap_224',\n",
       " 'vit_relpos_base_patch16_plus_240',\n",
       " 'vit_relpos_base_patch16_rpn_224',\n",
       " 'vit_relpos_base_patch32_plus_rpn_256',\n",
       " 'vit_relpos_medium_patch16_224',\n",
       " 'vit_relpos_medium_patch16_cls_224',\n",
       " 'vit_relpos_medium_patch16_rpn_224',\n",
       " 'vit_relpos_small_patch16_224',\n",
       " 'vit_relpos_small_patch16_rpn_224',\n",
       " 'vit_small_patch8_224_dino',\n",
       " 'vit_small_patch16_18x2_224',\n",
       " 'vit_small_patch16_36x1_224',\n",
       " 'vit_small_patch16_224',\n",
       " 'vit_small_patch16_224_dino',\n",
       " 'vit_small_patch16_224_in21k',\n",
       " 'vit_small_patch16_384',\n",
       " 'vit_small_patch32_224',\n",
       " 'vit_small_patch32_224_in21k',\n",
       " 'vit_small_patch32_384',\n",
       " 'vit_small_r26_s32_224',\n",
       " 'vit_small_r26_s32_224_in21k',\n",
       " 'vit_small_r26_s32_384',\n",
       " 'vit_small_resnet26d_224',\n",
       " 'vit_small_resnet50d_s16_224',\n",
       " 'vit_srelpos_medium_patch16_224',\n",
       " 'vit_srelpos_small_patch16_224',\n",
       " 'vit_tiny_patch16_224',\n",
       " 'vit_tiny_patch16_224_in21k',\n",
       " 'vit_tiny_patch16_384',\n",
       " 'vit_tiny_r_s16_p8_224',\n",
       " 'vit_tiny_r_s16_p8_224_in21k',\n",
       " 'vit_tiny_r_s16_p8_384']"
      ]
     },
     "execution_count": 2,
     "metadata": {},
     "output_type": "execute_result"
    }
   ],
   "source": [
    "timm.list_models(\"*vit*\")"
   ]
  },
  {
   "cell_type": "code",
   "execution_count": null,
   "metadata": {},
   "outputs": [
    {
     "name": "stdout",
     "output_type": "stream",
     "text": [
      "['0', '1', '2', '3', '4']\n",
      "Epoch 1/100\n"
     ]
    },
    {
     "name": "stderr",
     "output_type": "stream",
     "text": [
      "100%|██████████████████████████████████████████████████████████████████████████████████████████████████████████████████████████████████████████████████████████████████████████████████████████████████| 1163/1163 [13:48<00:00,  1.40it/s]\n"
     ]
    },
    {
     "name": "stdout",
     "output_type": "stream",
     "text": [
      "Train loss: 0.4013, Acc: 0.8681\n",
      "Train time: 828.2154800891876\n",
      "OrderedDict([('active.all.allocated', 3735129), ('active.all.current', 721), ('active.all.freed', 3734408), ('active.all.peak', 1300), ('active.large_pool.allocated', 1434171), ('active.large_pool.current', 171), ('active.large_pool.freed', 1434000), ('active.large_pool.peak', 455), ('active.small_pool.allocated', 2300958), ('active.small_pool.current', 550), ('active.small_pool.freed', 2300408), ('active.small_pool.peak', 922), ('active_bytes.all.allocated', 104793636515328), ('active_bytes.all.current', 814213120), ('active_bytes.all.freed', 104792822302208), ('active_bytes.all.peak', 21219655680), ('active_bytes.large_pool.allocated', 104321173530624), ('active_bytes.large_pool.current', 764690432), ('active_bytes.large_pool.freed', 104320408840192), ('active_bytes.large_pool.peak', 21118613504), ('active_bytes.small_pool.allocated', 472462984704), ('active_bytes.small_pool.current', 49522688), ('active_bytes.small_pool.freed', 472413462016), ('active_bytes.small_pool.peak', 103129088), ('allocated_bytes.all.allocated', 104793636515328), ('allocated_bytes.all.current', 814213120), ('allocated_bytes.all.freed', 104792822302208), ('allocated_bytes.all.peak', 21219655680), ('allocated_bytes.large_pool.allocated', 104321173530624), ('allocated_bytes.large_pool.current', 764690432), ('allocated_bytes.large_pool.freed', 104320408840192), ('allocated_bytes.large_pool.peak', 21118613504), ('allocated_bytes.small_pool.allocated', 472462984704), ('allocated_bytes.small_pool.current', 49522688), ('allocated_bytes.small_pool.freed', 472413462016), ('allocated_bytes.small_pool.peak', 103129088), ('allocation.all.allocated', 3735129), ('allocation.all.current', 721), ('allocation.all.freed', 3734408), ('allocation.all.peak', 1300), ('allocation.large_pool.allocated', 1434171), ('allocation.large_pool.current', 171), ('allocation.large_pool.freed', 1434000), ('allocation.large_pool.peak', 455), ('allocation.small_pool.allocated', 2300958), ('allocation.small_pool.current', 550), ('allocation.small_pool.freed', 2300408), ('allocation.small_pool.peak', 922), ('inactive_split.all.allocated', 1831976), ('inactive_split.all.current', 65), ('inactive_split.all.freed', 1831911), ('inactive_split.all.peak', 154), ('inactive_split.large_pool.allocated', 682776), ('inactive_split.large_pool.current', 32), ('inactive_split.large_pool.freed', 682744), ('inactive_split.large_pool.peak', 116), ('inactive_split.small_pool.allocated', 1149200), ('inactive_split.small_pool.current', 33), ('inactive_split.small_pool.freed', 1149167), ('inactive_split.small_pool.peak', 70), ('inactive_split_bytes.all.allocated', 45603520485888), ('inactive_split_bytes.all.current', 666376192), ('inactive_split_bytes.all.freed', 45602854109696), ('inactive_split_bytes.all.peak', 2876618752), ('inactive_split_bytes.large_pool.allocated', 45123942183936), ('inactive_split_bytes.large_pool.current', 655081472), ('inactive_split_bytes.large_pool.freed', 45123287102464), ('inactive_split_bytes.large_pool.peak', 2852038656), ('inactive_split_bytes.small_pool.allocated', 479578301952), ('inactive_split_bytes.small_pool.current', 11294720), ('inactive_split_bytes.small_pool.freed', 479567007232), ('inactive_split_bytes.small_pool.peak', 36898816), ('max_split_size', -1), ('num_alloc_retries', 0), ('num_ooms', 0), ('oversize_allocations.allocated', 0), ('oversize_allocations.current', 0), ('oversize_allocations.freed', 0), ('oversize_allocations.peak', 0), ('oversize_segments.allocated', 0), ('oversize_segments.current', 0), ('oversize_segments.freed', 0), ('oversize_segments.peak', 0), ('requested_bytes.all.allocated', 104696113678878), ('requested_bytes.all.current', 813142816), ('requested_bytes.all.freed', 104695300536062), ('requested_bytes.all.peak', 21200522088), ('requested_bytes.large_pool.allocated', 104223750544100), ('requested_bytes.large_pool.current', 763631616), ('requested_bytes.large_pool.freed', 104222986912484), ('requested_bytes.large_pool.peak', 21099512704), ('requested_bytes.small_pool.allocated', 472363134778), ('requested_bytes.small_pool.current', 49511200), ('requested_bytes.small_pool.freed', 472313623578), ('requested_bytes.small_pool.peak', 103115432), ('reserved_bytes.all.allocated', 21904752640), ('reserved_bytes.all.current', 21904752640), ('reserved_bytes.all.freed', 0), ('reserved_bytes.all.peak', 21904752640), ('reserved_bytes.large_pool.allocated', 21797797888), ('reserved_bytes.large_pool.current', 21797797888), ('reserved_bytes.large_pool.freed', 0), ('reserved_bytes.large_pool.peak', 21797797888), ('reserved_bytes.small_pool.allocated', 106954752), ('reserved_bytes.small_pool.current', 106954752), ('reserved_bytes.small_pool.freed', 0), ('reserved_bytes.small_pool.peak', 106954752), ('segment.all.allocated', 224), ('segment.all.current', 224), ('segment.all.freed', 0), ('segment.all.peak', 224), ('segment.large_pool.allocated', 173), ('segment.large_pool.current', 173), ('segment.large_pool.freed', 0), ('segment.large_pool.peak', 173), ('segment.small_pool.allocated', 51), ('segment.small_pool.current', 51), ('segment.small_pool.freed', 0), ('segment.small_pool.peak', 51)])\n"
     ]
    },
    {
     "name": "stderr",
     "output_type": "stream",
     "text": [
      "100%|████████████████████████████████████████████████████████████████████████████████████████████████████████████████████████████████████████████████████████████████████████████████████████████████████| 291/291 [01:15<00:00,  3.85it/s]\n"
     ]
    },
    {
     "name": "stdout",
     "output_type": "stream",
     "text": [
      "Val   loss: 0.3920, Acc: 0.8656\n",
      "Val and misc time: 76.47579526901245\n",
      "Total time: 904.691415309906\n",
      "Epoch 2/100\n"
     ]
    },
    {
     "name": "stderr",
     "output_type": "stream",
     "text": [
      "100%|██████████████████████████████████████████████████████████████████████████████████████████████████████████████████████████████████████████████████████████████████████████████████████████████████| 1163/1163 [13:43<00:00,  1.41it/s]\n"
     ]
    },
    {
     "name": "stdout",
     "output_type": "stream",
     "text": [
      "Train loss: 0.3866, Acc: 0.8729\n",
      "Train time: 823.4944593906403\n",
      "OrderedDict([('active.all.allocated', 7790522), ('active.all.current', 722), ('active.all.freed', 7789800), ('active.all.peak', 1301), ('active.large_pool.allocated', 3004360), ('active.large_pool.current', 171), ('active.large_pool.freed', 3004189), ('active.large_pool.peak', 455), ('active.small_pool.allocated', 4786162), ('active.small_pool.current', 551), ('active.small_pool.freed', 4785611), ('active.small_pool.peak', 923), ('active_bytes.all.allocated', 220732397513728), ('active_bytes.all.current', 814213632), ('active_bytes.all.freed', 220731583300096), ('active_bytes.all.peak', 21219656192), ('active_bytes.large_pool.allocated', 219748787707392), ('active_bytes.large_pool.current', 764690432), ('active_bytes.large_pool.freed', 219748023016960), ('active_bytes.large_pool.peak', 21118613504), ('active_bytes.small_pool.allocated', 983609806336), ('active_bytes.small_pool.current', 49523200), ('active_bytes.small_pool.freed', 983560283136), ('active_bytes.small_pool.peak', 103129600), ('allocated_bytes.all.allocated', 220732397513728), ('allocated_bytes.all.current', 814213632), ('allocated_bytes.all.freed', 220731583300096), ('allocated_bytes.all.peak', 21219656192), ('allocated_bytes.large_pool.allocated', 219748787707392), ('allocated_bytes.large_pool.current', 764690432), ('allocated_bytes.large_pool.freed', 219748023016960), ('allocated_bytes.large_pool.peak', 21118613504), ('allocated_bytes.small_pool.allocated', 983609806336), ('allocated_bytes.small_pool.current', 49523200), ('allocated_bytes.small_pool.freed', 983560283136), ('allocated_bytes.small_pool.peak', 103129600), ('allocation.all.allocated', 7790522), ('allocation.all.current', 722), ('allocation.all.freed', 7789800), ('allocation.all.peak', 1301), ('allocation.large_pool.allocated', 3004360), ('allocation.large_pool.current', 171), ('allocation.large_pool.freed', 3004189), ('allocation.large_pool.peak', 455), ('allocation.small_pool.allocated', 4786162), ('allocation.small_pool.current', 551), ('allocation.small_pool.freed', 4785611), ('allocation.small_pool.peak', 923), ('inactive_split.all.allocated', 3807041), ('inactive_split.all.current', 63), ('inactive_split.all.freed', 3806978), ('inactive_split.all.peak', 155), ('inactive_split.large_pool.allocated', 1445242), ('inactive_split.large_pool.current', 32), ('inactive_split.large_pool.freed', 1445210), ('inactive_split.large_pool.peak', 116), ('inactive_split.small_pool.allocated', 2361799), ('inactive_split.small_pool.current', 31), ('inactive_split.small_pool.freed', 2361768), ('inactive_split.small_pool.peak', 71), ('inactive_split_bytes.all.allocated', 91748422850048), ('inactive_split_bytes.all.current', 666375680), ('inactive_split_bytes.all.freed', 91747756474368), ('inactive_split_bytes.all.peak', 2876618752), ('inactive_split_bytes.large_pool.allocated', 90750564782592), ('inactive_split_bytes.large_pool.current', 655081472), ('inactive_split_bytes.large_pool.freed', 90749909701120), ('inactive_split_bytes.large_pool.peak', 2852038656), ('inactive_split_bytes.small_pool.allocated', 997858067456), ('inactive_split_bytes.small_pool.current', 11294208), ('inactive_split_bytes.small_pool.freed', 997846773248), ('inactive_split_bytes.small_pool.peak', 36898816), ('max_split_size', -1), ('num_alloc_retries', 0), ('num_ooms', 0), ('oversize_allocations.allocated', 0), ('oversize_allocations.current', 0), ('oversize_allocations.freed', 0), ('oversize_allocations.peak', 0), ('oversize_segments.allocated', 0), ('oversize_segments.current', 0), ('oversize_segments.freed', 0), ('oversize_segments.peak', 0), ('requested_bytes.all.allocated', 220529545499726), ('requested_bytes.all.current', 813142820), ('requested_bytes.all.freed', 220528732356906), ('requested_bytes.all.peak', 21200522092), ('requested_bytes.large_pool.allocated', 219546144854440), ('requested_bytes.large_pool.current', 763631616), ('requested_bytes.large_pool.freed', 219545381222824), ('requested_bytes.large_pool.peak', 21099512704), ('requested_bytes.small_pool.allocated', 983400645286), ('requested_bytes.small_pool.current', 49511204), ('requested_bytes.small_pool.freed', 983351134082), ('requested_bytes.small_pool.peak', 103115436), ('reserved_bytes.all.allocated', 21904752640), ('reserved_bytes.all.current', 21904752640), ('reserved_bytes.all.freed', 0), ('reserved_bytes.all.peak', 21904752640), ('reserved_bytes.large_pool.allocated', 21797797888), ('reserved_bytes.large_pool.current', 21797797888), ('reserved_bytes.large_pool.freed', 0), ('reserved_bytes.large_pool.peak', 21797797888), ('reserved_bytes.small_pool.allocated', 106954752), ('reserved_bytes.small_pool.current', 106954752), ('reserved_bytes.small_pool.freed', 0), ('reserved_bytes.small_pool.peak', 106954752), ('segment.all.allocated', 224), ('segment.all.current', 224), ('segment.all.freed', 0), ('segment.all.peak', 224), ('segment.large_pool.allocated', 173), ('segment.large_pool.current', 173), ('segment.large_pool.freed', 0), ('segment.large_pool.peak', 173), ('segment.small_pool.allocated', 51), ('segment.small_pool.current', 51), ('segment.small_pool.freed', 0), ('segment.small_pool.peak', 51)])\n"
     ]
    },
    {
     "name": "stderr",
     "output_type": "stream",
     "text": [
      "100%|████████████████████████████████████████████████████████████████████████████████████████████████████████████████████████████████████████████████████████████████████████████████████████████████████| 291/291 [01:15<00:00,  3.85it/s]\n"
     ]
    },
    {
     "name": "stdout",
     "output_type": "stream",
     "text": [
      "Val   loss: 0.3912, Acc: 0.8725\n",
      "Val and misc time: 76.39053916931152\n",
      "Total time: 899.8852281570435\n",
      "Epoch 3/100\n"
     ]
    },
    {
     "name": "stderr",
     "output_type": "stream",
     "text": [
      "100%|██████████████████████████████████████████████████████████████████████████████████████████████████████████████████████████████████████████████████████████████████████████████████████████████████| 1163/1163 [13:43<00:00,  1.41it/s]\n"
     ]
    },
    {
     "name": "stdout",
     "output_type": "stream",
     "text": [
      "Train loss: 0.3774, Acc: 0.8759\n",
      "Train time: 823.4057307243347\n",
      "OrderedDict([('active.all.allocated', 11845915), ('active.all.current', 722), ('active.all.freed', 11845193), ('active.all.peak', 1301), ('active.large_pool.allocated', 4574549), ('active.large_pool.current', 171), ('active.large_pool.freed', 4574378), ('active.large_pool.peak', 455), ('active.small_pool.allocated', 7271366), ('active.small_pool.current', 551), ('active.small_pool.freed', 7270815), ('active.small_pool.peak', 923), ('active_bytes.all.allocated', 336671158512128), ('active_bytes.all.current', 814213632), ('active_bytes.all.freed', 336670344298496), ('active_bytes.all.peak', 21219656192), ('active_bytes.large_pool.allocated', 335176401884160), ('active_bytes.large_pool.current', 764690432), ('active_bytes.large_pool.freed', 335175637193728), ('active_bytes.large_pool.peak', 21118613504), ('active_bytes.small_pool.allocated', 1494756627968), ('active_bytes.small_pool.current', 49523200), ('active_bytes.small_pool.freed', 1494707104768), ('active_bytes.small_pool.peak', 103129600), ('allocated_bytes.all.allocated', 336671158512128), ('allocated_bytes.all.current', 814213632), ('allocated_bytes.all.freed', 336670344298496), ('allocated_bytes.all.peak', 21219656192), ('allocated_bytes.large_pool.allocated', 335176401884160), ('allocated_bytes.large_pool.current', 764690432), ('allocated_bytes.large_pool.freed', 335175637193728), ('allocated_bytes.large_pool.peak', 21118613504), ('allocated_bytes.small_pool.allocated', 1494756627968), ('allocated_bytes.small_pool.current', 49523200), ('allocated_bytes.small_pool.freed', 1494707104768), ('allocated_bytes.small_pool.peak', 103129600), ('allocation.all.allocated', 11845915), ('allocation.all.current', 722), ('allocation.all.freed', 11845193), ('allocation.all.peak', 1301), ('allocation.large_pool.allocated', 4574549), ('allocation.large_pool.current', 171), ('allocation.large_pool.freed', 4574378), ('allocation.large_pool.peak', 455), ('allocation.small_pool.allocated', 7271366), ('allocation.small_pool.current', 551), ('allocation.small_pool.freed', 7270815), ('allocation.small_pool.peak', 923), ('inactive_split.all.allocated', 5787210), ('inactive_split.all.current', 63), ('inactive_split.all.freed', 5787147), ('inactive_split.all.peak', 155), ('inactive_split.large_pool.allocated', 2207708), ('inactive_split.large_pool.current', 32), ('inactive_split.large_pool.freed', 2207676), ('inactive_split.large_pool.peak', 116), ('inactive_split.small_pool.allocated', 3579502), ('inactive_split.small_pool.current', 31), ('inactive_split.small_pool.freed', 3579471), ('inactive_split.small_pool.peak', 71), ('inactive_split_bytes.all.allocated', 137893325214720), ('inactive_split_bytes.all.current', 666375680), ('inactive_split_bytes.all.freed', 137892658839040), ('inactive_split_bytes.all.peak', 2876618752), ('inactive_split_bytes.large_pool.allocated', 136377187381248), ('inactive_split_bytes.large_pool.current', 655081472), ('inactive_split_bytes.large_pool.freed', 136376532299776), ('inactive_split_bytes.large_pool.peak', 2852038656), ('inactive_split_bytes.small_pool.allocated', 1516137833472), ('inactive_split_bytes.small_pool.current', 11294208), ('inactive_split_bytes.small_pool.freed', 1516126539264), ('inactive_split_bytes.small_pool.peak', 36898816), ('max_split_size', -1), ('num_alloc_retries', 0), ('num_ooms', 0), ('oversize_allocations.allocated', 0), ('oversize_allocations.current', 0), ('oversize_allocations.freed', 0), ('oversize_allocations.peak', 0), ('oversize_segments.allocated', 0), ('oversize_segments.current', 0), ('oversize_segments.freed', 0), ('oversize_segments.peak', 0), ('requested_bytes.all.allocated', 336362977320574), ('requested_bytes.all.current', 813142820), ('requested_bytes.all.freed', 336362164177754), ('requested_bytes.all.peak', 21200522092), ('requested_bytes.large_pool.allocated', 334868539164780), ('requested_bytes.large_pool.current', 763631616), ('requested_bytes.large_pool.freed', 334867775533164), ('requested_bytes.large_pool.peak', 21099512704), ('requested_bytes.small_pool.allocated', 1494438155794), ('requested_bytes.small_pool.current', 49511204), ('requested_bytes.small_pool.freed', 1494388644590), ('requested_bytes.small_pool.peak', 103115436), ('reserved_bytes.all.allocated', 21904752640), ('reserved_bytes.all.current', 21904752640), ('reserved_bytes.all.freed', 0), ('reserved_bytes.all.peak', 21904752640), ('reserved_bytes.large_pool.allocated', 21797797888), ('reserved_bytes.large_pool.current', 21797797888), ('reserved_bytes.large_pool.freed', 0), ('reserved_bytes.large_pool.peak', 21797797888), ('reserved_bytes.small_pool.allocated', 106954752), ('reserved_bytes.small_pool.current', 106954752), ('reserved_bytes.small_pool.freed', 0), ('reserved_bytes.small_pool.peak', 106954752), ('segment.all.allocated', 224), ('segment.all.current', 224), ('segment.all.freed', 0), ('segment.all.peak', 224), ('segment.large_pool.allocated', 173), ('segment.large_pool.current', 173), ('segment.large_pool.freed', 0), ('segment.large_pool.peak', 173), ('segment.small_pool.allocated', 51), ('segment.small_pool.current', 51), ('segment.small_pool.freed', 0), ('segment.small_pool.peak', 51)])\n"
     ]
    },
    {
     "name": "stderr",
     "output_type": "stream",
     "text": [
      "100%|████████████████████████████████████████████████████████████████████████████████████████████████████████████████████████████████████████████████████████████████████████████████████████████████████| 291/291 [01:15<00:00,  3.84it/s]\n"
     ]
    },
    {
     "name": "stdout",
     "output_type": "stream",
     "text": [
      "Val   loss: 0.3996, Acc: 0.8635\n",
      "Val and misc time: 76.5695161819458\n",
      "Total time: 899.9753913879395\n",
      "Epoch 4/100\n"
     ]
    },
    {
     "name": "stderr",
     "output_type": "stream",
     "text": [
      "100%|██████████████████████████████████████████████████████████████████████████████████████████████████████████████████████████████████████████████████████████████████████████████████████████████████| 1163/1163 [13:43<00:00,  1.41it/s]\n"
     ]
    },
    {
     "name": "stdout",
     "output_type": "stream",
     "text": [
      "Train loss: 0.3650, Acc: 0.8795\n",
      "Train time: 823.320333480835\n",
      "OrderedDict([('active.all.allocated', 15901308), ('active.all.current', 722), ('active.all.freed', 15900586), ('active.all.peak', 1301), ('active.large_pool.allocated', 6144738), ('active.large_pool.current', 171), ('active.large_pool.freed', 6144567), ('active.large_pool.peak', 455), ('active.small_pool.allocated', 9756570), ('active.small_pool.current', 551), ('active.small_pool.freed', 9756019), ('active.small_pool.peak', 923), ('active_bytes.all.allocated', 452609919510528), ('active_bytes.all.current', 814213632), ('active_bytes.all.freed', 452609105296896), ('active_bytes.all.peak', 21219656192), ('active_bytes.large_pool.allocated', 450604016060928), ('active_bytes.large_pool.current', 764690432), ('active_bytes.large_pool.freed', 450603251370496), ('active_bytes.large_pool.peak', 21118613504), ('active_bytes.small_pool.allocated', 2005903449600), ('active_bytes.small_pool.current', 49523200), ('active_bytes.small_pool.freed', 2005853926400), ('active_bytes.small_pool.peak', 103129600), ('allocated_bytes.all.allocated', 452609919510528), ('allocated_bytes.all.current', 814213632), ('allocated_bytes.all.freed', 452609105296896), ('allocated_bytes.all.peak', 21219656192), ('allocated_bytes.large_pool.allocated', 450604016060928), ('allocated_bytes.large_pool.current', 764690432), ('allocated_bytes.large_pool.freed', 450603251370496), ('allocated_bytes.large_pool.peak', 21118613504), ('allocated_bytes.small_pool.allocated', 2005903449600), ('allocated_bytes.small_pool.current', 49523200), ('allocated_bytes.small_pool.freed', 2005853926400), ('allocated_bytes.small_pool.peak', 103129600), ('allocation.all.allocated', 15901308), ('allocation.all.current', 722), ('allocation.all.freed', 15900586), ('allocation.all.peak', 1301), ('allocation.large_pool.allocated', 6144738), ('allocation.large_pool.current', 171), ('allocation.large_pool.freed', 6144567), ('allocation.large_pool.peak', 455), ('allocation.small_pool.allocated', 9756570), ('allocation.small_pool.current', 551), ('allocation.small_pool.freed', 9756019), ('allocation.small_pool.peak', 923), ('inactive_split.all.allocated', 7762335), ('inactive_split.all.current', 63), ('inactive_split.all.freed', 7762272), ('inactive_split.all.peak', 155), ('inactive_split.large_pool.allocated', 2970174), ('inactive_split.large_pool.current', 32), ('inactive_split.large_pool.freed', 2970142), ('inactive_split.large_pool.peak', 116), ('inactive_split.small_pool.allocated', 4792161), ('inactive_split.small_pool.current', 31), ('inactive_split.small_pool.freed', 4792130), ('inactive_split.small_pool.peak', 71), ('inactive_split_bytes.all.allocated', 184038227579392), ('inactive_split_bytes.all.current', 666375680), ('inactive_split_bytes.all.freed', 184037561203712), ('inactive_split_bytes.all.peak', 2876618752), ('inactive_split_bytes.large_pool.allocated', 182003809979904), ('inactive_split_bytes.large_pool.current', 655081472), ('inactive_split_bytes.large_pool.freed', 182003154898432), ('inactive_split_bytes.large_pool.peak', 2852038656), ('inactive_split_bytes.small_pool.allocated', 2034417599488), ('inactive_split_bytes.small_pool.current', 11294208), ('inactive_split_bytes.small_pool.freed', 2034406305280), ('inactive_split_bytes.small_pool.peak', 36898816), ('max_split_size', -1), ('num_alloc_retries', 0), ('num_ooms', 0), ('oversize_allocations.allocated', 0), ('oversize_allocations.current', 0), ('oversize_allocations.freed', 0), ('oversize_allocations.peak', 0), ('oversize_segments.allocated', 0), ('oversize_segments.current', 0), ('oversize_segments.freed', 0), ('oversize_segments.peak', 0), ('requested_bytes.all.allocated', 452196409141422), ('requested_bytes.all.current', 813142820), ('requested_bytes.all.freed', 452195595998602), ('requested_bytes.all.peak', 21200522092), ('requested_bytes.large_pool.allocated', 450190933475120), ('requested_bytes.large_pool.current', 763631616), ('requested_bytes.large_pool.freed', 450190169843504), ('requested_bytes.large_pool.peak', 21099512704), ('requested_bytes.small_pool.allocated', 2005475666302), ('requested_bytes.small_pool.current', 49511204), ('requested_bytes.small_pool.freed', 2005426155098), ('requested_bytes.small_pool.peak', 103115436), ('reserved_bytes.all.allocated', 21904752640), ('reserved_bytes.all.current', 21904752640), ('reserved_bytes.all.freed', 0), ('reserved_bytes.all.peak', 21904752640), ('reserved_bytes.large_pool.allocated', 21797797888), ('reserved_bytes.large_pool.current', 21797797888), ('reserved_bytes.large_pool.freed', 0), ('reserved_bytes.large_pool.peak', 21797797888), ('reserved_bytes.small_pool.allocated', 106954752), ('reserved_bytes.small_pool.current', 106954752), ('reserved_bytes.small_pool.freed', 0), ('reserved_bytes.small_pool.peak', 106954752), ('segment.all.allocated', 224), ('segment.all.current', 224), ('segment.all.freed', 0), ('segment.all.peak', 224), ('segment.large_pool.allocated', 173), ('segment.large_pool.current', 173), ('segment.large_pool.freed', 0), ('segment.large_pool.peak', 173), ('segment.small_pool.allocated', 51), ('segment.small_pool.current', 51), ('segment.small_pool.freed', 0), ('segment.small_pool.peak', 51)])\n"
     ]
    },
    {
     "name": "stderr",
     "output_type": "stream",
     "text": [
      "100%|████████████████████████████████████████████████████████████████████████████████████████████████████████████████████████████████████████████████████████████████████████████████████████████████████| 291/291 [01:15<00:00,  3.85it/s]\n"
     ]
    },
    {
     "name": "stdout",
     "output_type": "stream",
     "text": [
      "Val   loss: 0.3972, Acc: 0.8691\n",
      "Val and misc time: 76.43351864814758\n",
      "Total time: 899.7540493011475\n",
      "Epoch 5/100\n"
     ]
    },
    {
     "name": "stderr",
     "output_type": "stream",
     "text": [
      "100%|██████████████████████████████████████████████████████████████████████████████████████████████████████████████████████████████████████████████████████████████████████████████████████████████████| 1163/1163 [13:43<00:00,  1.41it/s]\n"
     ]
    },
    {
     "name": "stdout",
     "output_type": "stream",
     "text": [
      "Train loss: 0.3525, Acc: 0.8835\n",
      "Train time: 823.2901659011841\n",
      "OrderedDict([('active.all.allocated', 19956701), ('active.all.current', 722), ('active.all.freed', 19955979), ('active.all.peak', 1301), ('active.large_pool.allocated', 7714927), ('active.large_pool.current', 171), ('active.large_pool.freed', 7714756), ('active.large_pool.peak', 455), ('active.small_pool.allocated', 12241774), ('active.small_pool.current', 551), ('active.small_pool.freed', 12241223), ('active.small_pool.peak', 923), ('active_bytes.all.allocated', 568548680508928), ('active_bytes.all.current', 814213632), ('active_bytes.all.freed', 568547866295296), ('active_bytes.all.peak', 21219656192), ('active_bytes.large_pool.allocated', 566031630237696), ('active_bytes.large_pool.current', 764690432), ('active_bytes.large_pool.freed', 566030865547264), ('active_bytes.large_pool.peak', 21118613504), ('active_bytes.small_pool.allocated', 2517050271232), ('active_bytes.small_pool.current', 49523200), ('active_bytes.small_pool.freed', 2517000748032), ('active_bytes.small_pool.peak', 103129600), ('allocated_bytes.all.allocated', 568548680508928), ('allocated_bytes.all.current', 814213632), ('allocated_bytes.all.freed', 568547866295296), ('allocated_bytes.all.peak', 21219656192), ('allocated_bytes.large_pool.allocated', 566031630237696), ('allocated_bytes.large_pool.current', 764690432), ('allocated_bytes.large_pool.freed', 566030865547264), ('allocated_bytes.large_pool.peak', 21118613504), ('allocated_bytes.small_pool.allocated', 2517050271232), ('allocated_bytes.small_pool.current', 49523200), ('allocated_bytes.small_pool.freed', 2517000748032), ('allocated_bytes.small_pool.peak', 103129600), ('allocation.all.allocated', 19956701), ('allocation.all.current', 722), ('allocation.all.freed', 19955979), ('allocation.all.peak', 1301), ('allocation.large_pool.allocated', 7714927), ('allocation.large_pool.current', 171), ('allocation.large_pool.freed', 7714756), ('allocation.large_pool.peak', 455), ('allocation.small_pool.allocated', 12241774), ('allocation.small_pool.current', 551), ('allocation.small_pool.freed', 12241223), ('allocation.small_pool.peak', 923), ('inactive_split.all.allocated', 9742504), ('inactive_split.all.current', 63), ('inactive_split.all.freed', 9742441), ('inactive_split.all.peak', 155), ('inactive_split.large_pool.allocated', 3732640), ('inactive_split.large_pool.current', 32), ('inactive_split.large_pool.freed', 3732608), ('inactive_split.large_pool.peak', 116), ('inactive_split.small_pool.allocated', 6009864), ('inactive_split.small_pool.current', 31), ('inactive_split.small_pool.freed', 6009833), ('inactive_split.small_pool.peak', 71), ('inactive_split_bytes.all.allocated', 230183129944064), ('inactive_split_bytes.all.current', 666375680), ('inactive_split_bytes.all.freed', 230182463568384), ('inactive_split_bytes.all.peak', 2876618752), ('inactive_split_bytes.large_pool.allocated', 227630432578560), ('inactive_split_bytes.large_pool.current', 655081472), ('inactive_split_bytes.large_pool.freed', 227629777497088), ('inactive_split_bytes.large_pool.peak', 2852038656), ('inactive_split_bytes.small_pool.allocated', 2552697365504), ('inactive_split_bytes.small_pool.current', 11294208), ('inactive_split_bytes.small_pool.freed', 2552686071296), ('inactive_split_bytes.small_pool.peak', 36898816), ('max_split_size', -1), ('num_alloc_retries', 0), ('num_ooms', 0), ('oversize_allocations.allocated', 0), ('oversize_allocations.current', 0), ('oversize_allocations.freed', 0), ('oversize_allocations.peak', 0), ('oversize_segments.allocated', 0), ('oversize_segments.current', 0), ('oversize_segments.freed', 0), ('oversize_segments.peak', 0), ('requested_bytes.all.allocated', 568029840962270), ('requested_bytes.all.current', 813142820), ('requested_bytes.all.freed', 568029027819450), ('requested_bytes.all.peak', 21200522092), ('requested_bytes.large_pool.allocated', 565513327785460), ('requested_bytes.large_pool.current', 763631616), ('requested_bytes.large_pool.freed', 565512564153844), ('requested_bytes.large_pool.peak', 21099512704), ('requested_bytes.small_pool.allocated', 2516513176810), ('requested_bytes.small_pool.current', 49511204), ('requested_bytes.small_pool.freed', 2516463665606), ('requested_bytes.small_pool.peak', 103115436), ('reserved_bytes.all.allocated', 21904752640), ('reserved_bytes.all.current', 21904752640), ('reserved_bytes.all.freed', 0), ('reserved_bytes.all.peak', 21904752640), ('reserved_bytes.large_pool.allocated', 21797797888), ('reserved_bytes.large_pool.current', 21797797888), ('reserved_bytes.large_pool.freed', 0), ('reserved_bytes.large_pool.peak', 21797797888), ('reserved_bytes.small_pool.allocated', 106954752), ('reserved_bytes.small_pool.current', 106954752), ('reserved_bytes.small_pool.freed', 0), ('reserved_bytes.small_pool.peak', 106954752), ('segment.all.allocated', 224), ('segment.all.current', 224), ('segment.all.freed', 0), ('segment.all.peak', 224), ('segment.large_pool.allocated', 173), ('segment.large_pool.current', 173), ('segment.large_pool.freed', 0), ('segment.large_pool.peak', 173), ('segment.small_pool.allocated', 51), ('segment.small_pool.current', 51), ('segment.small_pool.freed', 0), ('segment.small_pool.peak', 51)])\n"
     ]
    },
    {
     "name": "stderr",
     "output_type": "stream",
     "text": [
      "100%|████████████████████████████████████████████████████████████████████████████████████████████████████████████████████████████████████████████████████████████████████████████████████████████████████| 291/291 [01:15<00:00,  3.86it/s]\n"
     ]
    },
    {
     "name": "stdout",
     "output_type": "stream",
     "text": [
      "Val   loss: 0.3853, Acc: 0.8720\n",
      "Val and misc time: 76.30523586273193\n",
      "Total time: 899.5955262184143\n",
      "Epoch 6/100\n"
     ]
    },
    {
     "name": "stderr",
     "output_type": "stream",
     "text": [
      "100%|██████████████████████████████████████████████████████████████████████████████████████████████████████████████████████████████████████████████████████████████████████████████████████████████████| 1163/1163 [13:41<00:00,  1.42it/s]\n"
     ]
    },
    {
     "name": "stdout",
     "output_type": "stream",
     "text": [
      "Train loss: 0.3410, Acc: 0.8855\n",
      "Train time: 821.5853500366211\n",
      "OrderedDict([('active.all.allocated', 24012094), ('active.all.current', 722), ('active.all.freed', 24011372), ('active.all.peak', 1301), ('active.large_pool.allocated', 9285116), ('active.large_pool.current', 171), ('active.large_pool.freed', 9284945), ('active.large_pool.peak', 455), ('active.small_pool.allocated', 14726978), ('active.small_pool.current', 551), ('active.small_pool.freed', 14726427), ('active.small_pool.peak', 923), ('active_bytes.all.allocated', 684487441507328), ('active_bytes.all.current', 814213632), ('active_bytes.all.freed', 684486627293696), ('active_bytes.all.peak', 21219656192), ('active_bytes.large_pool.allocated', 681459244414464), ('active_bytes.large_pool.current', 764690432), ('active_bytes.large_pool.freed', 681458479724032), ('active_bytes.large_pool.peak', 21118613504), ('active_bytes.small_pool.allocated', 3028197092864), ('active_bytes.small_pool.current', 49523200), ('active_bytes.small_pool.freed', 3028147569664), ('active_bytes.small_pool.peak', 103129600), ('allocated_bytes.all.allocated', 684487441507328), ('allocated_bytes.all.current', 814213632), ('allocated_bytes.all.freed', 684486627293696), ('allocated_bytes.all.peak', 21219656192), ('allocated_bytes.large_pool.allocated', 681459244414464), ('allocated_bytes.large_pool.current', 764690432), ('allocated_bytes.large_pool.freed', 681458479724032), ('allocated_bytes.large_pool.peak', 21118613504), ('allocated_bytes.small_pool.allocated', 3028197092864), ('allocated_bytes.small_pool.current', 49523200), ('allocated_bytes.small_pool.freed', 3028147569664), ('allocated_bytes.small_pool.peak', 103129600), ('allocation.all.allocated', 24012094), ('allocation.all.current', 722), ('allocation.all.freed', 24011372), ('allocation.all.peak', 1301), ('allocation.large_pool.allocated', 9285116), ('allocation.large_pool.current', 171), ('allocation.large_pool.freed', 9284945), ('allocation.large_pool.peak', 455), ('allocation.small_pool.allocated', 14726978), ('allocation.small_pool.current', 551), ('allocation.small_pool.freed', 14726427), ('allocation.small_pool.peak', 923), ('inactive_split.all.allocated', 11717629), ('inactive_split.all.current', 63), ('inactive_split.all.freed', 11717566), ('inactive_split.all.peak', 155), ('inactive_split.large_pool.allocated', 4495106), ('inactive_split.large_pool.current', 32), ('inactive_split.large_pool.freed', 4495074), ('inactive_split.large_pool.peak', 116), ('inactive_split.small_pool.allocated', 7222523), ('inactive_split.small_pool.current', 31), ('inactive_split.small_pool.freed', 7222492), ('inactive_split.small_pool.peak', 71), ('inactive_split_bytes.all.allocated', 276328032308736), ('inactive_split_bytes.all.current', 666375680), ('inactive_split_bytes.all.freed', 276327365933056), ('inactive_split_bytes.all.peak', 2876618752), ('inactive_split_bytes.large_pool.allocated', 273257055177216), ('inactive_split_bytes.large_pool.current', 655081472), ('inactive_split_bytes.large_pool.freed', 273256400095744), ('inactive_split_bytes.large_pool.peak', 2852038656), ('inactive_split_bytes.small_pool.allocated', 3070977131520), ('inactive_split_bytes.small_pool.current', 11294208), ('inactive_split_bytes.small_pool.freed', 3070965837312), ('inactive_split_bytes.small_pool.peak', 36898816), ('max_split_size', -1), ('num_alloc_retries', 0), ('num_ooms', 0), ('oversize_allocations.allocated', 0), ('oversize_allocations.current', 0), ('oversize_allocations.freed', 0), ('oversize_allocations.peak', 0), ('oversize_segments.allocated', 0), ('oversize_segments.current', 0), ('oversize_segments.freed', 0), ('oversize_segments.peak', 0), ('requested_bytes.all.allocated', 683863272783118), ('requested_bytes.all.current', 813142820), ('requested_bytes.all.freed', 683862459640298), ('requested_bytes.all.peak', 21200522092), ('requested_bytes.large_pool.allocated', 680835722095800), ('requested_bytes.large_pool.current', 763631616), ('requested_bytes.large_pool.freed', 680834958464184), ('requested_bytes.large_pool.peak', 21099512704), ('requested_bytes.small_pool.allocated', 3027550687318), ('requested_bytes.small_pool.current', 49511204), ('requested_bytes.small_pool.freed', 3027501176114), ('requested_bytes.small_pool.peak', 103115436), ('reserved_bytes.all.allocated', 21904752640), ('reserved_bytes.all.current', 21904752640), ('reserved_bytes.all.freed', 0), ('reserved_bytes.all.peak', 21904752640), ('reserved_bytes.large_pool.allocated', 21797797888), ('reserved_bytes.large_pool.current', 21797797888), ('reserved_bytes.large_pool.freed', 0), ('reserved_bytes.large_pool.peak', 21797797888), ('reserved_bytes.small_pool.allocated', 106954752), ('reserved_bytes.small_pool.current', 106954752), ('reserved_bytes.small_pool.freed', 0), ('reserved_bytes.small_pool.peak', 106954752), ('segment.all.allocated', 224), ('segment.all.current', 224), ('segment.all.freed', 0), ('segment.all.peak', 224), ('segment.large_pool.allocated', 173), ('segment.large_pool.current', 173), ('segment.large_pool.freed', 0), ('segment.large_pool.peak', 173), ('segment.small_pool.allocated', 51), ('segment.small_pool.current', 51), ('segment.small_pool.freed', 0), ('segment.small_pool.peak', 51)])\n"
     ]
    },
    {
     "name": "stderr",
     "output_type": "stream",
     "text": [
      "100%|████████████████████████████████████████████████████████████████████████████████████████████████████████████████████████████████████████████████████████████████████████████████████████████████████| 291/291 [01:15<00:00,  3.87it/s]\n"
     ]
    },
    {
     "name": "stdout",
     "output_type": "stream",
     "text": [
      "Val   loss: 0.4237, Acc: 0.8595\n",
      "Val and misc time: 76.00580883026123\n",
      "Total time: 897.591285943985\n",
      "Epoch 7/100\n"
     ]
    },
    {
     "name": "stderr",
     "output_type": "stream",
     "text": [
      "100%|██████████████████████████████████████████████████████████████████████████████████████████████████████████████████████████████████████████████████████████████████████████████████████████████████| 1163/1163 [13:40<00:00,  1.42it/s]\n"
     ]
    },
    {
     "name": "stdout",
     "output_type": "stream",
     "text": [
      "Train loss: 0.3304, Acc: 0.8886\n",
      "Train time: 820.4561402797699\n",
      "OrderedDict([('active.all.allocated', 28067487), ('active.all.current', 722), ('active.all.freed', 28066765), ('active.all.peak', 1301), ('active.large_pool.allocated', 10855305), ('active.large_pool.current', 171), ('active.large_pool.freed', 10855134), ('active.large_pool.peak', 455), ('active.small_pool.allocated', 17212182), ('active.small_pool.current', 551), ('active.small_pool.freed', 17211631), ('active.small_pool.peak', 923), ('active_bytes.all.allocated', 800426202505728), ('active_bytes.all.current', 814213632), ('active_bytes.all.freed', 800425388292096), ('active_bytes.all.peak', 21219656192), ('active_bytes.large_pool.allocated', 796886858591232), ('active_bytes.large_pool.current', 764690432), ('active_bytes.large_pool.freed', 796886093900800), ('active_bytes.large_pool.peak', 21118613504), ('active_bytes.small_pool.allocated', 3539343914496), ('active_bytes.small_pool.current', 49523200), ('active_bytes.small_pool.freed', 3539294391296), ('active_bytes.small_pool.peak', 103129600), ('allocated_bytes.all.allocated', 800426202505728), ('allocated_bytes.all.current', 814213632), ('allocated_bytes.all.freed', 800425388292096), ('allocated_bytes.all.peak', 21219656192), ('allocated_bytes.large_pool.allocated', 796886858591232), ('allocated_bytes.large_pool.current', 764690432), ('allocated_bytes.large_pool.freed', 796886093900800), ('allocated_bytes.large_pool.peak', 21118613504), ('allocated_bytes.small_pool.allocated', 3539343914496), ('allocated_bytes.small_pool.current', 49523200), ('allocated_bytes.small_pool.freed', 3539294391296), ('allocated_bytes.small_pool.peak', 103129600), ('allocation.all.allocated', 28067487), ('allocation.all.current', 722), ('allocation.all.freed', 28066765), ('allocation.all.peak', 1301), ('allocation.large_pool.allocated', 10855305), ('allocation.large_pool.current', 171), ('allocation.large_pool.freed', 10855134), ('allocation.large_pool.peak', 455), ('allocation.small_pool.allocated', 17212182), ('allocation.small_pool.current', 551), ('allocation.small_pool.freed', 17211631), ('allocation.small_pool.peak', 923), ('inactive_split.all.allocated', 13697798), ('inactive_split.all.current', 63), ('inactive_split.all.freed', 13697735), ('inactive_split.all.peak', 155), ('inactive_split.large_pool.allocated', 5257572), ('inactive_split.large_pool.current', 32), ('inactive_split.large_pool.freed', 5257540), ('inactive_split.large_pool.peak', 116), ('inactive_split.small_pool.allocated', 8440226), ('inactive_split.small_pool.current', 31), ('inactive_split.small_pool.freed', 8440195), ('inactive_split.small_pool.peak', 71), ('inactive_split_bytes.all.allocated', 322472934673408), ('inactive_split_bytes.all.current', 666375680), ('inactive_split_bytes.all.freed', 322472268297728), ('inactive_split_bytes.all.peak', 2876618752), ('inactive_split_bytes.large_pool.allocated', 318883677775872), ('inactive_split_bytes.large_pool.current', 655081472), ('inactive_split_bytes.large_pool.freed', 318883022694400), ('inactive_split_bytes.large_pool.peak', 2852038656), ('inactive_split_bytes.small_pool.allocated', 3589256897536), ('inactive_split_bytes.small_pool.current', 11294208), ('inactive_split_bytes.small_pool.freed', 3589245603328), ('inactive_split_bytes.small_pool.peak', 36898816), ('max_split_size', -1), ('num_alloc_retries', 0), ('num_ooms', 0), ('oversize_allocations.allocated', 0), ('oversize_allocations.current', 0), ('oversize_allocations.freed', 0), ('oversize_allocations.peak', 0), ('oversize_segments.allocated', 0), ('oversize_segments.current', 0), ('oversize_segments.freed', 0), ('oversize_segments.peak', 0), ('requested_bytes.all.allocated', 799696704603966), ('requested_bytes.all.current', 813142820), ('requested_bytes.all.freed', 799695891461146), ('requested_bytes.all.peak', 21200522092), ('requested_bytes.large_pool.allocated', 796158116406140), ('requested_bytes.large_pool.current', 763631616), ('requested_bytes.large_pool.freed', 796157352774524), ('requested_bytes.large_pool.peak', 21099512704), ('requested_bytes.small_pool.allocated', 3538588197826), ('requested_bytes.small_pool.current', 49511204), ('requested_bytes.small_pool.freed', 3538538686622), ('requested_bytes.small_pool.peak', 103115436), ('reserved_bytes.all.allocated', 21904752640), ('reserved_bytes.all.current', 21904752640), ('reserved_bytes.all.freed', 0), ('reserved_bytes.all.peak', 21904752640), ('reserved_bytes.large_pool.allocated', 21797797888), ('reserved_bytes.large_pool.current', 21797797888), ('reserved_bytes.large_pool.freed', 0), ('reserved_bytes.large_pool.peak', 21797797888), ('reserved_bytes.small_pool.allocated', 106954752), ('reserved_bytes.small_pool.current', 106954752), ('reserved_bytes.small_pool.freed', 0), ('reserved_bytes.small_pool.peak', 106954752), ('segment.all.allocated', 224), ('segment.all.current', 224), ('segment.all.freed', 0), ('segment.all.peak', 224), ('segment.large_pool.allocated', 173), ('segment.large_pool.current', 173), ('segment.large_pool.freed', 0), ('segment.large_pool.peak', 173), ('segment.small_pool.allocated', 51), ('segment.small_pool.current', 51), ('segment.small_pool.freed', 0), ('segment.small_pool.peak', 51)])\n"
     ]
    },
    {
     "name": "stderr",
     "output_type": "stream",
     "text": [
      "100%|████████████████████████████████████████████████████████████████████████████████████████████████████████████████████████████████████████████████████████████████████████████████████████████████████| 291/291 [01:15<00:00,  3.87it/s]\n"
     ]
    },
    {
     "name": "stdout",
     "output_type": "stream",
     "text": [
      "Val   loss: 0.4194, Acc: 0.8665\n",
      "Val and misc time: 75.98956251144409\n",
      "Total time: 896.4458408355713\n",
      "Epoch 8/100\n"
     ]
    },
    {
     "name": "stderr",
     "output_type": "stream",
     "text": [
      "100%|██████████████████████████████████████████████████████████████████████████████████████████████████████████████████████████████████████████████████████████████████████████████████████████████████| 1163/1163 [13:40<00:00,  1.42it/s]\n"
     ]
    },
    {
     "name": "stdout",
     "output_type": "stream",
     "text": [
      "Train loss: 0.3171, Acc: 0.8933\n",
      "Train time: 820.4640779495239\n",
      "OrderedDict([('active.all.allocated', 32122880), ('active.all.current', 722), ('active.all.freed', 32122158), ('active.all.peak', 1301), ('active.large_pool.allocated', 12425494), ('active.large_pool.current', 171), ('active.large_pool.freed', 12425323), ('active.large_pool.peak', 455), ('active.small_pool.allocated', 19697386), ('active.small_pool.current', 551), ('active.small_pool.freed', 19696835), ('active.small_pool.peak', 923), ('active_bytes.all.allocated', 916364963504128), ('active_bytes.all.current', 814213632), ('active_bytes.all.freed', 916364149290496), ('active_bytes.all.peak', 21219656192), ('active_bytes.large_pool.allocated', 912314472768000), ('active_bytes.large_pool.current', 764690432), ('active_bytes.large_pool.freed', 912313708077568), ('active_bytes.large_pool.peak', 21118613504), ('active_bytes.small_pool.allocated', 4050490736128), ('active_bytes.small_pool.current', 49523200), ('active_bytes.small_pool.freed', 4050441212928), ('active_bytes.small_pool.peak', 103129600), ('allocated_bytes.all.allocated', 916364963504128), ('allocated_bytes.all.current', 814213632), ('allocated_bytes.all.freed', 916364149290496), ('allocated_bytes.all.peak', 21219656192), ('allocated_bytes.large_pool.allocated', 912314472768000), ('allocated_bytes.large_pool.current', 764690432), ('allocated_bytes.large_pool.freed', 912313708077568), ('allocated_bytes.large_pool.peak', 21118613504), ('allocated_bytes.small_pool.allocated', 4050490736128), ('allocated_bytes.small_pool.current', 49523200), ('allocated_bytes.small_pool.freed', 4050441212928), ('allocated_bytes.small_pool.peak', 103129600), ('allocation.all.allocated', 32122880), ('allocation.all.current', 722), ('allocation.all.freed', 32122158), ('allocation.all.peak', 1301), ('allocation.large_pool.allocated', 12425494), ('allocation.large_pool.current', 171), ('allocation.large_pool.freed', 12425323), ('allocation.large_pool.peak', 455), ('allocation.small_pool.allocated', 19697386), ('allocation.small_pool.current', 551), ('allocation.small_pool.freed', 19696835), ('allocation.small_pool.peak', 923), ('inactive_split.all.allocated', 15672923), ('inactive_split.all.current', 63), ('inactive_split.all.freed', 15672860), ('inactive_split.all.peak', 155), ('inactive_split.large_pool.allocated', 6020038), ('inactive_split.large_pool.current', 32), ('inactive_split.large_pool.freed', 6020006), ('inactive_split.large_pool.peak', 116), ('inactive_split.small_pool.allocated', 9652885), ('inactive_split.small_pool.current', 31), ('inactive_split.small_pool.freed', 9652854), ('inactive_split.small_pool.peak', 71), ('inactive_split_bytes.all.allocated', 368617837038080), ('inactive_split_bytes.all.current', 666375680), ('inactive_split_bytes.all.freed', 368617170662400), ('inactive_split_bytes.all.peak', 2876618752), ('inactive_split_bytes.large_pool.allocated', 364510300374528), ('inactive_split_bytes.large_pool.current', 655081472), ('inactive_split_bytes.large_pool.freed', 364509645293056), ('inactive_split_bytes.large_pool.peak', 2852038656), ('inactive_split_bytes.small_pool.allocated', 4107536663552), ('inactive_split_bytes.small_pool.current', 11294208), ('inactive_split_bytes.small_pool.freed', 4107525369344), ('inactive_split_bytes.small_pool.peak', 36898816), ('max_split_size', -1), ('num_alloc_retries', 0), ('num_ooms', 0), ('oversize_allocations.allocated', 0), ('oversize_allocations.current', 0), ('oversize_allocations.freed', 0), ('oversize_allocations.peak', 0), ('oversize_segments.allocated', 0), ('oversize_segments.current', 0), ('oversize_segments.freed', 0), ('oversize_segments.peak', 0), ('requested_bytes.all.allocated', 915530136424814), ('requested_bytes.all.current', 813142820), ('requested_bytes.all.freed', 915529323281994), ('requested_bytes.all.peak', 21200522092), ('requested_bytes.large_pool.allocated', 911480510716480), ('requested_bytes.large_pool.current', 763631616), ('requested_bytes.large_pool.freed', 911479747084864), ('requested_bytes.large_pool.peak', 21099512704), ('requested_bytes.small_pool.allocated', 4049625708334), ('requested_bytes.small_pool.current', 49511204), ('requested_bytes.small_pool.freed', 4049576197130), ('requested_bytes.small_pool.peak', 103115436), ('reserved_bytes.all.allocated', 21904752640), ('reserved_bytes.all.current', 21904752640), ('reserved_bytes.all.freed', 0), ('reserved_bytes.all.peak', 21904752640), ('reserved_bytes.large_pool.allocated', 21797797888), ('reserved_bytes.large_pool.current', 21797797888), ('reserved_bytes.large_pool.freed', 0), ('reserved_bytes.large_pool.peak', 21797797888), ('reserved_bytes.small_pool.allocated', 106954752), ('reserved_bytes.small_pool.current', 106954752), ('reserved_bytes.small_pool.freed', 0), ('reserved_bytes.small_pool.peak', 106954752), ('segment.all.allocated', 224), ('segment.all.current', 224), ('segment.all.freed', 0), ('segment.all.peak', 224), ('segment.large_pool.allocated', 173), ('segment.large_pool.current', 173), ('segment.large_pool.freed', 0), ('segment.large_pool.peak', 173), ('segment.small_pool.allocated', 51), ('segment.small_pool.current', 51), ('segment.small_pool.freed', 0), ('segment.small_pool.peak', 51)])\n"
     ]
    },
    {
     "name": "stderr",
     "output_type": "stream",
     "text": [
      "100%|████████████████████████████████████████████████████████████████████████████████████████████████████████████████████████████████████████████████████████████████████████████████████████████████████| 291/291 [01:15<00:00,  3.87it/s]\n"
     ]
    },
    {
     "name": "stdout",
     "output_type": "stream",
     "text": [
      "Val   loss: 0.4393, Acc: 0.8583\n",
      "Val and misc time: 75.99182081222534\n",
      "Total time: 896.4560244083405\n",
      "Epoch 9/100\n"
     ]
    },
    {
     "name": "stderr",
     "output_type": "stream",
     "text": [
      "100%|██████████████████████████████████████████████████████████████████████████████████████████████████████████████████████████████████████████████████████████████████████████████████████████████████| 1163/1163 [13:40<00:00,  1.42it/s]\n"
     ]
    },
    {
     "name": "stdout",
     "output_type": "stream",
     "text": [
      "Train loss: 0.2988, Acc: 0.8991\n",
      "Train time: 820.6183257102966\n",
      "OrderedDict([('active.all.allocated', 36178273), ('active.all.current', 722), ('active.all.freed', 36177551), ('active.all.peak', 1301), ('active.large_pool.allocated', 13995683), ('active.large_pool.current', 171), ('active.large_pool.freed', 13995512), ('active.large_pool.peak', 455), ('active.small_pool.allocated', 22182590), ('active.small_pool.current', 551), ('active.small_pool.freed', 22182039), ('active.small_pool.peak', 923), ('active_bytes.all.allocated', 1032303724502528), ('active_bytes.all.current', 814213632), ('active_bytes.all.freed', 1032302910288896), ('active_bytes.all.peak', 21219656192), ('active_bytes.large_pool.allocated', 1027742086944768), ('active_bytes.large_pool.current', 764690432), ('active_bytes.large_pool.freed', 1027741322254336), ('active_bytes.large_pool.peak', 21118613504), ('active_bytes.small_pool.allocated', 4561637557760), ('active_bytes.small_pool.current', 49523200), ('active_bytes.small_pool.freed', 4561588034560), ('active_bytes.small_pool.peak', 103129600), ('allocated_bytes.all.allocated', 1032303724502528), ('allocated_bytes.all.current', 814213632), ('allocated_bytes.all.freed', 1032302910288896), ('allocated_bytes.all.peak', 21219656192), ('allocated_bytes.large_pool.allocated', 1027742086944768), ('allocated_bytes.large_pool.current', 764690432), ('allocated_bytes.large_pool.freed', 1027741322254336), ('allocated_bytes.large_pool.peak', 21118613504), ('allocated_bytes.small_pool.allocated', 4561637557760), ('allocated_bytes.small_pool.current', 49523200), ('allocated_bytes.small_pool.freed', 4561588034560), ('allocated_bytes.small_pool.peak', 103129600), ('allocation.all.allocated', 36178273), ('allocation.all.current', 722), ('allocation.all.freed', 36177551), ('allocation.all.peak', 1301), ('allocation.large_pool.allocated', 13995683), ('allocation.large_pool.current', 171), ('allocation.large_pool.freed', 13995512), ('allocation.large_pool.peak', 455), ('allocation.small_pool.allocated', 22182590), ('allocation.small_pool.current', 551), ('allocation.small_pool.freed', 22182039), ('allocation.small_pool.peak', 923), ('inactive_split.all.allocated', 17653092), ('inactive_split.all.current', 63), ('inactive_split.all.freed', 17653029), ('inactive_split.all.peak', 155), ('inactive_split.large_pool.allocated', 6782504), ('inactive_split.large_pool.current', 32), ('inactive_split.large_pool.freed', 6782472), ('inactive_split.large_pool.peak', 116), ('inactive_split.small_pool.allocated', 10870588), ('inactive_split.small_pool.current', 31), ('inactive_split.small_pool.freed', 10870557), ('inactive_split.small_pool.peak', 71), ('inactive_split_bytes.all.allocated', 414762739402752), ('inactive_split_bytes.all.current', 666375680), ('inactive_split_bytes.all.freed', 414762073027072), ('inactive_split_bytes.all.peak', 2876618752), ('inactive_split_bytes.large_pool.allocated', 410136922973184), ('inactive_split_bytes.large_pool.current', 655081472), ('inactive_split_bytes.large_pool.freed', 410136267891712), ('inactive_split_bytes.large_pool.peak', 2852038656), ('inactive_split_bytes.small_pool.allocated', 4625816429568), ('inactive_split_bytes.small_pool.current', 11294208), ('inactive_split_bytes.small_pool.freed', 4625805135360), ('inactive_split_bytes.small_pool.peak', 36898816), ('max_split_size', -1), ('num_alloc_retries', 0), ('num_ooms', 0), ('oversize_allocations.allocated', 0), ('oversize_allocations.current', 0), ('oversize_allocations.freed', 0), ('oversize_allocations.peak', 0), ('oversize_segments.allocated', 0), ('oversize_segments.current', 0), ('oversize_segments.freed', 0), ('oversize_segments.peak', 0), ('requested_bytes.all.allocated', 1031363568245662), ('requested_bytes.all.current', 813142820), ('requested_bytes.all.freed', 1031362755102842), ('requested_bytes.all.peak', 21200522092), ('requested_bytes.large_pool.allocated', 1026802905026820), ('requested_bytes.large_pool.current', 763631616), ('requested_bytes.large_pool.freed', 1026802141395204), ('requested_bytes.large_pool.peak', 21099512704), ('requested_bytes.small_pool.allocated', 4560663218842), ('requested_bytes.small_pool.current', 49511204), ('requested_bytes.small_pool.freed', 4560613707638), ('requested_bytes.small_pool.peak', 103115436), ('reserved_bytes.all.allocated', 21904752640), ('reserved_bytes.all.current', 21904752640), ('reserved_bytes.all.freed', 0), ('reserved_bytes.all.peak', 21904752640), ('reserved_bytes.large_pool.allocated', 21797797888), ('reserved_bytes.large_pool.current', 21797797888), ('reserved_bytes.large_pool.freed', 0), ('reserved_bytes.large_pool.peak', 21797797888), ('reserved_bytes.small_pool.allocated', 106954752), ('reserved_bytes.small_pool.current', 106954752), ('reserved_bytes.small_pool.freed', 0), ('reserved_bytes.small_pool.peak', 106954752), ('segment.all.allocated', 224), ('segment.all.current', 224), ('segment.all.freed', 0), ('segment.all.peak', 224), ('segment.large_pool.allocated', 173), ('segment.large_pool.current', 173), ('segment.large_pool.freed', 0), ('segment.large_pool.peak', 173), ('segment.small_pool.allocated', 51), ('segment.small_pool.current', 51), ('segment.small_pool.freed', 0), ('segment.small_pool.peak', 51)])\n"
     ]
    },
    {
     "name": "stderr",
     "output_type": "stream",
     "text": [
      "100%|████████████████████████████████████████████████████████████████████████████████████████████████████████████████████████████████████████████████████████████████████████████████████████████████████| 291/291 [01:15<00:00,  3.87it/s]\n"
     ]
    },
    {
     "name": "stdout",
     "output_type": "stream",
     "text": [
      "Val   loss: 0.4356, Acc: 0.8616\n",
      "Val and misc time: 75.99872612953186\n",
      "Total time: 896.6171782016754\n",
      "Epoch 10/100\n"
     ]
    },
    {
     "name": "stderr",
     "output_type": "stream",
     "text": [
      "100%|██████████████████████████████████████████████████████████████████████████████████████████████████████████████████████████████████████████████████████████████████████████████████████████████████| 1163/1163 [13:40<00:00,  1.42it/s]\n"
     ]
    },
    {
     "name": "stdout",
     "output_type": "stream",
     "text": [
      "Train loss: 0.2863, Acc: 0.9032\n",
      "Train time: 820.6819107532501\n",
      "OrderedDict([('active.all.allocated', 40233666), ('active.all.current', 722), ('active.all.freed', 40232944), ('active.all.peak', 1301), ('active.large_pool.allocated', 15565872), ('active.large_pool.current', 171), ('active.large_pool.freed', 15565701), ('active.large_pool.peak', 455), ('active.small_pool.allocated', 24667794), ('active.small_pool.current', 551), ('active.small_pool.freed', 24667243), ('active.small_pool.peak', 923), ('active_bytes.all.allocated', 1148242485500928), ('active_bytes.all.current', 814213632), ('active_bytes.all.freed', 1148241671287296), ('active_bytes.all.peak', 21219656192), ('active_bytes.large_pool.allocated', 1143169701121536), ('active_bytes.large_pool.current', 764690432), ('active_bytes.large_pool.freed', 1143168936431104), ('active_bytes.large_pool.peak', 21118613504), ('active_bytes.small_pool.allocated', 5072784379392), ('active_bytes.small_pool.current', 49523200), ('active_bytes.small_pool.freed', 5072734856192), ('active_bytes.small_pool.peak', 103129600), ('allocated_bytes.all.allocated', 1148242485500928), ('allocated_bytes.all.current', 814213632), ('allocated_bytes.all.freed', 1148241671287296), ('allocated_bytes.all.peak', 21219656192), ('allocated_bytes.large_pool.allocated', 1143169701121536), ('allocated_bytes.large_pool.current', 764690432), ('allocated_bytes.large_pool.freed', 1143168936431104), ('allocated_bytes.large_pool.peak', 21118613504), ('allocated_bytes.small_pool.allocated', 5072784379392), ('allocated_bytes.small_pool.current', 49523200), ('allocated_bytes.small_pool.freed', 5072734856192), ('allocated_bytes.small_pool.peak', 103129600), ('allocation.all.allocated', 40233666), ('allocation.all.current', 722), ('allocation.all.freed', 40232944), ('allocation.all.peak', 1301), ('allocation.large_pool.allocated', 15565872), ('allocation.large_pool.current', 171), ('allocation.large_pool.freed', 15565701), ('allocation.large_pool.peak', 455), ('allocation.small_pool.allocated', 24667794), ('allocation.small_pool.current', 551), ('allocation.small_pool.freed', 24667243), ('allocation.small_pool.peak', 923), ('inactive_split.all.allocated', 19628217), ('inactive_split.all.current', 63), ('inactive_split.all.freed', 19628154), ('inactive_split.all.peak', 155), ('inactive_split.large_pool.allocated', 7544970), ('inactive_split.large_pool.current', 32), ('inactive_split.large_pool.freed', 7544938), ('inactive_split.large_pool.peak', 116), ('inactive_split.small_pool.allocated', 12083247), ('inactive_split.small_pool.current', 31), ('inactive_split.small_pool.freed', 12083216), ('inactive_split.small_pool.peak', 71), ('inactive_split_bytes.all.allocated', 460907641767424), ('inactive_split_bytes.all.current', 666375680), ('inactive_split_bytes.all.freed', 460906975391744), ('inactive_split_bytes.all.peak', 2876618752), ('inactive_split_bytes.large_pool.allocated', 455763545571840), ('inactive_split_bytes.large_pool.current', 655081472), ('inactive_split_bytes.large_pool.freed', 455762890490368), ('inactive_split_bytes.large_pool.peak', 2852038656), ('inactive_split_bytes.small_pool.allocated', 5144096195584), ('inactive_split_bytes.small_pool.current', 11294208), ('inactive_split_bytes.small_pool.freed', 5144084901376), ('inactive_split_bytes.small_pool.peak', 36898816), ('max_split_size', -1), ('num_alloc_retries', 0), ('num_ooms', 0), ('oversize_allocations.allocated', 0), ('oversize_allocations.current', 0), ('oversize_allocations.freed', 0), ('oversize_allocations.peak', 0), ('oversize_segments.allocated', 0), ('oversize_segments.current', 0), ('oversize_segments.freed', 0), ('oversize_segments.peak', 0), ('requested_bytes.all.allocated', 1147197000066510), ('requested_bytes.all.current', 813142820), ('requested_bytes.all.freed', 1147196186923690), ('requested_bytes.all.peak', 21200522092), ('requested_bytes.large_pool.allocated', 1142125299337160), ('requested_bytes.large_pool.current', 763631616), ('requested_bytes.large_pool.freed', 1142124535705544), ('requested_bytes.large_pool.peak', 21099512704), ('requested_bytes.small_pool.allocated', 5071700729350), ('requested_bytes.small_pool.current', 49511204), ('requested_bytes.small_pool.freed', 5071651218146), ('requested_bytes.small_pool.peak', 103115436), ('reserved_bytes.all.allocated', 21904752640), ('reserved_bytes.all.current', 21904752640), ('reserved_bytes.all.freed', 0), ('reserved_bytes.all.peak', 21904752640), ('reserved_bytes.large_pool.allocated', 21797797888), ('reserved_bytes.large_pool.current', 21797797888), ('reserved_bytes.large_pool.freed', 0), ('reserved_bytes.large_pool.peak', 21797797888), ('reserved_bytes.small_pool.allocated', 106954752), ('reserved_bytes.small_pool.current', 106954752), ('reserved_bytes.small_pool.freed', 0), ('reserved_bytes.small_pool.peak', 106954752), ('segment.all.allocated', 224), ('segment.all.current', 224), ('segment.all.freed', 0), ('segment.all.peak', 224), ('segment.large_pool.allocated', 173), ('segment.large_pool.current', 173), ('segment.large_pool.freed', 0), ('segment.large_pool.peak', 173), ('segment.small_pool.allocated', 51), ('segment.small_pool.current', 51), ('segment.small_pool.freed', 0), ('segment.small_pool.peak', 51)])\n"
     ]
    },
    {
     "name": "stderr",
     "output_type": "stream",
     "text": [
      "100%|████████████████████████████████████████████████████████████████████████████████████████████████████████████████████████████████████████████████████████████████████████████████████████████████████| 291/291 [01:15<00:00,  3.87it/s]\n"
     ]
    },
    {
     "name": "stdout",
     "output_type": "stream",
     "text": [
      "Val   loss: 0.4433, Acc: 0.8559\n",
      "Val and misc time: 75.95457530021667\n",
      "Total time: 896.6365687847137\n",
      "Epoch 11/100\n"
     ]
    },
    {
     "name": "stderr",
     "output_type": "stream",
     "text": [
      "100%|██████████████████████████████████████████████████████████████████████████████████████████████████████████████████████████████████████████████████████████████████████████████████████████████████| 1163/1163 [13:42<00:00,  1.41it/s]\n"
     ]
    },
    {
     "name": "stdout",
     "output_type": "stream",
     "text": [
      "Train loss: 0.2712, Acc: 0.9074\n",
      "Train time: 822.4178295135498\n",
      "OrderedDict([('active.all.allocated', 44289059), ('active.all.current', 722), ('active.all.freed', 44288337), ('active.all.peak', 1301), ('active.large_pool.allocated', 17136061), ('active.large_pool.current', 171), ('active.large_pool.freed', 17135890), ('active.large_pool.peak', 455), ('active.small_pool.allocated', 27152998), ('active.small_pool.current', 551), ('active.small_pool.freed', 27152447), ('active.small_pool.peak', 923), ('active_bytes.all.allocated', 1264181246499328), ('active_bytes.all.current', 814213632), ('active_bytes.all.freed', 1264180432285696), ('active_bytes.all.peak', 21219656192), ('active_bytes.large_pool.allocated', 1258597315298304), ('active_bytes.large_pool.current', 764690432), ('active_bytes.large_pool.freed', 1258596550607872), ('active_bytes.large_pool.peak', 21118613504), ('active_bytes.small_pool.allocated', 5583931201024), ('active_bytes.small_pool.current', 49523200), ('active_bytes.small_pool.freed', 5583881677824), ('active_bytes.small_pool.peak', 103129600), ('allocated_bytes.all.allocated', 1264181246499328), ('allocated_bytes.all.current', 814213632), ('allocated_bytes.all.freed', 1264180432285696), ('allocated_bytes.all.peak', 21219656192), ('allocated_bytes.large_pool.allocated', 1258597315298304), ('allocated_bytes.large_pool.current', 764690432), ('allocated_bytes.large_pool.freed', 1258596550607872), ('allocated_bytes.large_pool.peak', 21118613504), ('allocated_bytes.small_pool.allocated', 5583931201024), ('allocated_bytes.small_pool.current', 49523200), ('allocated_bytes.small_pool.freed', 5583881677824), ('allocated_bytes.small_pool.peak', 103129600), ('allocation.all.allocated', 44289059), ('allocation.all.current', 722), ('allocation.all.freed', 44288337), ('allocation.all.peak', 1301), ('allocation.large_pool.allocated', 17136061), ('allocation.large_pool.current', 171), ('allocation.large_pool.freed', 17135890), ('allocation.large_pool.peak', 455), ('allocation.small_pool.allocated', 27152998), ('allocation.small_pool.current', 551), ('allocation.small_pool.freed', 27152447), ('allocation.small_pool.peak', 923), ('inactive_split.all.allocated', 21608386), ('inactive_split.all.current', 63), ('inactive_split.all.freed', 21608323), ('inactive_split.all.peak', 155), ('inactive_split.large_pool.allocated', 8307436), ('inactive_split.large_pool.current', 32), ('inactive_split.large_pool.freed', 8307404), ('inactive_split.large_pool.peak', 116), ('inactive_split.small_pool.allocated', 13300950), ('inactive_split.small_pool.current', 31), ('inactive_split.small_pool.freed', 13300919), ('inactive_split.small_pool.peak', 71), ('inactive_split_bytes.all.allocated', 507052544132096), ('inactive_split_bytes.all.current', 666375680), ('inactive_split_bytes.all.freed', 507051877756416), ('inactive_split_bytes.all.peak', 2876618752), ('inactive_split_bytes.large_pool.allocated', 501390168170496), ('inactive_split_bytes.large_pool.current', 655081472), ('inactive_split_bytes.large_pool.freed', 501389513089024), ('inactive_split_bytes.large_pool.peak', 2852038656), ('inactive_split_bytes.small_pool.allocated', 5662375961600), ('inactive_split_bytes.small_pool.current', 11294208), ('inactive_split_bytes.small_pool.freed', 5662364667392), ('inactive_split_bytes.small_pool.peak', 36898816), ('max_split_size', -1), ('num_alloc_retries', 0), ('num_ooms', 0), ('oversize_allocations.allocated', 0), ('oversize_allocations.current', 0), ('oversize_allocations.freed', 0), ('oversize_allocations.peak', 0), ('oversize_segments.allocated', 0), ('oversize_segments.current', 0), ('oversize_segments.freed', 0), ('oversize_segments.peak', 0), ('requested_bytes.all.allocated', 1263030431887358), ('requested_bytes.all.current', 813142820), ('requested_bytes.all.freed', 1263029618744538), ('requested_bytes.all.peak', 21200522092), ('requested_bytes.large_pool.allocated', 1257447693647500), ('requested_bytes.large_pool.current', 763631616), ('requested_bytes.large_pool.freed', 1257446930015884), ('requested_bytes.large_pool.peak', 21099512704), ('requested_bytes.small_pool.allocated', 5582738239858), ('requested_bytes.small_pool.current', 49511204), ('requested_bytes.small_pool.freed', 5582688728654), ('requested_bytes.small_pool.peak', 103115436), ('reserved_bytes.all.allocated', 21904752640), ('reserved_bytes.all.current', 21904752640), ('reserved_bytes.all.freed', 0), ('reserved_bytes.all.peak', 21904752640), ('reserved_bytes.large_pool.allocated', 21797797888), ('reserved_bytes.large_pool.current', 21797797888), ('reserved_bytes.large_pool.freed', 0), ('reserved_bytes.large_pool.peak', 21797797888), ('reserved_bytes.small_pool.allocated', 106954752), ('reserved_bytes.small_pool.current', 106954752), ('reserved_bytes.small_pool.freed', 0), ('reserved_bytes.small_pool.peak', 106954752), ('segment.all.allocated', 224), ('segment.all.current', 224), ('segment.all.freed', 0), ('segment.all.peak', 224), ('segment.large_pool.allocated', 173), ('segment.large_pool.current', 173), ('segment.large_pool.freed', 0), ('segment.large_pool.peak', 173), ('segment.small_pool.allocated', 51), ('segment.small_pool.current', 51), ('segment.small_pool.freed', 0), ('segment.small_pool.peak', 51)])\n"
     ]
    },
    {
     "name": "stderr",
     "output_type": "stream",
     "text": [
      "100%|████████████████████████████████████████████████████████████████████████████████████████████████████████████████████████████████████████████████████████████████████████████████████████████████████| 291/291 [01:15<00:00,  3.85it/s]\n"
     ]
    },
    {
     "name": "stdout",
     "output_type": "stream",
     "text": [
      "Val   loss: 0.4706, Acc: 0.8623\n",
      "Val and misc time: 76.36956810951233\n",
      "Total time: 898.7875101566315\n",
      "Epoch 12/100\n"
     ]
    },
    {
     "name": "stderr",
     "output_type": "stream",
     "text": [
      "100%|██████████████████████████████████████████████████████████████████████████████████████████████████████████████████████████████████████████████████████████████████████████████████████████████████| 1163/1163 [13:42<00:00,  1.41it/s]\n"
     ]
    },
    {
     "name": "stdout",
     "output_type": "stream",
     "text": [
      "Train loss: 0.2584, Acc: 0.9109\n",
      "Train time: 822.216808795929\n",
      "OrderedDict([('active.all.allocated', 48344452), ('active.all.current', 722), ('active.all.freed', 48343730), ('active.all.peak', 1301), ('active.large_pool.allocated', 18706250), ('active.large_pool.current', 171), ('active.large_pool.freed', 18706079), ('active.large_pool.peak', 455), ('active.small_pool.allocated', 29638202), ('active.small_pool.current', 551), ('active.small_pool.freed', 29637651), ('active.small_pool.peak', 923), ('active_bytes.all.allocated', 1380120007497728), ('active_bytes.all.current', 814213632), ('active_bytes.all.freed', 1380119193284096), ('active_bytes.all.peak', 21219656192), ('active_bytes.large_pool.allocated', 1374024929475072), ('active_bytes.large_pool.current', 764690432), ('active_bytes.large_pool.freed', 1374024164784640), ('active_bytes.large_pool.peak', 21118613504), ('active_bytes.small_pool.allocated', 6095078022656), ('active_bytes.small_pool.current', 49523200), ('active_bytes.small_pool.freed', 6095028499456), ('active_bytes.small_pool.peak', 103129600), ('allocated_bytes.all.allocated', 1380120007497728), ('allocated_bytes.all.current', 814213632), ('allocated_bytes.all.freed', 1380119193284096), ('allocated_bytes.all.peak', 21219656192), ('allocated_bytes.large_pool.allocated', 1374024929475072), ('allocated_bytes.large_pool.current', 764690432), ('allocated_bytes.large_pool.freed', 1374024164784640), ('allocated_bytes.large_pool.peak', 21118613504), ('allocated_bytes.small_pool.allocated', 6095078022656), ('allocated_bytes.small_pool.current', 49523200), ('allocated_bytes.small_pool.freed', 6095028499456), ('allocated_bytes.small_pool.peak', 103129600), ('allocation.all.allocated', 48344452), ('allocation.all.current', 722), ('allocation.all.freed', 48343730), ('allocation.all.peak', 1301), ('allocation.large_pool.allocated', 18706250), ('allocation.large_pool.current', 171), ('allocation.large_pool.freed', 18706079), ('allocation.large_pool.peak', 455), ('allocation.small_pool.allocated', 29638202), ('allocation.small_pool.current', 551), ('allocation.small_pool.freed', 29637651), ('allocation.small_pool.peak', 923), ('inactive_split.all.allocated', 23583511), ('inactive_split.all.current', 63), ('inactive_split.all.freed', 23583448), ('inactive_split.all.peak', 155), ('inactive_split.large_pool.allocated', 9069902), ('inactive_split.large_pool.current', 32), ('inactive_split.large_pool.freed', 9069870), ('inactive_split.large_pool.peak', 116), ('inactive_split.small_pool.allocated', 14513609), ('inactive_split.small_pool.current', 31), ('inactive_split.small_pool.freed', 14513578), ('inactive_split.small_pool.peak', 71), ('inactive_split_bytes.all.allocated', 553197446496768), ('inactive_split_bytes.all.current', 666375680), ('inactive_split_bytes.all.freed', 553196780121088), ('inactive_split_bytes.all.peak', 2876618752), ('inactive_split_bytes.large_pool.allocated', 547016790769152), ('inactive_split_bytes.large_pool.current', 655081472), ('inactive_split_bytes.large_pool.freed', 547016135687680), ('inactive_split_bytes.large_pool.peak', 2852038656), ('inactive_split_bytes.small_pool.allocated', 6180655727616), ('inactive_split_bytes.small_pool.current', 11294208), ('inactive_split_bytes.small_pool.freed', 6180644433408), ('inactive_split_bytes.small_pool.peak', 36898816), ('max_split_size', -1), ('num_alloc_retries', 0), ('num_ooms', 0), ('oversize_allocations.allocated', 0), ('oversize_allocations.current', 0), ('oversize_allocations.freed', 0), ('oversize_allocations.peak', 0), ('oversize_segments.allocated', 0), ('oversize_segments.current', 0), ('oversize_segments.freed', 0), ('oversize_segments.peak', 0), ('requested_bytes.all.allocated', 1378863863708206), ('requested_bytes.all.current', 813142820), ('requested_bytes.all.freed', 1378863050565386), ('requested_bytes.all.peak', 21200522092), ('requested_bytes.large_pool.allocated', 1372770087957840), ('requested_bytes.large_pool.current', 763631616), ('requested_bytes.large_pool.freed', 1372769324326224), ('requested_bytes.large_pool.peak', 21099512704), ('requested_bytes.small_pool.allocated', 6093775750366), ('requested_bytes.small_pool.current', 49511204), ('requested_bytes.small_pool.freed', 6093726239162), ('requested_bytes.small_pool.peak', 103115436), ('reserved_bytes.all.allocated', 21904752640), ('reserved_bytes.all.current', 21904752640), ('reserved_bytes.all.freed', 0), ('reserved_bytes.all.peak', 21904752640), ('reserved_bytes.large_pool.allocated', 21797797888), ('reserved_bytes.large_pool.current', 21797797888), ('reserved_bytes.large_pool.freed', 0), ('reserved_bytes.large_pool.peak', 21797797888), ('reserved_bytes.small_pool.allocated', 106954752), ('reserved_bytes.small_pool.current', 106954752), ('reserved_bytes.small_pool.freed', 0), ('reserved_bytes.small_pool.peak', 106954752), ('segment.all.allocated', 224), ('segment.all.current', 224), ('segment.all.freed', 0), ('segment.all.peak', 224), ('segment.large_pool.allocated', 173), ('segment.large_pool.current', 173), ('segment.large_pool.freed', 0), ('segment.large_pool.peak', 173), ('segment.small_pool.allocated', 51), ('segment.small_pool.current', 51), ('segment.small_pool.freed', 0), ('segment.small_pool.peak', 51)])\n"
     ]
    },
    {
     "name": "stderr",
     "output_type": "stream",
     "text": [
      "100%|████████████████████████████████████████████████████████████████████████████████████████████████████████████████████████████████████████████████████████████████████████████████████████████████████| 291/291 [01:15<00:00,  3.85it/s]\n"
     ]
    },
    {
     "name": "stdout",
     "output_type": "stream",
     "text": [
      "Val   loss: 0.4810, Acc: 0.8522\n",
      "Val and misc time: 76.46584296226501\n",
      "Total time: 898.682776927948\n",
      "Epoch 13/100\n"
     ]
    },
    {
     "name": "stderr",
     "output_type": "stream",
     "text": [
      "100%|██████████████████████████████████████████████████████████████████████████████████████████████████████████████████████████████████████████████████████████████████████████████████████████████████| 1163/1163 [13:42<00:00,  1.41it/s]\n"
     ]
    },
    {
     "name": "stdout",
     "output_type": "stream",
     "text": [
      "Train loss: 0.2432, Acc: 0.9166\n",
      "Train time: 822.1646957397461\n",
      "OrderedDict([('active.all.allocated', 52399845), ('active.all.current', 722), ('active.all.freed', 52399123), ('active.all.peak', 1301), ('active.large_pool.allocated', 20276439), ('active.large_pool.current', 171), ('active.large_pool.freed', 20276268), ('active.large_pool.peak', 455), ('active.small_pool.allocated', 32123406), ('active.small_pool.current', 551), ('active.small_pool.freed', 32122855), ('active.small_pool.peak', 923), ('active_bytes.all.allocated', 1496058768496128), ('active_bytes.all.current', 814213632), ('active_bytes.all.freed', 1496057954282496), ('active_bytes.all.peak', 21219656192), ('active_bytes.large_pool.allocated', 1489452543651840), ('active_bytes.large_pool.current', 764690432), ('active_bytes.large_pool.freed', 1489451778961408), ('active_bytes.large_pool.peak', 21118613504), ('active_bytes.small_pool.allocated', 6606224844288), ('active_bytes.small_pool.current', 49523200), ('active_bytes.small_pool.freed', 6606175321088), ('active_bytes.small_pool.peak', 103129600), ('allocated_bytes.all.allocated', 1496058768496128), ('allocated_bytes.all.current', 814213632), ('allocated_bytes.all.freed', 1496057954282496), ('allocated_bytes.all.peak', 21219656192), ('allocated_bytes.large_pool.allocated', 1489452543651840), ('allocated_bytes.large_pool.current', 764690432), ('allocated_bytes.large_pool.freed', 1489451778961408), ('allocated_bytes.large_pool.peak', 21118613504), ('allocated_bytes.small_pool.allocated', 6606224844288), ('allocated_bytes.small_pool.current', 49523200), ('allocated_bytes.small_pool.freed', 6606175321088), ('allocated_bytes.small_pool.peak', 103129600), ('allocation.all.allocated', 52399845), ('allocation.all.current', 722), ('allocation.all.freed', 52399123), ('allocation.all.peak', 1301), ('allocation.large_pool.allocated', 20276439), ('allocation.large_pool.current', 171), ('allocation.large_pool.freed', 20276268), ('allocation.large_pool.peak', 455), ('allocation.small_pool.allocated', 32123406), ('allocation.small_pool.current', 551), ('allocation.small_pool.freed', 32122855), ('allocation.small_pool.peak', 923), ('inactive_split.all.allocated', 25563680), ('inactive_split.all.current', 63), ('inactive_split.all.freed', 25563617), ('inactive_split.all.peak', 155), ('inactive_split.large_pool.allocated', 9832368), ('inactive_split.large_pool.current', 32), ('inactive_split.large_pool.freed', 9832336), ('inactive_split.large_pool.peak', 116), ('inactive_split.small_pool.allocated', 15731312), ('inactive_split.small_pool.current', 31), ('inactive_split.small_pool.freed', 15731281), ('inactive_split.small_pool.peak', 71), ('inactive_split_bytes.all.allocated', 599342348861440), ('inactive_split_bytes.all.current', 666375680), ('inactive_split_bytes.all.freed', 599341682485760), ('inactive_split_bytes.all.peak', 2876618752), ('inactive_split_bytes.large_pool.allocated', 592643413367808), ('inactive_split_bytes.large_pool.current', 655081472), ('inactive_split_bytes.large_pool.freed', 592642758286336), ('inactive_split_bytes.large_pool.peak', 2852038656), ('inactive_split_bytes.small_pool.allocated', 6698935493632), ('inactive_split_bytes.small_pool.current', 11294208), ('inactive_split_bytes.small_pool.freed', 6698924199424), ('inactive_split_bytes.small_pool.peak', 36898816), ('max_split_size', -1), ('num_alloc_retries', 0), ('num_ooms', 0), ('oversize_allocations.allocated', 0), ('oversize_allocations.current', 0), ('oversize_allocations.freed', 0), ('oversize_allocations.peak', 0), ('oversize_segments.allocated', 0), ('oversize_segments.current', 0), ('oversize_segments.freed', 0), ('oversize_segments.peak', 0), ('requested_bytes.all.allocated', 1494697295529054), ('requested_bytes.all.current', 813142820), ('requested_bytes.all.freed', 1494696482386234), ('requested_bytes.all.peak', 21200522092), ('requested_bytes.large_pool.allocated', 1488092482268180), ('requested_bytes.large_pool.current', 763631616), ('requested_bytes.large_pool.freed', 1488091718636564), ('requested_bytes.large_pool.peak', 21099512704), ('requested_bytes.small_pool.allocated', 6604813260874), ('requested_bytes.small_pool.current', 49511204), ('requested_bytes.small_pool.freed', 6604763749670), ('requested_bytes.small_pool.peak', 103115436), ('reserved_bytes.all.allocated', 21904752640), ('reserved_bytes.all.current', 21904752640), ('reserved_bytes.all.freed', 0), ('reserved_bytes.all.peak', 21904752640), ('reserved_bytes.large_pool.allocated', 21797797888), ('reserved_bytes.large_pool.current', 21797797888), ('reserved_bytes.large_pool.freed', 0), ('reserved_bytes.large_pool.peak', 21797797888), ('reserved_bytes.small_pool.allocated', 106954752), ('reserved_bytes.small_pool.current', 106954752), ('reserved_bytes.small_pool.freed', 0), ('reserved_bytes.small_pool.peak', 106954752), ('segment.all.allocated', 224), ('segment.all.current', 224), ('segment.all.freed', 0), ('segment.all.peak', 224), ('segment.large_pool.allocated', 173), ('segment.large_pool.current', 173), ('segment.large_pool.freed', 0), ('segment.large_pool.peak', 173), ('segment.small_pool.allocated', 51), ('segment.small_pool.current', 51), ('segment.small_pool.freed', 0), ('segment.small_pool.peak', 51)])\n"
     ]
    },
    {
     "name": "stderr",
     "output_type": "stream",
     "text": [
      "100%|████████████████████████████████████████████████████████████████████████████████████████████████████████████████████████████████████████████████████████████████████████████████████████████████████| 291/291 [01:15<00:00,  3.88it/s]\n"
     ]
    },
    {
     "name": "stdout",
     "output_type": "stream",
     "text": [
      "Val   loss: 0.4797, Acc: 0.8572\n",
      "Val and misc time: 75.92659139633179\n",
      "Total time: 898.0914046764374\n",
      "Epoch 14/100\n"
     ]
    },
    {
     "name": "stderr",
     "output_type": "stream",
     "text": [
      "100%|██████████████████████████████████████████████████████████████████████████████████████████████████████████████████████████████████████████████████████████████████████████████████████████████████| 1163/1163 [13:39<00:00,  1.42it/s]\n"
     ]
    },
    {
     "name": "stdout",
     "output_type": "stream",
     "text": [
      "Train loss: 0.2281, Acc: 0.9223\n",
      "Train time: 819.971431016922\n",
      "OrderedDict([('active.all.allocated', 56455238), ('active.all.current', 722), ('active.all.freed', 56454516), ('active.all.peak', 1301), ('active.large_pool.allocated', 21846628), ('active.large_pool.current', 171), ('active.large_pool.freed', 21846457), ('active.large_pool.peak', 455), ('active.small_pool.allocated', 34608610), ('active.small_pool.current', 551), ('active.small_pool.freed', 34608059), ('active.small_pool.peak', 923), ('active_bytes.all.allocated', 1611997529494528), ('active_bytes.all.current', 814213632), ('active_bytes.all.freed', 1611996715280896), ('active_bytes.all.peak', 21219656192), ('active_bytes.large_pool.allocated', 1604880157828608), ('active_bytes.large_pool.current', 764690432), ('active_bytes.large_pool.freed', 1604879393138176), ('active_bytes.large_pool.peak', 21118613504), ('active_bytes.small_pool.allocated', 7117371665920), ('active_bytes.small_pool.current', 49523200), ('active_bytes.small_pool.freed', 7117322142720), ('active_bytes.small_pool.peak', 103129600), ('allocated_bytes.all.allocated', 1611997529494528), ('allocated_bytes.all.current', 814213632), ('allocated_bytes.all.freed', 1611996715280896), ('allocated_bytes.all.peak', 21219656192), ('allocated_bytes.large_pool.allocated', 1604880157828608), ('allocated_bytes.large_pool.current', 764690432), ('allocated_bytes.large_pool.freed', 1604879393138176), ('allocated_bytes.large_pool.peak', 21118613504), ('allocated_bytes.small_pool.allocated', 7117371665920), ('allocated_bytes.small_pool.current', 49523200), ('allocated_bytes.small_pool.freed', 7117322142720), ('allocated_bytes.small_pool.peak', 103129600), ('allocation.all.allocated', 56455238), ('allocation.all.current', 722), ('allocation.all.freed', 56454516), ('allocation.all.peak', 1301), ('allocation.large_pool.allocated', 21846628), ('allocation.large_pool.current', 171), ('allocation.large_pool.freed', 21846457), ('allocation.large_pool.peak', 455), ('allocation.small_pool.allocated', 34608610), ('allocation.small_pool.current', 551), ('allocation.small_pool.freed', 34608059), ('allocation.small_pool.peak', 923), ('inactive_split.all.allocated', 27538805), ('inactive_split.all.current', 63), ('inactive_split.all.freed', 27538742), ('inactive_split.all.peak', 155), ('inactive_split.large_pool.allocated', 10594834), ('inactive_split.large_pool.current', 32), ('inactive_split.large_pool.freed', 10594802), ('inactive_split.large_pool.peak', 116), ('inactive_split.small_pool.allocated', 16943971), ('inactive_split.small_pool.current', 31), ('inactive_split.small_pool.freed', 16943940), ('inactive_split.small_pool.peak', 71), ('inactive_split_bytes.all.allocated', 645487251226112), ('inactive_split_bytes.all.current', 666375680), ('inactive_split_bytes.all.freed', 645486584850432), ('inactive_split_bytes.all.peak', 2876618752), ('inactive_split_bytes.large_pool.allocated', 638270035966464), ('inactive_split_bytes.large_pool.current', 655081472), ('inactive_split_bytes.large_pool.freed', 638269380884992), ('inactive_split_bytes.large_pool.peak', 2852038656), ('inactive_split_bytes.small_pool.allocated', 7217215259648), ('inactive_split_bytes.small_pool.current', 11294208), ('inactive_split_bytes.small_pool.freed', 7217203965440), ('inactive_split_bytes.small_pool.peak', 36898816), ('max_split_size', -1), ('num_alloc_retries', 0), ('num_ooms', 0), ('oversize_allocations.allocated', 0), ('oversize_allocations.current', 0), ('oversize_allocations.freed', 0), ('oversize_allocations.peak', 0), ('oversize_segments.allocated', 0), ('oversize_segments.current', 0), ('oversize_segments.freed', 0), ('oversize_segments.peak', 0), ('requested_bytes.all.allocated', 1610530727349902), ('requested_bytes.all.current', 813142820), ('requested_bytes.all.freed', 1610529914207082), ('requested_bytes.all.peak', 21200522092), ('requested_bytes.large_pool.allocated', 1603414876578520), ('requested_bytes.large_pool.current', 763631616), ('requested_bytes.large_pool.freed', 1603414112946904), ('requested_bytes.large_pool.peak', 21099512704), ('requested_bytes.small_pool.allocated', 7115850771382), ('requested_bytes.small_pool.current', 49511204), ('requested_bytes.small_pool.freed', 7115801260178), ('requested_bytes.small_pool.peak', 103115436), ('reserved_bytes.all.allocated', 21904752640), ('reserved_bytes.all.current', 21904752640), ('reserved_bytes.all.freed', 0), ('reserved_bytes.all.peak', 21904752640), ('reserved_bytes.large_pool.allocated', 21797797888), ('reserved_bytes.large_pool.current', 21797797888), ('reserved_bytes.large_pool.freed', 0), ('reserved_bytes.large_pool.peak', 21797797888), ('reserved_bytes.small_pool.allocated', 106954752), ('reserved_bytes.small_pool.current', 106954752), ('reserved_bytes.small_pool.freed', 0), ('reserved_bytes.small_pool.peak', 106954752), ('segment.all.allocated', 224), ('segment.all.current', 224), ('segment.all.freed', 0), ('segment.all.peak', 224), ('segment.large_pool.allocated', 173), ('segment.large_pool.current', 173), ('segment.large_pool.freed', 0), ('segment.large_pool.peak', 173), ('segment.small_pool.allocated', 51), ('segment.small_pool.current', 51), ('segment.small_pool.freed', 0), ('segment.small_pool.peak', 51)])\n"
     ]
    },
    {
     "name": "stderr",
     "output_type": "stream",
     "text": [
      "100%|████████████████████████████████████████████████████████████████████████████████████████████████████████████████████████████████████████████████████████████████████████████████████████████████████| 291/291 [01:15<00:00,  3.88it/s]\n"
     ]
    },
    {
     "name": "stdout",
     "output_type": "stream",
     "text": [
      "Val   loss: 0.5220, Acc: 0.8424\n",
      "Val and misc time: 75.93598079681396\n",
      "Total time: 895.9075605869293\n",
      "Epoch 15/100\n"
     ]
    },
    {
     "name": "stderr",
     "output_type": "stream",
     "text": [
      "100%|██████████████████████████████████████████████████████████████████████████████████████████████████████████████████████████████████████████████████████████████████████████████████████████████████| 1163/1163 [13:39<00:00,  1.42it/s]\n"
     ]
    },
    {
     "name": "stdout",
     "output_type": "stream",
     "text": [
      "Train loss: 0.2186, Acc: 0.9241\n",
      "Train time: 819.9825131893158\n",
      "OrderedDict([('active.all.allocated', 60510631), ('active.all.current', 722), ('active.all.freed', 60509909), ('active.all.peak', 1301), ('active.large_pool.allocated', 23416817), ('active.large_pool.current', 171), ('active.large_pool.freed', 23416646), ('active.large_pool.peak', 455), ('active.small_pool.allocated', 37093814), ('active.small_pool.current', 551), ('active.small_pool.freed', 37093263), ('active.small_pool.peak', 923), ('active_bytes.all.allocated', 1727936290492928), ('active_bytes.all.current', 814213632), ('active_bytes.all.freed', 1727935476279296), ('active_bytes.all.peak', 21219656192), ('active_bytes.large_pool.allocated', 1720307772005376), ('active_bytes.large_pool.current', 764690432), ('active_bytes.large_pool.freed', 1720307007314944), ('active_bytes.large_pool.peak', 21118613504), ('active_bytes.small_pool.allocated', 7628518487552), ('active_bytes.small_pool.current', 49523200), ('active_bytes.small_pool.freed', 7628468964352), ('active_bytes.small_pool.peak', 103129600), ('allocated_bytes.all.allocated', 1727936290492928), ('allocated_bytes.all.current', 814213632), ('allocated_bytes.all.freed', 1727935476279296), ('allocated_bytes.all.peak', 21219656192), ('allocated_bytes.large_pool.allocated', 1720307772005376), ('allocated_bytes.large_pool.current', 764690432), ('allocated_bytes.large_pool.freed', 1720307007314944), ('allocated_bytes.large_pool.peak', 21118613504), ('allocated_bytes.small_pool.allocated', 7628518487552), ('allocated_bytes.small_pool.current', 49523200), ('allocated_bytes.small_pool.freed', 7628468964352), ('allocated_bytes.small_pool.peak', 103129600), ('allocation.all.allocated', 60510631), ('allocation.all.current', 722), ('allocation.all.freed', 60509909), ('allocation.all.peak', 1301), ('allocation.large_pool.allocated', 23416817), ('allocation.large_pool.current', 171), ('allocation.large_pool.freed', 23416646), ('allocation.large_pool.peak', 455), ('allocation.small_pool.allocated', 37093814), ('allocation.small_pool.current', 551), ('allocation.small_pool.freed', 37093263), ('allocation.small_pool.peak', 923), ('inactive_split.all.allocated', 29518974), ('inactive_split.all.current', 63), ('inactive_split.all.freed', 29518911), ('inactive_split.all.peak', 155), ('inactive_split.large_pool.allocated', 11357300), ('inactive_split.large_pool.current', 32), ('inactive_split.large_pool.freed', 11357268), ('inactive_split.large_pool.peak', 116), ('inactive_split.small_pool.allocated', 18161674), ('inactive_split.small_pool.current', 31), ('inactive_split.small_pool.freed', 18161643), ('inactive_split.small_pool.peak', 71), ('inactive_split_bytes.all.allocated', 691632153590784), ('inactive_split_bytes.all.current', 666375680), ('inactive_split_bytes.all.freed', 691631487215104), ('inactive_split_bytes.all.peak', 2876618752), ('inactive_split_bytes.large_pool.allocated', 683896658565120), ('inactive_split_bytes.large_pool.current', 655081472), ('inactive_split_bytes.large_pool.freed', 683896003483648), ('inactive_split_bytes.large_pool.peak', 2852038656), ('inactive_split_bytes.small_pool.allocated', 7735495025664), ('inactive_split_bytes.small_pool.current', 11294208), ('inactive_split_bytes.small_pool.freed', 7735483731456), ('inactive_split_bytes.small_pool.peak', 36898816), ('max_split_size', -1), ('num_alloc_retries', 0), ('num_ooms', 0), ('oversize_allocations.allocated', 0), ('oversize_allocations.current', 0), ('oversize_allocations.freed', 0), ('oversize_allocations.peak', 0), ('oversize_segments.allocated', 0), ('oversize_segments.current', 0), ('oversize_segments.freed', 0), ('oversize_segments.peak', 0), ('requested_bytes.all.allocated', 1726364159170750), ('requested_bytes.all.current', 813142820), ('requested_bytes.all.freed', 1726363346027930), ('requested_bytes.all.peak', 21200522092), ('requested_bytes.large_pool.allocated', 1718737270888860), ('requested_bytes.large_pool.current', 763631616), ('requested_bytes.large_pool.freed', 1718736507257244), ('requested_bytes.large_pool.peak', 21099512704), ('requested_bytes.small_pool.allocated', 7626888281890), ('requested_bytes.small_pool.current', 49511204), ('requested_bytes.small_pool.freed', 7626838770686), ('requested_bytes.small_pool.peak', 103115436), ('reserved_bytes.all.allocated', 21904752640), ('reserved_bytes.all.current', 21904752640), ('reserved_bytes.all.freed', 0), ('reserved_bytes.all.peak', 21904752640), ('reserved_bytes.large_pool.allocated', 21797797888), ('reserved_bytes.large_pool.current', 21797797888), ('reserved_bytes.large_pool.freed', 0), ('reserved_bytes.large_pool.peak', 21797797888), ('reserved_bytes.small_pool.allocated', 106954752), ('reserved_bytes.small_pool.current', 106954752), ('reserved_bytes.small_pool.freed', 0), ('reserved_bytes.small_pool.peak', 106954752), ('segment.all.allocated', 224), ('segment.all.current', 224), ('segment.all.freed', 0), ('segment.all.peak', 224), ('segment.large_pool.allocated', 173), ('segment.large_pool.current', 173), ('segment.large_pool.freed', 0), ('segment.large_pool.peak', 173), ('segment.small_pool.allocated', 51), ('segment.small_pool.current', 51), ('segment.small_pool.freed', 0), ('segment.small_pool.peak', 51)])\n"
     ]
    },
    {
     "name": "stderr",
     "output_type": "stream",
     "text": [
      "100%|████████████████████████████████████████████████████████████████████████████████████████████████████████████████████████████████████████████████████████████████████████████████████████████████████| 291/291 [01:14<00:00,  3.88it/s]\n"
     ]
    },
    {
     "name": "stdout",
     "output_type": "stream",
     "text": [
      "Val   loss: 0.4941, Acc: 0.8560\n",
      "Val and misc time: 75.78186869621277\n",
      "Total time: 895.7645254135132\n",
      "Epoch 16/100\n"
     ]
    },
    {
     "name": "stderr",
     "output_type": "stream",
     "text": [
      "100%|██████████████████████████████████████████████████████████████████████████████████████████████████████████████████████████████████████████████████████████████████████████████████████████████████| 1163/1163 [13:39<00:00,  1.42it/s]\n"
     ]
    },
    {
     "name": "stdout",
     "output_type": "stream",
     "text": [
      "Train loss: 0.1999, Acc: 0.9296\n",
      "Train time: 819.9329767227173\n",
      "OrderedDict([('active.all.allocated', 64566024), ('active.all.current', 722), ('active.all.freed', 64565302), ('active.all.peak', 1301), ('active.large_pool.allocated', 24987006), ('active.large_pool.current', 171), ('active.large_pool.freed', 24986835), ('active.large_pool.peak', 455), ('active.small_pool.allocated', 39579018), ('active.small_pool.current', 551), ('active.small_pool.freed', 39578467), ('active.small_pool.peak', 923), ('active_bytes.all.allocated', 1843875051491328), ('active_bytes.all.current', 814213632), ('active_bytes.all.freed', 1843874237277696), ('active_bytes.all.peak', 21219656192), ('active_bytes.large_pool.allocated', 1835735386182144), ('active_bytes.large_pool.current', 764690432), ('active_bytes.large_pool.freed', 1835734621491712), ('active_bytes.large_pool.peak', 21118613504), ('active_bytes.small_pool.allocated', 8139665309184), ('active_bytes.small_pool.current', 49523200), ('active_bytes.small_pool.freed', 8139615785984), ('active_bytes.small_pool.peak', 103129600), ('allocated_bytes.all.allocated', 1843875051491328), ('allocated_bytes.all.current', 814213632), ('allocated_bytes.all.freed', 1843874237277696), ('allocated_bytes.all.peak', 21219656192), ('allocated_bytes.large_pool.allocated', 1835735386182144), ('allocated_bytes.large_pool.current', 764690432), ('allocated_bytes.large_pool.freed', 1835734621491712), ('allocated_bytes.large_pool.peak', 21118613504), ('allocated_bytes.small_pool.allocated', 8139665309184), ('allocated_bytes.small_pool.current', 49523200), ('allocated_bytes.small_pool.freed', 8139615785984), ('allocated_bytes.small_pool.peak', 103129600), ('allocation.all.allocated', 64566024), ('allocation.all.current', 722), ('allocation.all.freed', 64565302), ('allocation.all.peak', 1301), ('allocation.large_pool.allocated', 24987006), ('allocation.large_pool.current', 171), ('allocation.large_pool.freed', 24986835), ('allocation.large_pool.peak', 455), ('allocation.small_pool.allocated', 39579018), ('allocation.small_pool.current', 551), ('allocation.small_pool.freed', 39578467), ('allocation.small_pool.peak', 923), ('inactive_split.all.allocated', 31494099), ('inactive_split.all.current', 63), ('inactive_split.all.freed', 31494036), ('inactive_split.all.peak', 155), ('inactive_split.large_pool.allocated', 12119766), ('inactive_split.large_pool.current', 32), ('inactive_split.large_pool.freed', 12119734), ('inactive_split.large_pool.peak', 116), ('inactive_split.small_pool.allocated', 19374333), ('inactive_split.small_pool.current', 31), ('inactive_split.small_pool.freed', 19374302), ('inactive_split.small_pool.peak', 71), ('inactive_split_bytes.all.allocated', 737777055955456), ('inactive_split_bytes.all.current', 666375680), ('inactive_split_bytes.all.freed', 737776389579776), ('inactive_split_bytes.all.peak', 2876618752), ('inactive_split_bytes.large_pool.allocated', 729523281163776), ('inactive_split_bytes.large_pool.current', 655081472), ('inactive_split_bytes.large_pool.freed', 729522626082304), ('inactive_split_bytes.large_pool.peak', 2852038656), ('inactive_split_bytes.small_pool.allocated', 8253774791680), ('inactive_split_bytes.small_pool.current', 11294208), ('inactive_split_bytes.small_pool.freed', 8253763497472), ('inactive_split_bytes.small_pool.peak', 36898816), ('max_split_size', -1), ('num_alloc_retries', 0), ('num_ooms', 0), ('oversize_allocations.allocated', 0), ('oversize_allocations.current', 0), ('oversize_allocations.freed', 0), ('oversize_allocations.peak', 0), ('oversize_segments.allocated', 0), ('oversize_segments.current', 0), ('oversize_segments.freed', 0), ('oversize_segments.peak', 0), ('requested_bytes.all.allocated', 1842197590991598), ('requested_bytes.all.current', 813142820), ('requested_bytes.all.freed', 1842196777848778), ('requested_bytes.all.peak', 21200522092), ('requested_bytes.large_pool.allocated', 1834059665199200), ('requested_bytes.large_pool.current', 763631616), ('requested_bytes.large_pool.freed', 1834058901567584), ('requested_bytes.large_pool.peak', 21099512704), ('requested_bytes.small_pool.allocated', 8137925792398), ('requested_bytes.small_pool.current', 49511204), ('requested_bytes.small_pool.freed', 8137876281194), ('requested_bytes.small_pool.peak', 103115436), ('reserved_bytes.all.allocated', 21904752640), ('reserved_bytes.all.current', 21904752640), ('reserved_bytes.all.freed', 0), ('reserved_bytes.all.peak', 21904752640), ('reserved_bytes.large_pool.allocated', 21797797888), ('reserved_bytes.large_pool.current', 21797797888), ('reserved_bytes.large_pool.freed', 0), ('reserved_bytes.large_pool.peak', 21797797888), ('reserved_bytes.small_pool.allocated', 106954752), ('reserved_bytes.small_pool.current', 106954752), ('reserved_bytes.small_pool.freed', 0), ('reserved_bytes.small_pool.peak', 106954752), ('segment.all.allocated', 224), ('segment.all.current', 224), ('segment.all.freed', 0), ('segment.all.peak', 224), ('segment.large_pool.allocated', 173), ('segment.large_pool.current', 173), ('segment.large_pool.freed', 0), ('segment.large_pool.peak', 173), ('segment.small_pool.allocated', 51), ('segment.small_pool.current', 51), ('segment.small_pool.freed', 0), ('segment.small_pool.peak', 51)])\n"
     ]
    },
    {
     "name": "stderr",
     "output_type": "stream",
     "text": [
      "100%|████████████████████████████████████████████████████████████████████████████████████████████████████████████████████████████████████████████████████████████████████████████████████████████████████| 291/291 [01:15<00:00,  3.87it/s]\n"
     ]
    },
    {
     "name": "stdout",
     "output_type": "stream",
     "text": [
      "Val   loss: 0.5421, Acc: 0.8565\n",
      "Val and misc time: 75.95800828933716\n",
      "Total time: 895.8911371231079\n",
      "Epoch 17/100\n"
     ]
    },
    {
     "name": "stderr",
     "output_type": "stream",
     "text": [
      "100%|██████████████████████████████████████████████████████████████████████████████████████████████████████████████████████████████████████████████████████████████████████████████████████████████████| 1163/1163 [13:39<00:00,  1.42it/s]\n"
     ]
    },
    {
     "name": "stdout",
     "output_type": "stream",
     "text": [
      "Train loss: 0.1900, Acc: 0.9324\n",
      "Train time: 819.8039309978485\n",
      "OrderedDict([('active.all.allocated', 68621417), ('active.all.current', 722), ('active.all.freed', 68620695), ('active.all.peak', 1301), ('active.large_pool.allocated', 26557195), ('active.large_pool.current', 171), ('active.large_pool.freed', 26557024), ('active.large_pool.peak', 455), ('active.small_pool.allocated', 42064222), ('active.small_pool.current', 551), ('active.small_pool.freed', 42063671), ('active.small_pool.peak', 923), ('active_bytes.all.allocated', 1959813812489728), ('active_bytes.all.current', 814213632), ('active_bytes.all.freed', 1959812998276096), ('active_bytes.all.peak', 21219656192), ('active_bytes.large_pool.allocated', 1951163000358912), ('active_bytes.large_pool.current', 764690432), ('active_bytes.large_pool.freed', 1951162235668480), ('active_bytes.large_pool.peak', 21118613504), ('active_bytes.small_pool.allocated', 8650812130816), ('active_bytes.small_pool.current', 49523200), ('active_bytes.small_pool.freed', 8650762607616), ('active_bytes.small_pool.peak', 103129600), ('allocated_bytes.all.allocated', 1959813812489728), ('allocated_bytes.all.current', 814213632), ('allocated_bytes.all.freed', 1959812998276096), ('allocated_bytes.all.peak', 21219656192), ('allocated_bytes.large_pool.allocated', 1951163000358912), ('allocated_bytes.large_pool.current', 764690432), ('allocated_bytes.large_pool.freed', 1951162235668480), ('allocated_bytes.large_pool.peak', 21118613504), ('allocated_bytes.small_pool.allocated', 8650812130816), ('allocated_bytes.small_pool.current', 49523200), ('allocated_bytes.small_pool.freed', 8650762607616), ('allocated_bytes.small_pool.peak', 103129600), ('allocation.all.allocated', 68621417), ('allocation.all.current', 722), ('allocation.all.freed', 68620695), ('allocation.all.peak', 1301), ('allocation.large_pool.allocated', 26557195), ('allocation.large_pool.current', 171), ('allocation.large_pool.freed', 26557024), ('allocation.large_pool.peak', 455), ('allocation.small_pool.allocated', 42064222), ('allocation.small_pool.current', 551), ('allocation.small_pool.freed', 42063671), ('allocation.small_pool.peak', 923), ('inactive_split.all.allocated', 33474268), ('inactive_split.all.current', 63), ('inactive_split.all.freed', 33474205), ('inactive_split.all.peak', 155), ('inactive_split.large_pool.allocated', 12882232), ('inactive_split.large_pool.current', 32), ('inactive_split.large_pool.freed', 12882200), ('inactive_split.large_pool.peak', 116), ('inactive_split.small_pool.allocated', 20592036), ('inactive_split.small_pool.current', 31), ('inactive_split.small_pool.freed', 20592005), ('inactive_split.small_pool.peak', 71), ('inactive_split_bytes.all.allocated', 783921958320128), ('inactive_split_bytes.all.current', 666375680), ('inactive_split_bytes.all.freed', 783921291944448), ('inactive_split_bytes.all.peak', 2876618752), ('inactive_split_bytes.large_pool.allocated', 775149903762432), ('inactive_split_bytes.large_pool.current', 655081472), ('inactive_split_bytes.large_pool.freed', 775149248680960), ('inactive_split_bytes.large_pool.peak', 2852038656), ('inactive_split_bytes.small_pool.allocated', 8772054557696), ('inactive_split_bytes.small_pool.current', 11294208), ('inactive_split_bytes.small_pool.freed', 8772043263488), ('inactive_split_bytes.small_pool.peak', 36898816), ('max_split_size', -1), ('num_alloc_retries', 0), ('num_ooms', 0), ('oversize_allocations.allocated', 0), ('oversize_allocations.current', 0), ('oversize_allocations.freed', 0), ('oversize_allocations.peak', 0), ('oversize_segments.allocated', 0), ('oversize_segments.current', 0), ('oversize_segments.freed', 0), ('oversize_segments.peak', 0), ('requested_bytes.all.allocated', 1958031022812446), ('requested_bytes.all.current', 813142820), ('requested_bytes.all.freed', 1958030209669626), ('requested_bytes.all.peak', 21200522092), ('requested_bytes.large_pool.allocated', 1949382059509540), ('requested_bytes.large_pool.current', 763631616), ('requested_bytes.large_pool.freed', 1949381295877924), ('requested_bytes.large_pool.peak', 21099512704), ('requested_bytes.small_pool.allocated', 8648963302906), ('requested_bytes.small_pool.current', 49511204), ('requested_bytes.small_pool.freed', 8648913791702), ('requested_bytes.small_pool.peak', 103115436), ('reserved_bytes.all.allocated', 21904752640), ('reserved_bytes.all.current', 21904752640), ('reserved_bytes.all.freed', 0), ('reserved_bytes.all.peak', 21904752640), ('reserved_bytes.large_pool.allocated', 21797797888), ('reserved_bytes.large_pool.current', 21797797888), ('reserved_bytes.large_pool.freed', 0), ('reserved_bytes.large_pool.peak', 21797797888), ('reserved_bytes.small_pool.allocated', 106954752), ('reserved_bytes.small_pool.current', 106954752), ('reserved_bytes.small_pool.freed', 0), ('reserved_bytes.small_pool.peak', 106954752), ('segment.all.allocated', 224), ('segment.all.current', 224), ('segment.all.freed', 0), ('segment.all.peak', 224), ('segment.large_pool.allocated', 173), ('segment.large_pool.current', 173), ('segment.large_pool.freed', 0), ('segment.large_pool.peak', 173), ('segment.small_pool.allocated', 51), ('segment.small_pool.current', 51), ('segment.small_pool.freed', 0), ('segment.small_pool.peak', 51)])\n"
     ]
    },
    {
     "name": "stderr",
     "output_type": "stream",
     "text": [
      "100%|████████████████████████████████████████████████████████████████████████████████████████████████████████████████████████████████████████████████████████████████████████████████████████████████████| 291/291 [01:15<00:00,  3.88it/s]\n"
     ]
    },
    {
     "name": "stdout",
     "output_type": "stream",
     "text": [
      "Val   loss: 0.5694, Acc: 0.8575\n",
      "Val and misc time: 75.88993310928345\n",
      "Total time: 895.6939823627472\n",
      "Epoch 18/100\n"
     ]
    },
    {
     "name": "stderr",
     "output_type": "stream",
     "text": [
      "100%|██████████████████████████████████████████████████████████████████████████████████████████████████████████████████████████████████████████████████████████████████████████████████████████████████| 1163/1163 [13:40<00:00,  1.42it/s]\n"
     ]
    },
    {
     "name": "stdout",
     "output_type": "stream",
     "text": [
      "Train loss: 0.1669, Acc: 0.9408\n",
      "Train time: 820.0137102603912\n",
      "OrderedDict([('active.all.allocated', 72676810), ('active.all.current', 722), ('active.all.freed', 72676088), ('active.all.peak', 1301), ('active.large_pool.allocated', 28127384), ('active.large_pool.current', 171), ('active.large_pool.freed', 28127213), ('active.large_pool.peak', 455), ('active.small_pool.allocated', 44549426), ('active.small_pool.current', 551), ('active.small_pool.freed', 44548875), ('active.small_pool.peak', 923), ('active_bytes.all.allocated', 2075752573488128), ('active_bytes.all.current', 814213632), ('active_bytes.all.freed', 2075751759274496), ('active_bytes.all.peak', 21219656192), ('active_bytes.large_pool.allocated', 2066590614535680), ('active_bytes.large_pool.current', 764690432), ('active_bytes.large_pool.freed', 2066589849845248), ('active_bytes.large_pool.peak', 21118613504), ('active_bytes.small_pool.allocated', 9161958952448), ('active_bytes.small_pool.current', 49523200), ('active_bytes.small_pool.freed', 9161909429248), ('active_bytes.small_pool.peak', 103129600), ('allocated_bytes.all.allocated', 2075752573488128), ('allocated_bytes.all.current', 814213632), ('allocated_bytes.all.freed', 2075751759274496), ('allocated_bytes.all.peak', 21219656192), ('allocated_bytes.large_pool.allocated', 2066590614535680), ('allocated_bytes.large_pool.current', 764690432), ('allocated_bytes.large_pool.freed', 2066589849845248), ('allocated_bytes.large_pool.peak', 21118613504), ('allocated_bytes.small_pool.allocated', 9161958952448), ('allocated_bytes.small_pool.current', 49523200), ('allocated_bytes.small_pool.freed', 9161909429248), ('allocated_bytes.small_pool.peak', 103129600), ('allocation.all.allocated', 72676810), ('allocation.all.current', 722), ('allocation.all.freed', 72676088), ('allocation.all.peak', 1301), ('allocation.large_pool.allocated', 28127384), ('allocation.large_pool.current', 171), ('allocation.large_pool.freed', 28127213), ('allocation.large_pool.peak', 455), ('allocation.small_pool.allocated', 44549426), ('allocation.small_pool.current', 551), ('allocation.small_pool.freed', 44548875), ('allocation.small_pool.peak', 923), ('inactive_split.all.allocated', 35449393), ('inactive_split.all.current', 63), ('inactive_split.all.freed', 35449330), ('inactive_split.all.peak', 155), ('inactive_split.large_pool.allocated', 13644698), ('inactive_split.large_pool.current', 32), ('inactive_split.large_pool.freed', 13644666), ('inactive_split.large_pool.peak', 116), ('inactive_split.small_pool.allocated', 21804695), ('inactive_split.small_pool.current', 31), ('inactive_split.small_pool.freed', 21804664), ('inactive_split.small_pool.peak', 71), ('inactive_split_bytes.all.allocated', 830066860684800), ('inactive_split_bytes.all.current', 666375680), ('inactive_split_bytes.all.freed', 830066194309120), ('inactive_split_bytes.all.peak', 2876618752), ('inactive_split_bytes.large_pool.allocated', 820776526361088), ('inactive_split_bytes.large_pool.current', 655081472), ('inactive_split_bytes.large_pool.freed', 820775871279616), ('inactive_split_bytes.large_pool.peak', 2852038656), ('inactive_split_bytes.small_pool.allocated', 9290334323712), ('inactive_split_bytes.small_pool.current', 11294208), ('inactive_split_bytes.small_pool.freed', 9290323029504), ('inactive_split_bytes.small_pool.peak', 36898816), ('max_split_size', -1), ('num_alloc_retries', 0), ('num_ooms', 0), ('oversize_allocations.allocated', 0), ('oversize_allocations.current', 0), ('oversize_allocations.freed', 0), ('oversize_allocations.peak', 0), ('oversize_segments.allocated', 0), ('oversize_segments.current', 0), ('oversize_segments.freed', 0), ('oversize_segments.peak', 0), ('requested_bytes.all.allocated', 2073864454633294), ('requested_bytes.all.current', 813142820), ('requested_bytes.all.freed', 2073863641490474), ('requested_bytes.all.peak', 21200522092), ('requested_bytes.large_pool.allocated', 2064704453819880), ('requested_bytes.large_pool.current', 763631616), ('requested_bytes.large_pool.freed', 2064703690188264), ('requested_bytes.large_pool.peak', 21099512704), ('requested_bytes.small_pool.allocated', 9160000813414), ('requested_bytes.small_pool.current', 49511204), ('requested_bytes.small_pool.freed', 9159951302210), ('requested_bytes.small_pool.peak', 103115436), ('reserved_bytes.all.allocated', 21904752640), ('reserved_bytes.all.current', 21904752640), ('reserved_bytes.all.freed', 0), ('reserved_bytes.all.peak', 21904752640), ('reserved_bytes.large_pool.allocated', 21797797888), ('reserved_bytes.large_pool.current', 21797797888), ('reserved_bytes.large_pool.freed', 0), ('reserved_bytes.large_pool.peak', 21797797888), ('reserved_bytes.small_pool.allocated', 106954752), ('reserved_bytes.small_pool.current', 106954752), ('reserved_bytes.small_pool.freed', 0), ('reserved_bytes.small_pool.peak', 106954752), ('segment.all.allocated', 224), ('segment.all.current', 224), ('segment.all.freed', 0), ('segment.all.peak', 224), ('segment.large_pool.allocated', 173), ('segment.large_pool.current', 173), ('segment.large_pool.freed', 0), ('segment.large_pool.peak', 173), ('segment.small_pool.allocated', 51), ('segment.small_pool.current', 51), ('segment.small_pool.freed', 0), ('segment.small_pool.peak', 51)])\n"
     ]
    },
    {
     "name": "stderr",
     "output_type": "stream",
     "text": [
      "100%|████████████████████████████████████████████████████████████████████████████████████████████████████████████████████████████████████████████████████████████████████████████████████████████████████| 291/291 [01:15<00:00,  3.87it/s]\n"
     ]
    },
    {
     "name": "stdout",
     "output_type": "stream",
     "text": [
      "Val   loss: 0.5686, Acc: 0.8496\n",
      "Val and misc time: 75.98429369926453\n",
      "Total time: 895.9980795383453\n",
      "Epoch 19/100\n"
     ]
    },
    {
     "name": "stderr",
     "output_type": "stream",
     "text": [
      "100%|██████████████████████████████████████████████████████████████████████████████████████████████████████████████████████████████████████████████████████████████████████████████████████████████████| 1163/1163 [13:39<00:00,  1.42it/s]\n"
     ]
    },
    {
     "name": "stdout",
     "output_type": "stream",
     "text": [
      "Train loss: 0.1611, Acc: 0.9432\n",
      "Train time: 819.9090349674225\n",
      "OrderedDict([('active.all.allocated', 76732203), ('active.all.current', 722), ('active.all.freed', 76731481), ('active.all.peak', 1301), ('active.large_pool.allocated', 29697573), ('active.large_pool.current', 171), ('active.large_pool.freed', 29697402), ('active.large_pool.peak', 455), ('active.small_pool.allocated', 47034630), ('active.small_pool.current', 551), ('active.small_pool.freed', 47034079), ('active.small_pool.peak', 923), ('active_bytes.all.allocated', 2191691334486528), ('active_bytes.all.current', 814213632), ('active_bytes.all.freed', 2191690520272896), ('active_bytes.all.peak', 21219656192), ('active_bytes.large_pool.allocated', 2182018228712448), ('active_bytes.large_pool.current', 764690432), ('active_bytes.large_pool.freed', 2182017464022016), ('active_bytes.large_pool.peak', 21118613504), ('active_bytes.small_pool.allocated', 9673105774080), ('active_bytes.small_pool.current', 49523200), ('active_bytes.small_pool.freed', 9673056250880), ('active_bytes.small_pool.peak', 103129600), ('allocated_bytes.all.allocated', 2191691334486528), ('allocated_bytes.all.current', 814213632), ('allocated_bytes.all.freed', 2191690520272896), ('allocated_bytes.all.peak', 21219656192), ('allocated_bytes.large_pool.allocated', 2182018228712448), ('allocated_bytes.large_pool.current', 764690432), ('allocated_bytes.large_pool.freed', 2182017464022016), ('allocated_bytes.large_pool.peak', 21118613504), ('allocated_bytes.small_pool.allocated', 9673105774080), ('allocated_bytes.small_pool.current', 49523200), ('allocated_bytes.small_pool.freed', 9673056250880), ('allocated_bytes.small_pool.peak', 103129600), ('allocation.all.allocated', 76732203), ('allocation.all.current', 722), ('allocation.all.freed', 76731481), ('allocation.all.peak', 1301), ('allocation.large_pool.allocated', 29697573), ('allocation.large_pool.current', 171), ('allocation.large_pool.freed', 29697402), ('allocation.large_pool.peak', 455), ('allocation.small_pool.allocated', 47034630), ('allocation.small_pool.current', 551), ('allocation.small_pool.freed', 47034079), ('allocation.small_pool.peak', 923), ('inactive_split.all.allocated', 37429562), ('inactive_split.all.current', 63), ('inactive_split.all.freed', 37429499), ('inactive_split.all.peak', 155), ('inactive_split.large_pool.allocated', 14407164), ('inactive_split.large_pool.current', 32), ('inactive_split.large_pool.freed', 14407132), ('inactive_split.large_pool.peak', 116), ('inactive_split.small_pool.allocated', 23022398), ('inactive_split.small_pool.current', 31), ('inactive_split.small_pool.freed', 23022367), ('inactive_split.small_pool.peak', 71), ('inactive_split_bytes.all.allocated', 876211763049472), ('inactive_split_bytes.all.current', 666375680), ('inactive_split_bytes.all.freed', 876211096673792), ('inactive_split_bytes.all.peak', 2876618752), ('inactive_split_bytes.large_pool.allocated', 866403148959744), ('inactive_split_bytes.large_pool.current', 655081472), ('inactive_split_bytes.large_pool.freed', 866402493878272), ('inactive_split_bytes.large_pool.peak', 2852038656), ('inactive_split_bytes.small_pool.allocated', 9808614089728), ('inactive_split_bytes.small_pool.current', 11294208), ('inactive_split_bytes.small_pool.freed', 9808602795520), ('inactive_split_bytes.small_pool.peak', 36898816), ('max_split_size', -1), ('num_alloc_retries', 0), ('num_ooms', 0), ('oversize_allocations.allocated', 0), ('oversize_allocations.current', 0), ('oversize_allocations.freed', 0), ('oversize_allocations.peak', 0), ('oversize_segments.allocated', 0), ('oversize_segments.current', 0), ('oversize_segments.freed', 0), ('oversize_segments.peak', 0), ('requested_bytes.all.allocated', 2189697886454142), ('requested_bytes.all.current', 813142820), ('requested_bytes.all.freed', 2189697073311322), ('requested_bytes.all.peak', 21200522092), ('requested_bytes.large_pool.allocated', 2180026848130220), ('requested_bytes.large_pool.current', 763631616), ('requested_bytes.large_pool.freed', 2180026084498604), ('requested_bytes.large_pool.peak', 21099512704), ('requested_bytes.small_pool.allocated', 9671038323922), ('requested_bytes.small_pool.current', 49511204), ('requested_bytes.small_pool.freed', 9670988812718), ('requested_bytes.small_pool.peak', 103115436), ('reserved_bytes.all.allocated', 21904752640), ('reserved_bytes.all.current', 21904752640), ('reserved_bytes.all.freed', 0), ('reserved_bytes.all.peak', 21904752640), ('reserved_bytes.large_pool.allocated', 21797797888), ('reserved_bytes.large_pool.current', 21797797888), ('reserved_bytes.large_pool.freed', 0), ('reserved_bytes.large_pool.peak', 21797797888), ('reserved_bytes.small_pool.allocated', 106954752), ('reserved_bytes.small_pool.current', 106954752), ('reserved_bytes.small_pool.freed', 0), ('reserved_bytes.small_pool.peak', 106954752), ('segment.all.allocated', 224), ('segment.all.current', 224), ('segment.all.freed', 0), ('segment.all.peak', 224), ('segment.large_pool.allocated', 173), ('segment.large_pool.current', 173), ('segment.large_pool.freed', 0), ('segment.large_pool.peak', 173), ('segment.small_pool.allocated', 51), ('segment.small_pool.current', 51), ('segment.small_pool.freed', 0), ('segment.small_pool.peak', 51)])\n"
     ]
    },
    {
     "name": "stderr",
     "output_type": "stream",
     "text": [
      "100%|████████████████████████████████████████████████████████████████████████████████████████████████████████████████████████████████████████████████████████████████████████████████████████████████████| 291/291 [01:15<00:00,  3.88it/s]\n"
     ]
    },
    {
     "name": "stdout",
     "output_type": "stream",
     "text": [
      "Val   loss: 0.6318, Acc: 0.8500\n",
      "Val and misc time: 75.87814545631409\n",
      "Total time: 895.7873003482819\n",
      "Epoch 20/100\n"
     ]
    },
    {
     "name": "stderr",
     "output_type": "stream",
     "text": [
      "100%|██████████████████████████████████████████████████████████████████████████████████████████████████████████████████████████████████████████████████████████████████████████████████████████████████| 1163/1163 [13:39<00:00,  1.42it/s]\n"
     ]
    },
    {
     "name": "stdout",
     "output_type": "stream",
     "text": [
      "Train loss: 0.1524, Acc: 0.9455\n",
      "Train time: 819.787341594696\n",
      "OrderedDict([('active.all.allocated', 80787596), ('active.all.current', 722), ('active.all.freed', 80786874), ('active.all.peak', 1301), ('active.large_pool.allocated', 31267762), ('active.large_pool.current', 171), ('active.large_pool.freed', 31267591), ('active.large_pool.peak', 455), ('active.small_pool.allocated', 49519834), ('active.small_pool.current', 551), ('active.small_pool.freed', 49519283), ('active.small_pool.peak', 923), ('active_bytes.all.allocated', 2307630095484928), ('active_bytes.all.current', 814213632), ('active_bytes.all.freed', 2307629281271296), ('active_bytes.all.peak', 21219656192), ('active_bytes.large_pool.allocated', 2297445842889216), ('active_bytes.large_pool.current', 764690432), ('active_bytes.large_pool.freed', 2297445078198784), ('active_bytes.large_pool.peak', 21118613504), ('active_bytes.small_pool.allocated', 10184252595712), ('active_bytes.small_pool.current', 49523200), ('active_bytes.small_pool.freed', 10184203072512), ('active_bytes.small_pool.peak', 103129600), ('allocated_bytes.all.allocated', 2307630095484928), ('allocated_bytes.all.current', 814213632), ('allocated_bytes.all.freed', 2307629281271296), ('allocated_bytes.all.peak', 21219656192), ('allocated_bytes.large_pool.allocated', 2297445842889216), ('allocated_bytes.large_pool.current', 764690432), ('allocated_bytes.large_pool.freed', 2297445078198784), ('allocated_bytes.large_pool.peak', 21118613504), ('allocated_bytes.small_pool.allocated', 10184252595712), ('allocated_bytes.small_pool.current', 49523200), ('allocated_bytes.small_pool.freed', 10184203072512), ('allocated_bytes.small_pool.peak', 103129600), ('allocation.all.allocated', 80787596), ('allocation.all.current', 722), ('allocation.all.freed', 80786874), ('allocation.all.peak', 1301), ('allocation.large_pool.allocated', 31267762), ('allocation.large_pool.current', 171), ('allocation.large_pool.freed', 31267591), ('allocation.large_pool.peak', 455), ('allocation.small_pool.allocated', 49519834), ('allocation.small_pool.current', 551), ('allocation.small_pool.freed', 49519283), ('allocation.small_pool.peak', 923), ('inactive_split.all.allocated', 39404687), ('inactive_split.all.current', 63), ('inactive_split.all.freed', 39404624), ('inactive_split.all.peak', 155), ('inactive_split.large_pool.allocated', 15169630), ('inactive_split.large_pool.current', 32), ('inactive_split.large_pool.freed', 15169598), ('inactive_split.large_pool.peak', 116), ('inactive_split.small_pool.allocated', 24235057), ('inactive_split.small_pool.current', 31), ('inactive_split.small_pool.freed', 24235026), ('inactive_split.small_pool.peak', 71), ('inactive_split_bytes.all.allocated', 922356665414144), ('inactive_split_bytes.all.current', 666375680), ('inactive_split_bytes.all.freed', 922355999038464), ('inactive_split_bytes.all.peak', 2876618752), ('inactive_split_bytes.large_pool.allocated', 912029771558400), ('inactive_split_bytes.large_pool.current', 655081472), ('inactive_split_bytes.large_pool.freed', 912029116476928), ('inactive_split_bytes.large_pool.peak', 2852038656), ('inactive_split_bytes.small_pool.allocated', 10326893855744), ('inactive_split_bytes.small_pool.current', 11294208), ('inactive_split_bytes.small_pool.freed', 10326882561536), ('inactive_split_bytes.small_pool.peak', 36898816), ('max_split_size', -1), ('num_alloc_retries', 0), ('num_ooms', 0), ('oversize_allocations.allocated', 0), ('oversize_allocations.current', 0), ('oversize_allocations.freed', 0), ('oversize_allocations.peak', 0), ('oversize_segments.allocated', 0), ('oversize_segments.current', 0), ('oversize_segments.freed', 0), ('oversize_segments.peak', 0), ('requested_bytes.all.allocated', 2305531318274990), ('requested_bytes.all.current', 813142820), ('requested_bytes.all.freed', 2305530505132170), ('requested_bytes.all.peak', 21200522092), ('requested_bytes.large_pool.allocated', 2295349242440560), ('requested_bytes.large_pool.current', 763631616), ('requested_bytes.large_pool.freed', 2295348478808944), ('requested_bytes.large_pool.peak', 21099512704), ('requested_bytes.small_pool.allocated', 10182075834430), ('requested_bytes.small_pool.current', 49511204), ('requested_bytes.small_pool.freed', 10182026323226), ('requested_bytes.small_pool.peak', 103115436), ('reserved_bytes.all.allocated', 21904752640), ('reserved_bytes.all.current', 21904752640), ('reserved_bytes.all.freed', 0), ('reserved_bytes.all.peak', 21904752640), ('reserved_bytes.large_pool.allocated', 21797797888), ('reserved_bytes.large_pool.current', 21797797888), ('reserved_bytes.large_pool.freed', 0), ('reserved_bytes.large_pool.peak', 21797797888), ('reserved_bytes.small_pool.allocated', 106954752), ('reserved_bytes.small_pool.current', 106954752), ('reserved_bytes.small_pool.freed', 0), ('reserved_bytes.small_pool.peak', 106954752), ('segment.all.allocated', 224), ('segment.all.current', 224), ('segment.all.freed', 0), ('segment.all.peak', 224), ('segment.large_pool.allocated', 173), ('segment.large_pool.current', 173), ('segment.large_pool.freed', 0), ('segment.large_pool.peak', 173), ('segment.small_pool.allocated', 51), ('segment.small_pool.current', 51), ('segment.small_pool.freed', 0), ('segment.small_pool.peak', 51)])\n"
     ]
    },
    {
     "name": "stderr",
     "output_type": "stream",
     "text": [
      "100%|████████████████████████████████████████████████████████████████████████████████████████████████████████████████████████████████████████████████████████████████████████████████████████████████████| 291/291 [01:15<00:00,  3.88it/s]\n"
     ]
    },
    {
     "name": "stdout",
     "output_type": "stream",
     "text": [
      "Val   loss: 0.6597, Acc: 0.8242\n",
      "Val and misc time: 75.89291405677795\n",
      "Total time: 895.6803998947144\n",
      "Epoch 21/100\n"
     ]
    },
    {
     "name": "stderr",
     "output_type": "stream",
     "text": [
      "100%|██████████████████████████████████████████████████████████████████████████████████████████████████████████████████████████████████████████████████████████████████████████████████████████████████| 1163/1163 [13:39<00:00,  1.42it/s]\n"
     ]
    },
    {
     "name": "stdout",
     "output_type": "stream",
     "text": [
      "Train loss: 0.1343, Acc: 0.9518\n",
      "Train time: 819.7739100456238\n",
      "OrderedDict([('active.all.allocated', 84842989), ('active.all.current', 722), ('active.all.freed', 84842267), ('active.all.peak', 1301), ('active.large_pool.allocated', 32837951), ('active.large_pool.current', 171), ('active.large_pool.freed', 32837780), ('active.large_pool.peak', 455), ('active.small_pool.allocated', 52005038), ('active.small_pool.current', 551), ('active.small_pool.freed', 52004487), ('active.small_pool.peak', 923), ('active_bytes.all.allocated', 2423568856483328), ('active_bytes.all.current', 814213632), ('active_bytes.all.freed', 2423568042269696), ('active_bytes.all.peak', 21219656192), ('active_bytes.large_pool.allocated', 2412873457065984), ('active_bytes.large_pool.current', 764690432), ('active_bytes.large_pool.freed', 2412872692375552), ('active_bytes.large_pool.peak', 21118613504), ('active_bytes.small_pool.allocated', 10695399417344), ('active_bytes.small_pool.current', 49523200), ('active_bytes.small_pool.freed', 10695349894144), ('active_bytes.small_pool.peak', 103129600), ('allocated_bytes.all.allocated', 2423568856483328), ('allocated_bytes.all.current', 814213632), ('allocated_bytes.all.freed', 2423568042269696), ('allocated_bytes.all.peak', 21219656192), ('allocated_bytes.large_pool.allocated', 2412873457065984), ('allocated_bytes.large_pool.current', 764690432), ('allocated_bytes.large_pool.freed', 2412872692375552), ('allocated_bytes.large_pool.peak', 21118613504), ('allocated_bytes.small_pool.allocated', 10695399417344), ('allocated_bytes.small_pool.current', 49523200), ('allocated_bytes.small_pool.freed', 10695349894144), ('allocated_bytes.small_pool.peak', 103129600), ('allocation.all.allocated', 84842989), ('allocation.all.current', 722), ('allocation.all.freed', 84842267), ('allocation.all.peak', 1301), ('allocation.large_pool.allocated', 32837951), ('allocation.large_pool.current', 171), ('allocation.large_pool.freed', 32837780), ('allocation.large_pool.peak', 455), ('allocation.small_pool.allocated', 52005038), ('allocation.small_pool.current', 551), ('allocation.small_pool.freed', 52004487), ('allocation.small_pool.peak', 923), ('inactive_split.all.allocated', 41384856), ('inactive_split.all.current', 63), ('inactive_split.all.freed', 41384793), ('inactive_split.all.peak', 155), ('inactive_split.large_pool.allocated', 15932096), ('inactive_split.large_pool.current', 32), ('inactive_split.large_pool.freed', 15932064), ('inactive_split.large_pool.peak', 116), ('inactive_split.small_pool.allocated', 25452760), ('inactive_split.small_pool.current', 31), ('inactive_split.small_pool.freed', 25452729), ('inactive_split.small_pool.peak', 71), ('inactive_split_bytes.all.allocated', 968501567778816), ('inactive_split_bytes.all.current', 666375680), ('inactive_split_bytes.all.freed', 968500901403136), ('inactive_split_bytes.all.peak', 2876618752), ('inactive_split_bytes.large_pool.allocated', 957656394157056), ('inactive_split_bytes.large_pool.current', 655081472), ('inactive_split_bytes.large_pool.freed', 957655739075584), ('inactive_split_bytes.large_pool.peak', 2852038656), ('inactive_split_bytes.small_pool.allocated', 10845173621760), ('inactive_split_bytes.small_pool.current', 11294208), ('inactive_split_bytes.small_pool.freed', 10845162327552), ('inactive_split_bytes.small_pool.peak', 36898816), ('max_split_size', -1), ('num_alloc_retries', 0), ('num_ooms', 0), ('oversize_allocations.allocated', 0), ('oversize_allocations.current', 0), ('oversize_allocations.freed', 0), ('oversize_allocations.peak', 0), ('oversize_segments.allocated', 0), ('oversize_segments.current', 0), ('oversize_segments.freed', 0), ('oversize_segments.peak', 0), ('requested_bytes.all.allocated', 2421364750095838), ('requested_bytes.all.current', 813142820), ('requested_bytes.all.freed', 2421363936953018), ('requested_bytes.all.peak', 21200522092), ('requested_bytes.large_pool.allocated', 2410671636750900), ('requested_bytes.large_pool.current', 763631616), ('requested_bytes.large_pool.freed', 2410670873119284), ('requested_bytes.large_pool.peak', 21099512704), ('requested_bytes.small_pool.allocated', 10693113344938), ('requested_bytes.small_pool.current', 49511204), ('requested_bytes.small_pool.freed', 10693063833734), ('requested_bytes.small_pool.peak', 103115436), ('reserved_bytes.all.allocated', 21904752640), ('reserved_bytes.all.current', 21904752640), ('reserved_bytes.all.freed', 0), ('reserved_bytes.all.peak', 21904752640), ('reserved_bytes.large_pool.allocated', 21797797888), ('reserved_bytes.large_pool.current', 21797797888), ('reserved_bytes.large_pool.freed', 0), ('reserved_bytes.large_pool.peak', 21797797888), ('reserved_bytes.small_pool.allocated', 106954752), ('reserved_bytes.small_pool.current', 106954752), ('reserved_bytes.small_pool.freed', 0), ('reserved_bytes.small_pool.peak', 106954752), ('segment.all.allocated', 224), ('segment.all.current', 224), ('segment.all.freed', 0), ('segment.all.peak', 224), ('segment.large_pool.allocated', 173), ('segment.large_pool.current', 173), ('segment.large_pool.freed', 0), ('segment.large_pool.peak', 173), ('segment.small_pool.allocated', 51), ('segment.small_pool.current', 51), ('segment.small_pool.freed', 0), ('segment.small_pool.peak', 51)])\n"
     ]
    },
    {
     "name": "stderr",
     "output_type": "stream",
     "text": [
      "100%|████████████████████████████████████████████████████████████████████████████████████████████████████████████████████████████████████████████████████████████████████████████████████████████████████| 291/291 [01:14<00:00,  3.88it/s]\n"
     ]
    },
    {
     "name": "stdout",
     "output_type": "stream",
     "text": [
      "Val   loss: 0.6307, Acc: 0.8474\n",
      "Val and misc time: 75.8194510936737\n",
      "Total time: 895.5934863090515\n",
      "Epoch 22/100\n"
     ]
    },
    {
     "name": "stderr",
     "output_type": "stream",
     "text": [
      "100%|██████████████████████████████████████████████████████████████████████████████████████████████████████████████████████████████████████████████████████████████████████████████████████████████████| 1163/1163 [13:39<00:00,  1.42it/s]\n"
     ]
    },
    {
     "name": "stdout",
     "output_type": "stream",
     "text": [
      "Train loss: 0.1243, Acc: 0.9556\n",
      "Train time: 819.5470404624939\n",
      "OrderedDict([('active.all.allocated', 88898382), ('active.all.current', 722), ('active.all.freed', 88897660), ('active.all.peak', 1301), ('active.large_pool.allocated', 34408140), ('active.large_pool.current', 171), ('active.large_pool.freed', 34407969), ('active.large_pool.peak', 455), ('active.small_pool.allocated', 54490242), ('active.small_pool.current', 551), ('active.small_pool.freed', 54489691), ('active.small_pool.peak', 923), ('active_bytes.all.allocated', 2539507617481728), ('active_bytes.all.current', 814213632), ('active_bytes.all.freed', 2539506803268096), ('active_bytes.all.peak', 21219656192), ('active_bytes.large_pool.allocated', 2528301071242752), ('active_bytes.large_pool.current', 764690432), ('active_bytes.large_pool.freed', 2528300306552320), ('active_bytes.large_pool.peak', 21118613504), ('active_bytes.small_pool.allocated', 11206546238976), ('active_bytes.small_pool.current', 49523200), ('active_bytes.small_pool.freed', 11206496715776), ('active_bytes.small_pool.peak', 103129600), ('allocated_bytes.all.allocated', 2539507617481728), ('allocated_bytes.all.current', 814213632), ('allocated_bytes.all.freed', 2539506803268096), ('allocated_bytes.all.peak', 21219656192), ('allocated_bytes.large_pool.allocated', 2528301071242752), ('allocated_bytes.large_pool.current', 764690432), ('allocated_bytes.large_pool.freed', 2528300306552320), ('allocated_bytes.large_pool.peak', 21118613504), ('allocated_bytes.small_pool.allocated', 11206546238976), ('allocated_bytes.small_pool.current', 49523200), ('allocated_bytes.small_pool.freed', 11206496715776), ('allocated_bytes.small_pool.peak', 103129600), ('allocation.all.allocated', 88898382), ('allocation.all.current', 722), ('allocation.all.freed', 88897660), ('allocation.all.peak', 1301), ('allocation.large_pool.allocated', 34408140), ('allocation.large_pool.current', 171), ('allocation.large_pool.freed', 34407969), ('allocation.large_pool.peak', 455), ('allocation.small_pool.allocated', 54490242), ('allocation.small_pool.current', 551), ('allocation.small_pool.freed', 54489691), ('allocation.small_pool.peak', 923), ('inactive_split.all.allocated', 43359981), ('inactive_split.all.current', 63), ('inactive_split.all.freed', 43359918), ('inactive_split.all.peak', 155), ('inactive_split.large_pool.allocated', 16694562), ('inactive_split.large_pool.current', 32), ('inactive_split.large_pool.freed', 16694530), ('inactive_split.large_pool.peak', 116), ('inactive_split.small_pool.allocated', 26665419), ('inactive_split.small_pool.current', 31), ('inactive_split.small_pool.freed', 26665388), ('inactive_split.small_pool.peak', 71), ('inactive_split_bytes.all.allocated', 1014646470143488), ('inactive_split_bytes.all.current', 666375680), ('inactive_split_bytes.all.freed', 1014645803767808), ('inactive_split_bytes.all.peak', 2876618752), ('inactive_split_bytes.large_pool.allocated', 1003283016755712), ('inactive_split_bytes.large_pool.current', 655081472), ('inactive_split_bytes.large_pool.freed', 1003282361674240), ('inactive_split_bytes.large_pool.peak', 2852038656), ('inactive_split_bytes.small_pool.allocated', 11363453387776), ('inactive_split_bytes.small_pool.current', 11294208), ('inactive_split_bytes.small_pool.freed', 11363442093568), ('inactive_split_bytes.small_pool.peak', 36898816), ('max_split_size', -1), ('num_alloc_retries', 0), ('num_ooms', 0), ('oversize_allocations.allocated', 0), ('oversize_allocations.current', 0), ('oversize_allocations.freed', 0), ('oversize_allocations.peak', 0), ('oversize_segments.allocated', 0), ('oversize_segments.current', 0), ('oversize_segments.freed', 0), ('oversize_segments.peak', 0), ('requested_bytes.all.allocated', 2537198181916686), ('requested_bytes.all.current', 813142820), ('requested_bytes.all.freed', 2537197368773866), ('requested_bytes.all.peak', 21200522092), ('requested_bytes.large_pool.allocated', 2525994031061240), ('requested_bytes.large_pool.current', 763631616), ('requested_bytes.large_pool.freed', 2525993267429624), ('requested_bytes.large_pool.peak', 21099512704), ('requested_bytes.small_pool.allocated', 11204150855446), ('requested_bytes.small_pool.current', 49511204), ('requested_bytes.small_pool.freed', 11204101344242), ('requested_bytes.small_pool.peak', 103115436), ('reserved_bytes.all.allocated', 21904752640), ('reserved_bytes.all.current', 21904752640), ('reserved_bytes.all.freed', 0), ('reserved_bytes.all.peak', 21904752640), ('reserved_bytes.large_pool.allocated', 21797797888), ('reserved_bytes.large_pool.current', 21797797888), ('reserved_bytes.large_pool.freed', 0), ('reserved_bytes.large_pool.peak', 21797797888), ('reserved_bytes.small_pool.allocated', 106954752), ('reserved_bytes.small_pool.current', 106954752), ('reserved_bytes.small_pool.freed', 0), ('reserved_bytes.small_pool.peak', 106954752), ('segment.all.allocated', 224), ('segment.all.current', 224), ('segment.all.freed', 0), ('segment.all.peak', 224), ('segment.large_pool.allocated', 173), ('segment.large_pool.current', 173), ('segment.large_pool.freed', 0), ('segment.large_pool.peak', 173), ('segment.small_pool.allocated', 51), ('segment.small_pool.current', 51), ('segment.small_pool.freed', 0), ('segment.small_pool.peak', 51)])\n"
     ]
    },
    {
     "name": "stderr",
     "output_type": "stream",
     "text": [
      "100%|████████████████████████████████████████████████████████████████████████████████████████████████████████████████████████████████████████████████████████████████████████████████████████████████████| 291/291 [01:15<00:00,  3.87it/s]\n"
     ]
    },
    {
     "name": "stdout",
     "output_type": "stream",
     "text": [
      "Val   loss: 0.6814, Acc: 0.8451\n",
      "Val and misc time: 75.95463871955872\n",
      "Total time: 895.5017561912537\n",
      "Epoch 23/100\n"
     ]
    },
    {
     "name": "stderr",
     "output_type": "stream",
     "text": [
      "100%|██████████████████████████████████████████████████████████████████████████████████████████████████████████████████████████████████████████████████████████████████████████████████████████████████| 1163/1163 [13:39<00:00,  1.42it/s]\n"
     ]
    },
    {
     "name": "stdout",
     "output_type": "stream",
     "text": [
      "Train loss: 0.1170, Acc: 0.9582\n",
      "Train time: 819.6728980541229\n",
      "OrderedDict([('active.all.allocated', 92953775), ('active.all.current', 722), ('active.all.freed', 92953053), ('active.all.peak', 1301), ('active.large_pool.allocated', 35978329), ('active.large_pool.current', 171), ('active.large_pool.freed', 35978158), ('active.large_pool.peak', 455), ('active.small_pool.allocated', 56975446), ('active.small_pool.current', 551), ('active.small_pool.freed', 56974895), ('active.small_pool.peak', 923), ('active_bytes.all.allocated', 2655446378480128), ('active_bytes.all.current', 814213632), ('active_bytes.all.freed', 2655445564266496), ('active_bytes.all.peak', 21219656192), ('active_bytes.large_pool.allocated', 2643728685419520), ('active_bytes.large_pool.current', 764690432), ('active_bytes.large_pool.freed', 2643727920729088), ('active_bytes.large_pool.peak', 21118613504), ('active_bytes.small_pool.allocated', 11717693060608), ('active_bytes.small_pool.current', 49523200), ('active_bytes.small_pool.freed', 11717643537408), ('active_bytes.small_pool.peak', 103129600), ('allocated_bytes.all.allocated', 2655446378480128), ('allocated_bytes.all.current', 814213632), ('allocated_bytes.all.freed', 2655445564266496), ('allocated_bytes.all.peak', 21219656192), ('allocated_bytes.large_pool.allocated', 2643728685419520), ('allocated_bytes.large_pool.current', 764690432), ('allocated_bytes.large_pool.freed', 2643727920729088), ('allocated_bytes.large_pool.peak', 21118613504), ('allocated_bytes.small_pool.allocated', 11717693060608), ('allocated_bytes.small_pool.current', 49523200), ('allocated_bytes.small_pool.freed', 11717643537408), ('allocated_bytes.small_pool.peak', 103129600), ('allocation.all.allocated', 92953775), ('allocation.all.current', 722), ('allocation.all.freed', 92953053), ('allocation.all.peak', 1301), ('allocation.large_pool.allocated', 35978329), ('allocation.large_pool.current', 171), ('allocation.large_pool.freed', 35978158), ('allocation.large_pool.peak', 455), ('allocation.small_pool.allocated', 56975446), ('allocation.small_pool.current', 551), ('allocation.small_pool.freed', 56974895), ('allocation.small_pool.peak', 923), ('inactive_split.all.allocated', 45340150), ('inactive_split.all.current', 63), ('inactive_split.all.freed', 45340087), ('inactive_split.all.peak', 155), ('inactive_split.large_pool.allocated', 17457028), ('inactive_split.large_pool.current', 32), ('inactive_split.large_pool.freed', 17456996), ('inactive_split.large_pool.peak', 116), ('inactive_split.small_pool.allocated', 27883122), ('inactive_split.small_pool.current', 31), ('inactive_split.small_pool.freed', 27883091), ('inactive_split.small_pool.peak', 71), ('inactive_split_bytes.all.allocated', 1060791372508160), ('inactive_split_bytes.all.current', 666375680), ('inactive_split_bytes.all.freed', 1060790706132480), ('inactive_split_bytes.all.peak', 2876618752), ('inactive_split_bytes.large_pool.allocated', 1048909639354368), ('inactive_split_bytes.large_pool.current', 655081472), ('inactive_split_bytes.large_pool.freed', 1048908984272896), ('inactive_split_bytes.large_pool.peak', 2852038656), ('inactive_split_bytes.small_pool.allocated', 11881733153792), ('inactive_split_bytes.small_pool.current', 11294208), ('inactive_split_bytes.small_pool.freed', 11881721859584), ('inactive_split_bytes.small_pool.peak', 36898816), ('max_split_size', -1), ('num_alloc_retries', 0), ('num_ooms', 0), ('oversize_allocations.allocated', 0), ('oversize_allocations.current', 0), ('oversize_allocations.freed', 0), ('oversize_allocations.peak', 0), ('oversize_segments.allocated', 0), ('oversize_segments.current', 0), ('oversize_segments.freed', 0), ('oversize_segments.peak', 0), ('requested_bytes.all.allocated', 2653031613737534), ('requested_bytes.all.current', 813142820), ('requested_bytes.all.freed', 2653030800594714), ('requested_bytes.all.peak', 21200522092), ('requested_bytes.large_pool.allocated', 2641316425371580), ('requested_bytes.large_pool.current', 763631616), ('requested_bytes.large_pool.freed', 2641315661739964), ('requested_bytes.large_pool.peak', 21099512704), ('requested_bytes.small_pool.allocated', 11715188365954), ('requested_bytes.small_pool.current', 49511204), ('requested_bytes.small_pool.freed', 11715138854750), ('requested_bytes.small_pool.peak', 103115436), ('reserved_bytes.all.allocated', 21904752640), ('reserved_bytes.all.current', 21904752640), ('reserved_bytes.all.freed', 0), ('reserved_bytes.all.peak', 21904752640), ('reserved_bytes.large_pool.allocated', 21797797888), ('reserved_bytes.large_pool.current', 21797797888), ('reserved_bytes.large_pool.freed', 0), ('reserved_bytes.large_pool.peak', 21797797888), ('reserved_bytes.small_pool.allocated', 106954752), ('reserved_bytes.small_pool.current', 106954752), ('reserved_bytes.small_pool.freed', 0), ('reserved_bytes.small_pool.peak', 106954752), ('segment.all.allocated', 224), ('segment.all.current', 224), ('segment.all.freed', 0), ('segment.all.peak', 224), ('segment.large_pool.allocated', 173), ('segment.large_pool.current', 173), ('segment.large_pool.freed', 0), ('segment.large_pool.peak', 173), ('segment.small_pool.allocated', 51), ('segment.small_pool.current', 51), ('segment.small_pool.freed', 0), ('segment.small_pool.peak', 51)])\n"
     ]
    },
    {
     "name": "stderr",
     "output_type": "stream",
     "text": [
      "100%|████████████████████████████████████████████████████████████████████████████████████████████████████████████████████████████████████████████████████████████████████████████████████████████████████| 291/291 [01:14<00:00,  3.88it/s]\n"
     ]
    },
    {
     "name": "stdout",
     "output_type": "stream",
     "text": [
      "Val   loss: 0.7035, Acc: 0.8268\n",
      "Val and misc time: 75.77357697486877\n",
      "Total time: 895.4466156959534\n",
      "Epoch 24/100\n"
     ]
    },
    {
     "name": "stderr",
     "output_type": "stream",
     "text": [
      "100%|██████████████████████████████████████████████████████████████████████████████████████████████████████████████████████████████████████████████████████████████████████████████████████████████████| 1163/1163 [13:39<00:00,  1.42it/s]\n"
     ]
    },
    {
     "name": "stdout",
     "output_type": "stream",
     "text": [
      "Train loss: 0.1110, Acc: 0.9598\n",
      "Train time: 819.5844931602478\n",
      "OrderedDict([('active.all.allocated', 97009168), ('active.all.current', 722), ('active.all.freed', 97008446), ('active.all.peak', 1301), ('active.large_pool.allocated', 37548518), ('active.large_pool.current', 171), ('active.large_pool.freed', 37548347), ('active.large_pool.peak', 455), ('active.small_pool.allocated', 59460650), ('active.small_pool.current', 551), ('active.small_pool.freed', 59460099), ('active.small_pool.peak', 923), ('active_bytes.all.allocated', 2771385139478528), ('active_bytes.all.current', 814213632), ('active_bytes.all.freed', 2771384325264896), ('active_bytes.all.peak', 21219656192), ('active_bytes.large_pool.allocated', 2759156299596288), ('active_bytes.large_pool.current', 764690432), ('active_bytes.large_pool.freed', 2759155534905856), ('active_bytes.large_pool.peak', 21118613504), ('active_bytes.small_pool.allocated', 12228839882240), ('active_bytes.small_pool.current', 49523200), ('active_bytes.small_pool.freed', 12228790359040), ('active_bytes.small_pool.peak', 103129600), ('allocated_bytes.all.allocated', 2771385139478528), ('allocated_bytes.all.current', 814213632), ('allocated_bytes.all.freed', 2771384325264896), ('allocated_bytes.all.peak', 21219656192), ('allocated_bytes.large_pool.allocated', 2759156299596288), ('allocated_bytes.large_pool.current', 764690432), ('allocated_bytes.large_pool.freed', 2759155534905856), ('allocated_bytes.large_pool.peak', 21118613504), ('allocated_bytes.small_pool.allocated', 12228839882240), ('allocated_bytes.small_pool.current', 49523200), ('allocated_bytes.small_pool.freed', 12228790359040), ('allocated_bytes.small_pool.peak', 103129600), ('allocation.all.allocated', 97009168), ('allocation.all.current', 722), ('allocation.all.freed', 97008446), ('allocation.all.peak', 1301), ('allocation.large_pool.allocated', 37548518), ('allocation.large_pool.current', 171), ('allocation.large_pool.freed', 37548347), ('allocation.large_pool.peak', 455), ('allocation.small_pool.allocated', 59460650), ('allocation.small_pool.current', 551), ('allocation.small_pool.freed', 59460099), ('allocation.small_pool.peak', 923), ('inactive_split.all.allocated', 47315275), ('inactive_split.all.current', 63), ('inactive_split.all.freed', 47315212), ('inactive_split.all.peak', 155), ('inactive_split.large_pool.allocated', 18219494), ('inactive_split.large_pool.current', 32), ('inactive_split.large_pool.freed', 18219462), ('inactive_split.large_pool.peak', 116), ('inactive_split.small_pool.allocated', 29095781), ('inactive_split.small_pool.current', 31), ('inactive_split.small_pool.freed', 29095750), ('inactive_split.small_pool.peak', 71), ('inactive_split_bytes.all.allocated', 1106936274872832), ('inactive_split_bytes.all.current', 666375680), ('inactive_split_bytes.all.freed', 1106935608497152), ('inactive_split_bytes.all.peak', 2876618752), ('inactive_split_bytes.large_pool.allocated', 1094536261953024), ('inactive_split_bytes.large_pool.current', 655081472), ('inactive_split_bytes.large_pool.freed', 1094535606871552), ('inactive_split_bytes.large_pool.peak', 2852038656), ('inactive_split_bytes.small_pool.allocated', 12400012919808), ('inactive_split_bytes.small_pool.current', 11294208), ('inactive_split_bytes.small_pool.freed', 12400001625600), ('inactive_split_bytes.small_pool.peak', 36898816), ('max_split_size', -1), ('num_alloc_retries', 0), ('num_ooms', 0), ('oversize_allocations.allocated', 0), ('oversize_allocations.current', 0), ('oversize_allocations.freed', 0), ('oversize_allocations.peak', 0), ('oversize_segments.allocated', 0), ('oversize_segments.current', 0), ('oversize_segments.freed', 0), ('oversize_segments.peak', 0), ('requested_bytes.all.allocated', 2768865045558382), ('requested_bytes.all.current', 813142820), ('requested_bytes.all.freed', 2768864232415562), ('requested_bytes.all.peak', 21200522092), ('requested_bytes.large_pool.allocated', 2756638819681920), ('requested_bytes.large_pool.current', 763631616), ('requested_bytes.large_pool.freed', 2756638056050304), ('requested_bytes.large_pool.peak', 21099512704), ('requested_bytes.small_pool.allocated', 12226225876462), ('requested_bytes.small_pool.current', 49511204), ('requested_bytes.small_pool.freed', 12226176365258), ('requested_bytes.small_pool.peak', 103115436), ('reserved_bytes.all.allocated', 21904752640), ('reserved_bytes.all.current', 21904752640), ('reserved_bytes.all.freed', 0), ('reserved_bytes.all.peak', 21904752640), ('reserved_bytes.large_pool.allocated', 21797797888), ('reserved_bytes.large_pool.current', 21797797888), ('reserved_bytes.large_pool.freed', 0), ('reserved_bytes.large_pool.peak', 21797797888), ('reserved_bytes.small_pool.allocated', 106954752), ('reserved_bytes.small_pool.current', 106954752), ('reserved_bytes.small_pool.freed', 0), ('reserved_bytes.small_pool.peak', 106954752), ('segment.all.allocated', 224), ('segment.all.current', 224), ('segment.all.freed', 0), ('segment.all.peak', 224), ('segment.large_pool.allocated', 173), ('segment.large_pool.current', 173), ('segment.large_pool.freed', 0), ('segment.large_pool.peak', 173), ('segment.small_pool.allocated', 51), ('segment.small_pool.current', 51), ('segment.small_pool.freed', 0), ('segment.small_pool.peak', 51)])\n"
     ]
    },
    {
     "name": "stderr",
     "output_type": "stream",
     "text": [
      "100%|████████████████████████████████████████████████████████████████████████████████████████████████████████████████████████████████████████████████████████████████████████████████████████████████████| 291/291 [01:14<00:00,  3.88it/s]\n"
     ]
    },
    {
     "name": "stdout",
     "output_type": "stream",
     "text": [
      "Val   loss: 0.7352, Acc: 0.8262\n",
      "Val and misc time: 75.85430526733398\n",
      "Total time: 895.4389634132385\n",
      "Epoch 25/100\n"
     ]
    },
    {
     "name": "stderr",
     "output_type": "stream",
     "text": [
      "100%|██████████████████████████████████████████████████████████████████████████████████████████████████████████████████████████████████████████████████████████████████████████████████████████████████| 1163/1163 [13:39<00:00,  1.42it/s]\n"
     ]
    },
    {
     "name": "stdout",
     "output_type": "stream",
     "text": [
      "Train loss: 0.0986, Acc: 0.9643\n",
      "Train time: 819.792106628418\n",
      "OrderedDict([('active.all.allocated', 101064561), ('active.all.current', 722), ('active.all.freed', 101063839), ('active.all.peak', 1301), ('active.large_pool.allocated', 39118707), ('active.large_pool.current', 171), ('active.large_pool.freed', 39118536), ('active.large_pool.peak', 455), ('active.small_pool.allocated', 61945854), ('active.small_pool.current', 551), ('active.small_pool.freed', 61945303), ('active.small_pool.peak', 923), ('active_bytes.all.allocated', 2887323900476928), ('active_bytes.all.current', 814213632), ('active_bytes.all.freed', 2887323086263296), ('active_bytes.all.peak', 21219656192), ('active_bytes.large_pool.allocated', 2874583913773056), ('active_bytes.large_pool.current', 764690432), ('active_bytes.large_pool.freed', 2874583149082624), ('active_bytes.large_pool.peak', 21118613504), ('active_bytes.small_pool.allocated', 12739986703872), ('active_bytes.small_pool.current', 49523200), ('active_bytes.small_pool.freed', 12739937180672), ('active_bytes.small_pool.peak', 103129600), ('allocated_bytes.all.allocated', 2887323900476928), ('allocated_bytes.all.current', 814213632), ('allocated_bytes.all.freed', 2887323086263296), ('allocated_bytes.all.peak', 21219656192), ('allocated_bytes.large_pool.allocated', 2874583913773056), ('allocated_bytes.large_pool.current', 764690432), ('allocated_bytes.large_pool.freed', 2874583149082624), ('allocated_bytes.large_pool.peak', 21118613504), ('allocated_bytes.small_pool.allocated', 12739986703872), ('allocated_bytes.small_pool.current', 49523200), ('allocated_bytes.small_pool.freed', 12739937180672), ('allocated_bytes.small_pool.peak', 103129600), ('allocation.all.allocated', 101064561), ('allocation.all.current', 722), ('allocation.all.freed', 101063839), ('allocation.all.peak', 1301), ('allocation.large_pool.allocated', 39118707), ('allocation.large_pool.current', 171), ('allocation.large_pool.freed', 39118536), ('allocation.large_pool.peak', 455), ('allocation.small_pool.allocated', 61945854), ('allocation.small_pool.current', 551), ('allocation.small_pool.freed', 61945303), ('allocation.small_pool.peak', 923), ('inactive_split.all.allocated', 49295444), ('inactive_split.all.current', 63), ('inactive_split.all.freed', 49295381), ('inactive_split.all.peak', 155), ('inactive_split.large_pool.allocated', 18981960), ('inactive_split.large_pool.current', 32), ('inactive_split.large_pool.freed', 18981928), ('inactive_split.large_pool.peak', 116), ('inactive_split.small_pool.allocated', 30313484), ('inactive_split.small_pool.current', 31), ('inactive_split.small_pool.freed', 30313453), ('inactive_split.small_pool.peak', 71), ('inactive_split_bytes.all.allocated', 1153081177237504), ('inactive_split_bytes.all.current', 666375680), ('inactive_split_bytes.all.freed', 1153080510861824), ('inactive_split_bytes.all.peak', 2876618752), ('inactive_split_bytes.large_pool.allocated', 1140162884551680), ('inactive_split_bytes.large_pool.current', 655081472), ('inactive_split_bytes.large_pool.freed', 1140162229470208), ('inactive_split_bytes.large_pool.peak', 2852038656), ('inactive_split_bytes.small_pool.allocated', 12918292685824), ('inactive_split_bytes.small_pool.current', 11294208), ('inactive_split_bytes.small_pool.freed', 12918281391616), ('inactive_split_bytes.small_pool.peak', 36898816), ('max_split_size', -1), ('num_alloc_retries', 0), ('num_ooms', 0), ('oversize_allocations.allocated', 0), ('oversize_allocations.current', 0), ('oversize_allocations.freed', 0), ('oversize_allocations.peak', 0), ('oversize_segments.allocated', 0), ('oversize_segments.current', 0), ('oversize_segments.freed', 0), ('oversize_segments.peak', 0), ('requested_bytes.all.allocated', 2884698477379230), ('requested_bytes.all.current', 813142820), ('requested_bytes.all.freed', 2884697664236410), ('requested_bytes.all.peak', 21200522092), ('requested_bytes.large_pool.allocated', 2871961213992260), ('requested_bytes.large_pool.current', 763631616), ('requested_bytes.large_pool.freed', 2871960450360644), ('requested_bytes.large_pool.peak', 21099512704), ('requested_bytes.small_pool.allocated', 12737263386970), ('requested_bytes.small_pool.current', 49511204), ('requested_bytes.small_pool.freed', 12737213875766), ('requested_bytes.small_pool.peak', 103115436), ('reserved_bytes.all.allocated', 21904752640), ('reserved_bytes.all.current', 21904752640), ('reserved_bytes.all.freed', 0), ('reserved_bytes.all.peak', 21904752640), ('reserved_bytes.large_pool.allocated', 21797797888), ('reserved_bytes.large_pool.current', 21797797888), ('reserved_bytes.large_pool.freed', 0), ('reserved_bytes.large_pool.peak', 21797797888), ('reserved_bytes.small_pool.allocated', 106954752), ('reserved_bytes.small_pool.current', 106954752), ('reserved_bytes.small_pool.freed', 0), ('reserved_bytes.small_pool.peak', 106954752), ('segment.all.allocated', 224), ('segment.all.current', 224), ('segment.all.freed', 0), ('segment.all.peak', 224), ('segment.large_pool.allocated', 173), ('segment.large_pool.current', 173), ('segment.large_pool.freed', 0), ('segment.large_pool.peak', 173), ('segment.small_pool.allocated', 51), ('segment.small_pool.current', 51), ('segment.small_pool.freed', 0), ('segment.small_pool.peak', 51)])\n"
     ]
    },
    {
     "name": "stderr",
     "output_type": "stream",
     "text": [
      "100%|████████████████████████████████████████████████████████████████████████████████████████████████████████████████████████████████████████████████████████████████████████████████████████████████████| 291/291 [01:14<00:00,  3.88it/s]\n"
     ]
    },
    {
     "name": "stdout",
     "output_type": "stream",
     "text": [
      "Val   loss: 0.6818, Acc: 0.8424\n",
      "Val and misc time: 75.87059807777405\n",
      "Total time: 895.6628155708313\n",
      "Epoch 26/100\n"
     ]
    },
    {
     "name": "stderr",
     "output_type": "stream",
     "text": [
      "100%|██████████████████████████████████████████████████████████████████████████████████████████████████████████████████████████████████████████████████████████████████████████████████████████████████| 1163/1163 [13:39<00:00,  1.42it/s]\n"
     ]
    },
    {
     "name": "stdout",
     "output_type": "stream",
     "text": [
      "Train loss: 0.0896, Acc: 0.9687\n",
      "Train time: 819.5711622238159\n",
      "OrderedDict([('active.all.allocated', 105119954), ('active.all.current', 722), ('active.all.freed', 105119232), ('active.all.peak', 1301), ('active.large_pool.allocated', 40688896), ('active.large_pool.current', 171), ('active.large_pool.freed', 40688725), ('active.large_pool.peak', 455), ('active.small_pool.allocated', 64431058), ('active.small_pool.current', 551), ('active.small_pool.freed', 64430507), ('active.small_pool.peak', 923), ('active_bytes.all.allocated', 3003262661475328), ('active_bytes.all.current', 814213632), ('active_bytes.all.freed', 3003261847261696), ('active_bytes.all.peak', 21219656192), ('active_bytes.large_pool.allocated', 2990011527949824), ('active_bytes.large_pool.current', 764690432), ('active_bytes.large_pool.freed', 2990010763259392), ('active_bytes.large_pool.peak', 21118613504), ('active_bytes.small_pool.allocated', 13251133525504), ('active_bytes.small_pool.current', 49523200), ('active_bytes.small_pool.freed', 13251084002304), ('active_bytes.small_pool.peak', 103129600), ('allocated_bytes.all.allocated', 3003262661475328), ('allocated_bytes.all.current', 814213632), ('allocated_bytes.all.freed', 3003261847261696), ('allocated_bytes.all.peak', 21219656192), ('allocated_bytes.large_pool.allocated', 2990011527949824), ('allocated_bytes.large_pool.current', 764690432), ('allocated_bytes.large_pool.freed', 2990010763259392), ('allocated_bytes.large_pool.peak', 21118613504), ('allocated_bytes.small_pool.allocated', 13251133525504), ('allocated_bytes.small_pool.current', 49523200), ('allocated_bytes.small_pool.freed', 13251084002304), ('allocated_bytes.small_pool.peak', 103129600), ('allocation.all.allocated', 105119954), ('allocation.all.current', 722), ('allocation.all.freed', 105119232), ('allocation.all.peak', 1301), ('allocation.large_pool.allocated', 40688896), ('allocation.large_pool.current', 171), ('allocation.large_pool.freed', 40688725), ('allocation.large_pool.peak', 455), ('allocation.small_pool.allocated', 64431058), ('allocation.small_pool.current', 551), ('allocation.small_pool.freed', 64430507), ('allocation.small_pool.peak', 923), ('inactive_split.all.allocated', 51270569), ('inactive_split.all.current', 63), ('inactive_split.all.freed', 51270506), ('inactive_split.all.peak', 155), ('inactive_split.large_pool.allocated', 19744426), ('inactive_split.large_pool.current', 32), ('inactive_split.large_pool.freed', 19744394), ('inactive_split.large_pool.peak', 116), ('inactive_split.small_pool.allocated', 31526143), ('inactive_split.small_pool.current', 31), ('inactive_split.small_pool.freed', 31526112), ('inactive_split.small_pool.peak', 71), ('inactive_split_bytes.all.allocated', 1199226079602176), ('inactive_split_bytes.all.current', 666375680), ('inactive_split_bytes.all.freed', 1199225413226496), ('inactive_split_bytes.all.peak', 2876618752), ('inactive_split_bytes.large_pool.allocated', 1185789507150336), ('inactive_split_bytes.large_pool.current', 655081472), ('inactive_split_bytes.large_pool.freed', 1185788852068864), ('inactive_split_bytes.large_pool.peak', 2852038656), ('inactive_split_bytes.small_pool.allocated', 13436572451840), ('inactive_split_bytes.small_pool.current', 11294208), ('inactive_split_bytes.small_pool.freed', 13436561157632), ('inactive_split_bytes.small_pool.peak', 36898816), ('max_split_size', -1), ('num_alloc_retries', 0), ('num_ooms', 0), ('oversize_allocations.allocated', 0), ('oversize_allocations.current', 0), ('oversize_allocations.freed', 0), ('oversize_allocations.peak', 0), ('oversize_segments.allocated', 0), ('oversize_segments.current', 0), ('oversize_segments.freed', 0), ('oversize_segments.peak', 0), ('requested_bytes.all.allocated', 3000531909200078), ('requested_bytes.all.current', 813142820), ('requested_bytes.all.freed', 3000531096057258), ('requested_bytes.all.peak', 21200522092), ('requested_bytes.large_pool.allocated', 2987283608302600), ('requested_bytes.large_pool.current', 763631616), ('requested_bytes.large_pool.freed', 2987282844670984), ('requested_bytes.large_pool.peak', 21099512704), ('requested_bytes.small_pool.allocated', 13248300897478), ('requested_bytes.small_pool.current', 49511204), ('requested_bytes.small_pool.freed', 13248251386274), ('requested_bytes.small_pool.peak', 103115436), ('reserved_bytes.all.allocated', 21904752640), ('reserved_bytes.all.current', 21904752640), ('reserved_bytes.all.freed', 0), ('reserved_bytes.all.peak', 21904752640), ('reserved_bytes.large_pool.allocated', 21797797888), ('reserved_bytes.large_pool.current', 21797797888), ('reserved_bytes.large_pool.freed', 0), ('reserved_bytes.large_pool.peak', 21797797888), ('reserved_bytes.small_pool.allocated', 106954752), ('reserved_bytes.small_pool.current', 106954752), ('reserved_bytes.small_pool.freed', 0), ('reserved_bytes.small_pool.peak', 106954752), ('segment.all.allocated', 224), ('segment.all.current', 224), ('segment.all.freed', 0), ('segment.all.peak', 224), ('segment.large_pool.allocated', 173), ('segment.large_pool.current', 173), ('segment.large_pool.freed', 0), ('segment.large_pool.peak', 173), ('segment.small_pool.allocated', 51), ('segment.small_pool.current', 51), ('segment.small_pool.freed', 0), ('segment.small_pool.peak', 51)])\n"
     ]
    },
    {
     "name": "stderr",
     "output_type": "stream",
     "text": [
      "100%|████████████████████████████████████████████████████████████████████████████████████████████████████████████████████████████████████████████████████████████████████████████████████████████████████| 291/291 [01:14<00:00,  3.88it/s]\n"
     ]
    },
    {
     "name": "stdout",
     "output_type": "stream",
     "text": [
      "Val   loss: 0.7226, Acc: 0.8327\n",
      "Val and misc time: 75.77731513977051\n",
      "Total time: 895.3486618995667\n",
      "Epoch 27/100\n"
     ]
    },
    {
     "name": "stderr",
     "output_type": "stream",
     "text": [
      "100%|██████████████████████████████████████████████████████████████████████████████████████████████████████████████████████████████████████████████████████████████████████████████████████████████████| 1163/1163 [13:39<00:00,  1.42it/s]\n"
     ]
    },
    {
     "name": "stdout",
     "output_type": "stream",
     "text": [
      "Train loss: 0.0812, Acc: 0.9703\n",
      "Train time: 819.5205454826355\n",
      "OrderedDict([('active.all.allocated', 109175347), ('active.all.current', 722), ('active.all.freed', 109174625), ('active.all.peak', 1301), ('active.large_pool.allocated', 42259085), ('active.large_pool.current', 171), ('active.large_pool.freed', 42258914), ('active.large_pool.peak', 455), ('active.small_pool.allocated', 66916262), ('active.small_pool.current', 551), ('active.small_pool.freed', 66915711), ('active.small_pool.peak', 923), ('active_bytes.all.allocated', 3119201422473728), ('active_bytes.all.current', 814213632), ('active_bytes.all.freed', 3119200608260096), ('active_bytes.all.peak', 21219656192), ('active_bytes.large_pool.allocated', 3105439142126592), ('active_bytes.large_pool.current', 764690432), ('active_bytes.large_pool.freed', 3105438377436160), ('active_bytes.large_pool.peak', 21118613504), ('active_bytes.small_pool.allocated', 13762280347136), ('active_bytes.small_pool.current', 49523200), ('active_bytes.small_pool.freed', 13762230823936), ('active_bytes.small_pool.peak', 103129600), ('allocated_bytes.all.allocated', 3119201422473728), ('allocated_bytes.all.current', 814213632), ('allocated_bytes.all.freed', 3119200608260096), ('allocated_bytes.all.peak', 21219656192), ('allocated_bytes.large_pool.allocated', 3105439142126592), ('allocated_bytes.large_pool.current', 764690432), ('allocated_bytes.large_pool.freed', 3105438377436160), ('allocated_bytes.large_pool.peak', 21118613504), ('allocated_bytes.small_pool.allocated', 13762280347136), ('allocated_bytes.small_pool.current', 49523200), ('allocated_bytes.small_pool.freed', 13762230823936), ('allocated_bytes.small_pool.peak', 103129600), ('allocation.all.allocated', 109175347), ('allocation.all.current', 722), ('allocation.all.freed', 109174625), ('allocation.all.peak', 1301), ('allocation.large_pool.allocated', 42259085), ('allocation.large_pool.current', 171), ('allocation.large_pool.freed', 42258914), ('allocation.large_pool.peak', 455), ('allocation.small_pool.allocated', 66916262), ('allocation.small_pool.current', 551), ('allocation.small_pool.freed', 66915711), ('allocation.small_pool.peak', 923), ('inactive_split.all.allocated', 53250738), ('inactive_split.all.current', 63), ('inactive_split.all.freed', 53250675), ('inactive_split.all.peak', 155), ('inactive_split.large_pool.allocated', 20506892), ('inactive_split.large_pool.current', 32), ('inactive_split.large_pool.freed', 20506860), ('inactive_split.large_pool.peak', 116), ('inactive_split.small_pool.allocated', 32743846), ('inactive_split.small_pool.current', 31), ('inactive_split.small_pool.freed', 32743815), ('inactive_split.small_pool.peak', 71), ('inactive_split_bytes.all.allocated', 1245370981966848), ('inactive_split_bytes.all.current', 666375680), ('inactive_split_bytes.all.freed', 1245370315591168), ('inactive_split_bytes.all.peak', 2876618752), ('inactive_split_bytes.large_pool.allocated', 1231416129748992), ('inactive_split_bytes.large_pool.current', 655081472), ('inactive_split_bytes.large_pool.freed', 1231415474667520), ('inactive_split_bytes.large_pool.peak', 2852038656), ('inactive_split_bytes.small_pool.allocated', 13954852217856), ('inactive_split_bytes.small_pool.current', 11294208), ('inactive_split_bytes.small_pool.freed', 13954840923648), ('inactive_split_bytes.small_pool.peak', 36898816), ('max_split_size', -1), ('num_alloc_retries', 0), ('num_ooms', 0), ('oversize_allocations.allocated', 0), ('oversize_allocations.current', 0), ('oversize_allocations.freed', 0), ('oversize_allocations.peak', 0), ('oversize_segments.allocated', 0), ('oversize_segments.current', 0), ('oversize_segments.freed', 0), ('oversize_segments.peak', 0), ('requested_bytes.all.allocated', 3116365341020926), ('requested_bytes.all.current', 813142820), ('requested_bytes.all.freed', 3116364527878106), ('requested_bytes.all.peak', 21200522092), ('requested_bytes.large_pool.allocated', 3102606002612940), ('requested_bytes.large_pool.current', 763631616), ('requested_bytes.large_pool.freed', 3102605238981324), ('requested_bytes.large_pool.peak', 21099512704), ('requested_bytes.small_pool.allocated', 13759338407986), ('requested_bytes.small_pool.current', 49511204), ('requested_bytes.small_pool.freed', 13759288896782), ('requested_bytes.small_pool.peak', 103115436), ('reserved_bytes.all.allocated', 21904752640), ('reserved_bytes.all.current', 21904752640), ('reserved_bytes.all.freed', 0), ('reserved_bytes.all.peak', 21904752640), ('reserved_bytes.large_pool.allocated', 21797797888), ('reserved_bytes.large_pool.current', 21797797888), ('reserved_bytes.large_pool.freed', 0), ('reserved_bytes.large_pool.peak', 21797797888), ('reserved_bytes.small_pool.allocated', 106954752), ('reserved_bytes.small_pool.current', 106954752), ('reserved_bytes.small_pool.freed', 0), ('reserved_bytes.small_pool.peak', 106954752), ('segment.all.allocated', 224), ('segment.all.current', 224), ('segment.all.freed', 0), ('segment.all.peak', 224), ('segment.large_pool.allocated', 173), ('segment.large_pool.current', 173), ('segment.large_pool.freed', 0), ('segment.large_pool.peak', 173), ('segment.small_pool.allocated', 51), ('segment.small_pool.current', 51), ('segment.small_pool.freed', 0), ('segment.small_pool.peak', 51)])\n"
     ]
    },
    {
     "name": "stderr",
     "output_type": "stream",
     "text": [
      "100%|████████████████████████████████████████████████████████████████████████████████████████████████████████████████████████████████████████████████████████████████████████████████████████████████████| 291/291 [01:15<00:00,  3.88it/s]\n"
     ]
    },
    {
     "name": "stdout",
     "output_type": "stream",
     "text": [
      "Val   loss: 0.7440, Acc: 0.8407\n",
      "Val and misc time: 75.89843487739563\n",
      "Total time: 895.4191315174103\n",
      "Epoch 28/100\n"
     ]
    },
    {
     "name": "stderr",
     "output_type": "stream",
     "text": [
      "100%|██████████████████████████████████████████████████████████████████████████████████████████████████████████████████████████████████████████████████████████████████████████████████████████████████| 1163/1163 [13:39<00:00,  1.42it/s]\n"
     ]
    },
    {
     "name": "stdout",
     "output_type": "stream",
     "text": [
      "Train loss: 0.0722, Acc: 0.9748\n",
      "Train time: 819.2725274562836\n",
      "OrderedDict([('active.all.allocated', 113230740), ('active.all.current', 722), ('active.all.freed', 113230018), ('active.all.peak', 1301), ('active.large_pool.allocated', 43829274), ('active.large_pool.current', 171), ('active.large_pool.freed', 43829103), ('active.large_pool.peak', 455), ('active.small_pool.allocated', 69401466), ('active.small_pool.current', 551), ('active.small_pool.freed', 69400915), ('active.small_pool.peak', 923), ('active_bytes.all.allocated', 3235140183472128), ('active_bytes.all.current', 814213632), ('active_bytes.all.freed', 3235139369258496), ('active_bytes.all.peak', 21219656192), ('active_bytes.large_pool.allocated', 3220866756303360), ('active_bytes.large_pool.current', 764690432), ('active_bytes.large_pool.freed', 3220865991612928), ('active_bytes.large_pool.peak', 21118613504), ('active_bytes.small_pool.allocated', 14273427168768), ('active_bytes.small_pool.current', 49523200), ('active_bytes.small_pool.freed', 14273377645568), ('active_bytes.small_pool.peak', 103129600), ('allocated_bytes.all.allocated', 3235140183472128), ('allocated_bytes.all.current', 814213632), ('allocated_bytes.all.freed', 3235139369258496), ('allocated_bytes.all.peak', 21219656192), ('allocated_bytes.large_pool.allocated', 3220866756303360), ('allocated_bytes.large_pool.current', 764690432), ('allocated_bytes.large_pool.freed', 3220865991612928), ('allocated_bytes.large_pool.peak', 21118613504), ('allocated_bytes.small_pool.allocated', 14273427168768), ('allocated_bytes.small_pool.current', 49523200), ('allocated_bytes.small_pool.freed', 14273377645568), ('allocated_bytes.small_pool.peak', 103129600), ('allocation.all.allocated', 113230740), ('allocation.all.current', 722), ('allocation.all.freed', 113230018), ('allocation.all.peak', 1301), ('allocation.large_pool.allocated', 43829274), ('allocation.large_pool.current', 171), ('allocation.large_pool.freed', 43829103), ('allocation.large_pool.peak', 455), ('allocation.small_pool.allocated', 69401466), ('allocation.small_pool.current', 551), ('allocation.small_pool.freed', 69400915), ('allocation.small_pool.peak', 923), ('inactive_split.all.allocated', 55225863), ('inactive_split.all.current', 63), ('inactive_split.all.freed', 55225800), ('inactive_split.all.peak', 155), ('inactive_split.large_pool.allocated', 21269358), ('inactive_split.large_pool.current', 32), ('inactive_split.large_pool.freed', 21269326), ('inactive_split.large_pool.peak', 116), ('inactive_split.small_pool.allocated', 33956505), ('inactive_split.small_pool.current', 31), ('inactive_split.small_pool.freed', 33956474), ('inactive_split.small_pool.peak', 71), ('inactive_split_bytes.all.allocated', 1291515884331520), ('inactive_split_bytes.all.current', 666375680), ('inactive_split_bytes.all.freed', 1291515217955840), ('inactive_split_bytes.all.peak', 2876618752), ('inactive_split_bytes.large_pool.allocated', 1277042752347648), ('inactive_split_bytes.large_pool.current', 655081472), ('inactive_split_bytes.large_pool.freed', 1277042097266176), ('inactive_split_bytes.large_pool.peak', 2852038656), ('inactive_split_bytes.small_pool.allocated', 14473131983872), ('inactive_split_bytes.small_pool.current', 11294208), ('inactive_split_bytes.small_pool.freed', 14473120689664), ('inactive_split_bytes.small_pool.peak', 36898816), ('max_split_size', -1), ('num_alloc_retries', 0), ('num_ooms', 0), ('oversize_allocations.allocated', 0), ('oversize_allocations.current', 0), ('oversize_allocations.freed', 0), ('oversize_allocations.peak', 0), ('oversize_segments.allocated', 0), ('oversize_segments.current', 0), ('oversize_segments.freed', 0), ('oversize_segments.peak', 0), ('requested_bytes.all.allocated', 3232198772841774), ('requested_bytes.all.current', 813142820), ('requested_bytes.all.freed', 3232197959698954), ('requested_bytes.all.peak', 21200522092), ('requested_bytes.large_pool.allocated', 3217928396923280), ('requested_bytes.large_pool.current', 763631616), ('requested_bytes.large_pool.freed', 3217927633291664), ('requested_bytes.large_pool.peak', 21099512704), ('requested_bytes.small_pool.allocated', 14270375918494), ('requested_bytes.small_pool.current', 49511204), ('requested_bytes.small_pool.freed', 14270326407290), ('requested_bytes.small_pool.peak', 103115436), ('reserved_bytes.all.allocated', 21904752640), ('reserved_bytes.all.current', 21904752640), ('reserved_bytes.all.freed', 0), ('reserved_bytes.all.peak', 21904752640), ('reserved_bytes.large_pool.allocated', 21797797888), ('reserved_bytes.large_pool.current', 21797797888), ('reserved_bytes.large_pool.freed', 0), ('reserved_bytes.large_pool.peak', 21797797888), ('reserved_bytes.small_pool.allocated', 106954752), ('reserved_bytes.small_pool.current', 106954752), ('reserved_bytes.small_pool.freed', 0), ('reserved_bytes.small_pool.peak', 106954752), ('segment.all.allocated', 224), ('segment.all.current', 224), ('segment.all.freed', 0), ('segment.all.peak', 224), ('segment.large_pool.allocated', 173), ('segment.large_pool.current', 173), ('segment.large_pool.freed', 0), ('segment.large_pool.peak', 173), ('segment.small_pool.allocated', 51), ('segment.small_pool.current', 51), ('segment.small_pool.freed', 0), ('segment.small_pool.peak', 51)])\n"
     ]
    },
    {
     "name": "stderr",
     "output_type": "stream",
     "text": [
      "100%|████████████████████████████████████████████████████████████████████████████████████████████████████████████████████████████████████████████████████████████████████████████████████████████████████| 291/291 [01:14<00:00,  3.88it/s]\n"
     ]
    },
    {
     "name": "stdout",
     "output_type": "stream",
     "text": [
      "Val   loss: 0.7638, Acc: 0.8378\n",
      "Val and misc time: 75.795236825943\n",
      "Total time: 895.0678911209106\n",
      "Epoch 29/100\n"
     ]
    },
    {
     "name": "stderr",
     "output_type": "stream",
     "text": [
      "100%|██████████████████████████████████████████████████████████████████████████████████████████████████████████████████████████████████████████████████████████████████████████████████████████████████| 1163/1163 [13:39<00:00,  1.42it/s]\n"
     ]
    },
    {
     "name": "stdout",
     "output_type": "stream",
     "text": [
      "Train loss: 0.0647, Acc: 0.9767\n",
      "Train time: 819.3603148460388\n",
      "OrderedDict([('active.all.allocated', 117286133), ('active.all.current', 722), ('active.all.freed', 117285411), ('active.all.peak', 1301), ('active.large_pool.allocated', 45399463), ('active.large_pool.current', 171), ('active.large_pool.freed', 45399292), ('active.large_pool.peak', 455), ('active.small_pool.allocated', 71886670), ('active.small_pool.current', 551), ('active.small_pool.freed', 71886119), ('active.small_pool.peak', 923), ('active_bytes.all.allocated', 3351078944470528), ('active_bytes.all.current', 814213632), ('active_bytes.all.freed', 3351078130256896), ('active_bytes.all.peak', 21219656192), ('active_bytes.large_pool.allocated', 3336294370480128), ('active_bytes.large_pool.current', 764690432), ('active_bytes.large_pool.freed', 3336293605789696), ('active_bytes.large_pool.peak', 21118613504), ('active_bytes.small_pool.allocated', 14784573990400), ('active_bytes.small_pool.current', 49523200), ('active_bytes.small_pool.freed', 14784524467200), ('active_bytes.small_pool.peak', 103129600), ('allocated_bytes.all.allocated', 3351078944470528), ('allocated_bytes.all.current', 814213632), ('allocated_bytes.all.freed', 3351078130256896), ('allocated_bytes.all.peak', 21219656192), ('allocated_bytes.large_pool.allocated', 3336294370480128), ('allocated_bytes.large_pool.current', 764690432), ('allocated_bytes.large_pool.freed', 3336293605789696), ('allocated_bytes.large_pool.peak', 21118613504), ('allocated_bytes.small_pool.allocated', 14784573990400), ('allocated_bytes.small_pool.current', 49523200), ('allocated_bytes.small_pool.freed', 14784524467200), ('allocated_bytes.small_pool.peak', 103129600), ('allocation.all.allocated', 117286133), ('allocation.all.current', 722), ('allocation.all.freed', 117285411), ('allocation.all.peak', 1301), ('allocation.large_pool.allocated', 45399463), ('allocation.large_pool.current', 171), ('allocation.large_pool.freed', 45399292), ('allocation.large_pool.peak', 455), ('allocation.small_pool.allocated', 71886670), ('allocation.small_pool.current', 551), ('allocation.small_pool.freed', 71886119), ('allocation.small_pool.peak', 923), ('inactive_split.all.allocated', 57206032), ('inactive_split.all.current', 63), ('inactive_split.all.freed', 57205969), ('inactive_split.all.peak', 155), ('inactive_split.large_pool.allocated', 22031824), ('inactive_split.large_pool.current', 32), ('inactive_split.large_pool.freed', 22031792), ('inactive_split.large_pool.peak', 116), ('inactive_split.small_pool.allocated', 35174208), ('inactive_split.small_pool.current', 31), ('inactive_split.small_pool.freed', 35174177), ('inactive_split.small_pool.peak', 71), ('inactive_split_bytes.all.allocated', 1337660786696192), ('inactive_split_bytes.all.current', 666375680), ('inactive_split_bytes.all.freed', 1337660120320512), ('inactive_split_bytes.all.peak', 2876618752), ('inactive_split_bytes.large_pool.allocated', 1322669374946304), ('inactive_split_bytes.large_pool.current', 655081472), ('inactive_split_bytes.large_pool.freed', 1322668719864832), ('inactive_split_bytes.large_pool.peak', 2852038656), ('inactive_split_bytes.small_pool.allocated', 14991411749888), ('inactive_split_bytes.small_pool.current', 11294208), ('inactive_split_bytes.small_pool.freed', 14991400455680), ('inactive_split_bytes.small_pool.peak', 36898816), ('max_split_size', -1), ('num_alloc_retries', 0), ('num_ooms', 0), ('oversize_allocations.allocated', 0), ('oversize_allocations.current', 0), ('oversize_allocations.freed', 0), ('oversize_allocations.peak', 0), ('oversize_segments.allocated', 0), ('oversize_segments.current', 0), ('oversize_segments.freed', 0), ('oversize_segments.peak', 0), ('requested_bytes.all.allocated', 3348032204662622), ('requested_bytes.all.current', 813142820), ('requested_bytes.all.freed', 3348031391519802), ('requested_bytes.all.peak', 21200522092), ('requested_bytes.large_pool.allocated', 3333250791233620), ('requested_bytes.large_pool.current', 763631616), ('requested_bytes.large_pool.freed', 3333250027602004), ('requested_bytes.large_pool.peak', 21099512704), ('requested_bytes.small_pool.allocated', 14781413429002), ('requested_bytes.small_pool.current', 49511204), ('requested_bytes.small_pool.freed', 14781363917798), ('requested_bytes.small_pool.peak', 103115436), ('reserved_bytes.all.allocated', 21904752640), ('reserved_bytes.all.current', 21904752640), ('reserved_bytes.all.freed', 0), ('reserved_bytes.all.peak', 21904752640), ('reserved_bytes.large_pool.allocated', 21797797888), ('reserved_bytes.large_pool.current', 21797797888), ('reserved_bytes.large_pool.freed', 0), ('reserved_bytes.large_pool.peak', 21797797888), ('reserved_bytes.small_pool.allocated', 106954752), ('reserved_bytes.small_pool.current', 106954752), ('reserved_bytes.small_pool.freed', 0), ('reserved_bytes.small_pool.peak', 106954752), ('segment.all.allocated', 224), ('segment.all.current', 224), ('segment.all.freed', 0), ('segment.all.peak', 224), ('segment.large_pool.allocated', 173), ('segment.large_pool.current', 173), ('segment.large_pool.freed', 0), ('segment.large_pool.peak', 173), ('segment.small_pool.allocated', 51), ('segment.small_pool.current', 51), ('segment.small_pool.freed', 0), ('segment.small_pool.peak', 51)])\n"
     ]
    },
    {
     "name": "stderr",
     "output_type": "stream",
     "text": [
      "100%|████████████████████████████████████████████████████████████████████████████████████████████████████████████████████████████████████████████████████████████████████████████████████████████████████| 291/291 [01:14<00:00,  3.88it/s]\n"
     ]
    },
    {
     "name": "stdout",
     "output_type": "stream",
     "text": [
      "Val   loss: 0.8413, Acc: 0.8427\n",
      "Val and misc time: 75.7714855670929\n",
      "Total time: 895.1319446563721\n",
      "Epoch 30/100\n"
     ]
    },
    {
     "name": "stderr",
     "output_type": "stream",
     "text": [
      "100%|██████████████████████████████████████████████████████████████████████████████████████████████████████████████████████████████████████████████████████████████████████████████████████████████████| 1163/1163 [13:39<00:00,  1.42it/s]\n"
     ]
    },
    {
     "name": "stdout",
     "output_type": "stream",
     "text": [
      "Train loss: 0.0700, Acc: 0.9755\n",
      "Train time: 819.2539167404175\n",
      "OrderedDict([('active.all.allocated', 121341526), ('active.all.current', 722), ('active.all.freed', 121340804), ('active.all.peak', 1301), ('active.large_pool.allocated', 46969652), ('active.large_pool.current', 171), ('active.large_pool.freed', 46969481), ('active.large_pool.peak', 455), ('active.small_pool.allocated', 74371874), ('active.small_pool.current', 551), ('active.small_pool.freed', 74371323), ('active.small_pool.peak', 923), ('active_bytes.all.allocated', 3467017705468928), ('active_bytes.all.current', 814213632), ('active_bytes.all.freed', 3467016891255296), ('active_bytes.all.peak', 21219656192), ('active_bytes.large_pool.allocated', 3451721984656896), ('active_bytes.large_pool.current', 764690432), ('active_bytes.large_pool.freed', 3451721219966464), ('active_bytes.large_pool.peak', 21118613504), ('active_bytes.small_pool.allocated', 15295720812032), ('active_bytes.small_pool.current', 49523200), ('active_bytes.small_pool.freed', 15295671288832), ('active_bytes.small_pool.peak', 103129600), ('allocated_bytes.all.allocated', 3467017705468928), ('allocated_bytes.all.current', 814213632), ('allocated_bytes.all.freed', 3467016891255296), ('allocated_bytes.all.peak', 21219656192), ('allocated_bytes.large_pool.allocated', 3451721984656896), ('allocated_bytes.large_pool.current', 764690432), ('allocated_bytes.large_pool.freed', 3451721219966464), ('allocated_bytes.large_pool.peak', 21118613504), ('allocated_bytes.small_pool.allocated', 15295720812032), ('allocated_bytes.small_pool.current', 49523200), ('allocated_bytes.small_pool.freed', 15295671288832), ('allocated_bytes.small_pool.peak', 103129600), ('allocation.all.allocated', 121341526), ('allocation.all.current', 722), ('allocation.all.freed', 121340804), ('allocation.all.peak', 1301), ('allocation.large_pool.allocated', 46969652), ('allocation.large_pool.current', 171), ('allocation.large_pool.freed', 46969481), ('allocation.large_pool.peak', 455), ('allocation.small_pool.allocated', 74371874), ('allocation.small_pool.current', 551), ('allocation.small_pool.freed', 74371323), ('allocation.small_pool.peak', 923), ('inactive_split.all.allocated', 59181157), ('inactive_split.all.current', 63), ('inactive_split.all.freed', 59181094), ('inactive_split.all.peak', 155), ('inactive_split.large_pool.allocated', 22794290), ('inactive_split.large_pool.current', 32), ('inactive_split.large_pool.freed', 22794258), ('inactive_split.large_pool.peak', 116), ('inactive_split.small_pool.allocated', 36386867), ('inactive_split.small_pool.current', 31), ('inactive_split.small_pool.freed', 36386836), ('inactive_split.small_pool.peak', 71), ('inactive_split_bytes.all.allocated', 1383805689060864), ('inactive_split_bytes.all.current', 666375680), ('inactive_split_bytes.all.freed', 1383805022685184), ('inactive_split_bytes.all.peak', 2876618752), ('inactive_split_bytes.large_pool.allocated', 1368295997544960), ('inactive_split_bytes.large_pool.current', 655081472), ('inactive_split_bytes.large_pool.freed', 1368295342463488), ('inactive_split_bytes.large_pool.peak', 2852038656), ('inactive_split_bytes.small_pool.allocated', 15509691515904), ('inactive_split_bytes.small_pool.current', 11294208), ('inactive_split_bytes.small_pool.freed', 15509680221696), ('inactive_split_bytes.small_pool.peak', 36898816), ('max_split_size', -1), ('num_alloc_retries', 0), ('num_ooms', 0), ('oversize_allocations.allocated', 0), ('oversize_allocations.current', 0), ('oversize_allocations.freed', 0), ('oversize_allocations.peak', 0), ('oversize_segments.allocated', 0), ('oversize_segments.current', 0), ('oversize_segments.freed', 0), ('oversize_segments.peak', 0), ('requested_bytes.all.allocated', 3463865636483470), ('requested_bytes.all.current', 813142820), ('requested_bytes.all.freed', 3463864823340650), ('requested_bytes.all.peak', 21200522092), ('requested_bytes.large_pool.allocated', 3448573185543960), ('requested_bytes.large_pool.current', 763631616), ('requested_bytes.large_pool.freed', 3448572421912344), ('requested_bytes.large_pool.peak', 21099512704), ('requested_bytes.small_pool.allocated', 15292450939510), ('requested_bytes.small_pool.current', 49511204), ('requested_bytes.small_pool.freed', 15292401428306), ('requested_bytes.small_pool.peak', 103115436), ('reserved_bytes.all.allocated', 21904752640), ('reserved_bytes.all.current', 21904752640), ('reserved_bytes.all.freed', 0), ('reserved_bytes.all.peak', 21904752640), ('reserved_bytes.large_pool.allocated', 21797797888), ('reserved_bytes.large_pool.current', 21797797888), ('reserved_bytes.large_pool.freed', 0), ('reserved_bytes.large_pool.peak', 21797797888), ('reserved_bytes.small_pool.allocated', 106954752), ('reserved_bytes.small_pool.current', 106954752), ('reserved_bytes.small_pool.freed', 0), ('reserved_bytes.small_pool.peak', 106954752), ('segment.all.allocated', 224), ('segment.all.current', 224), ('segment.all.freed', 0), ('segment.all.peak', 224), ('segment.large_pool.allocated', 173), ('segment.large_pool.current', 173), ('segment.large_pool.freed', 0), ('segment.large_pool.peak', 173), ('segment.small_pool.allocated', 51), ('segment.small_pool.current', 51), ('segment.small_pool.freed', 0), ('segment.small_pool.peak', 51)])\n"
     ]
    },
    {
     "name": "stderr",
     "output_type": "stream",
     "text": [
      "100%|████████████████████████████████████████████████████████████████████████████████████████████████████████████████████████████████████████████████████████████████████████████████████████████████████| 291/291 [01:14<00:00,  3.89it/s]\n"
     ]
    },
    {
     "name": "stdout",
     "output_type": "stream",
     "text": [
      "Val   loss: 0.8063, Acc: 0.8443\n",
      "Val and misc time: 75.7565689086914\n",
      "Total time: 895.0106098651886\n",
      "Epoch 31/100\n"
     ]
    },
    {
     "name": "stderr",
     "output_type": "stream",
     "text": [
      "100%|██████████████████████████████████████████████████████████████████████████████████████████████████████████████████████████████████████████████████████████████████████████████████████████████████| 1163/1163 [13:39<00:00,  1.42it/s]\n"
     ]
    },
    {
     "name": "stdout",
     "output_type": "stream",
     "text": [
      "Train loss: 0.0649, Acc: 0.9765\n",
      "Train time: 819.0751574039459\n",
      "OrderedDict([('active.all.allocated', 125396919), ('active.all.current', 722), ('active.all.freed', 125396197), ('active.all.peak', 1301), ('active.large_pool.allocated', 48539841), ('active.large_pool.current', 171), ('active.large_pool.freed', 48539670), ('active.large_pool.peak', 455), ('active.small_pool.allocated', 76857078), ('active.small_pool.current', 551), ('active.small_pool.freed', 76856527), ('active.small_pool.peak', 923), ('active_bytes.all.allocated', 3582956466467328), ('active_bytes.all.current', 814213632), ('active_bytes.all.freed', 3582955652253696), ('active_bytes.all.peak', 21219656192), ('active_bytes.large_pool.allocated', 3567149598833664), ('active_bytes.large_pool.current', 764690432), ('active_bytes.large_pool.freed', 3567148834143232), ('active_bytes.large_pool.peak', 21118613504), ('active_bytes.small_pool.allocated', 15806867633664), ('active_bytes.small_pool.current', 49523200), ('active_bytes.small_pool.freed', 15806818110464), ('active_bytes.small_pool.peak', 103129600), ('allocated_bytes.all.allocated', 3582956466467328), ('allocated_bytes.all.current', 814213632), ('allocated_bytes.all.freed', 3582955652253696), ('allocated_bytes.all.peak', 21219656192), ('allocated_bytes.large_pool.allocated', 3567149598833664), ('allocated_bytes.large_pool.current', 764690432), ('allocated_bytes.large_pool.freed', 3567148834143232), ('allocated_bytes.large_pool.peak', 21118613504), ('allocated_bytes.small_pool.allocated', 15806867633664), ('allocated_bytes.small_pool.current', 49523200), ('allocated_bytes.small_pool.freed', 15806818110464), ('allocated_bytes.small_pool.peak', 103129600), ('allocation.all.allocated', 125396919), ('allocation.all.current', 722), ('allocation.all.freed', 125396197), ('allocation.all.peak', 1301), ('allocation.large_pool.allocated', 48539841), ('allocation.large_pool.current', 171), ('allocation.large_pool.freed', 48539670), ('allocation.large_pool.peak', 455), ('allocation.small_pool.allocated', 76857078), ('allocation.small_pool.current', 551), ('allocation.small_pool.freed', 76856527), ('allocation.small_pool.peak', 923), ('inactive_split.all.allocated', 61161326), ('inactive_split.all.current', 63), ('inactive_split.all.freed', 61161263), ('inactive_split.all.peak', 155), ('inactive_split.large_pool.allocated', 23556756), ('inactive_split.large_pool.current', 32), ('inactive_split.large_pool.freed', 23556724), ('inactive_split.large_pool.peak', 116), ('inactive_split.small_pool.allocated', 37604570), ('inactive_split.small_pool.current', 31), ('inactive_split.small_pool.freed', 37604539), ('inactive_split.small_pool.peak', 71), ('inactive_split_bytes.all.allocated', 1429950591425536), ('inactive_split_bytes.all.current', 666375680), ('inactive_split_bytes.all.freed', 1429949925049856), ('inactive_split_bytes.all.peak', 2876618752), ('inactive_split_bytes.large_pool.allocated', 1413922620143616), ('inactive_split_bytes.large_pool.current', 655081472), ('inactive_split_bytes.large_pool.freed', 1413921965062144), ('inactive_split_bytes.large_pool.peak', 2852038656), ('inactive_split_bytes.small_pool.allocated', 16027971281920), ('inactive_split_bytes.small_pool.current', 11294208), ('inactive_split_bytes.small_pool.freed', 16027959987712), ('inactive_split_bytes.small_pool.peak', 36898816), ('max_split_size', -1), ('num_alloc_retries', 0), ('num_ooms', 0), ('oversize_allocations.allocated', 0), ('oversize_allocations.current', 0), ('oversize_allocations.freed', 0), ('oversize_allocations.peak', 0), ('oversize_segments.allocated', 0), ('oversize_segments.current', 0), ('oversize_segments.freed', 0), ('oversize_segments.peak', 0), ('requested_bytes.all.allocated', 3579699068304318), ('requested_bytes.all.current', 813142820), ('requested_bytes.all.freed', 3579698255161498), ('requested_bytes.all.peak', 21200522092), ('requested_bytes.large_pool.allocated', 3563895579854300), ('requested_bytes.large_pool.current', 763631616), ('requested_bytes.large_pool.freed', 3563894816222684), ('requested_bytes.large_pool.peak', 21099512704), ('requested_bytes.small_pool.allocated', 15803488450018), ('requested_bytes.small_pool.current', 49511204), ('requested_bytes.small_pool.freed', 15803438938814), ('requested_bytes.small_pool.peak', 103115436), ('reserved_bytes.all.allocated', 21904752640), ('reserved_bytes.all.current', 21904752640), ('reserved_bytes.all.freed', 0), ('reserved_bytes.all.peak', 21904752640), ('reserved_bytes.large_pool.allocated', 21797797888), ('reserved_bytes.large_pool.current', 21797797888), ('reserved_bytes.large_pool.freed', 0), ('reserved_bytes.large_pool.peak', 21797797888), ('reserved_bytes.small_pool.allocated', 106954752), ('reserved_bytes.small_pool.current', 106954752), ('reserved_bytes.small_pool.freed', 0), ('reserved_bytes.small_pool.peak', 106954752), ('segment.all.allocated', 224), ('segment.all.current', 224), ('segment.all.freed', 0), ('segment.all.peak', 224), ('segment.large_pool.allocated', 173), ('segment.large_pool.current', 173), ('segment.large_pool.freed', 0), ('segment.large_pool.peak', 173), ('segment.small_pool.allocated', 51), ('segment.small_pool.current', 51), ('segment.small_pool.freed', 0), ('segment.small_pool.peak', 51)])\n"
     ]
    },
    {
     "name": "stderr",
     "output_type": "stream",
     "text": [
      "100%|████████████████████████████████████████████████████████████████████████████████████████████████████████████████████████████████████████████████████████████████████████████████████████████████████| 291/291 [01:14<00:00,  3.89it/s]\n"
     ]
    },
    {
     "name": "stdout",
     "output_type": "stream",
     "text": [
      "Val   loss: 0.8471, Acc: 0.8454\n",
      "Val and misc time: 75.79510474205017\n",
      "Total time: 894.8704011440277\n",
      "Epoch 32/100\n"
     ]
    },
    {
     "name": "stderr",
     "output_type": "stream",
     "text": [
      "100%|██████████████████████████████████████████████████████████████████████████████████████████████████████████████████████████████████████████████████████████████████████████████████████████████████| 1163/1163 [13:39<00:00,  1.42it/s]\n"
     ]
    },
    {
     "name": "stdout",
     "output_type": "stream",
     "text": [
      "Train loss: 0.0561, Acc: 0.9805\n",
      "Train time: 819.0176301002502\n",
      "OrderedDict([('active.all.allocated', 129452312), ('active.all.current', 722), ('active.all.freed', 129451590), ('active.all.peak', 1301), ('active.large_pool.allocated', 50110030), ('active.large_pool.current', 171), ('active.large_pool.freed', 50109859), ('active.large_pool.peak', 455), ('active.small_pool.allocated', 79342282), ('active.small_pool.current', 551), ('active.small_pool.freed', 79341731), ('active.small_pool.peak', 923), ('active_bytes.all.allocated', 3698895227465728), ('active_bytes.all.current', 814213632), ('active_bytes.all.freed', 3698894413252096), ('active_bytes.all.peak', 21219656192), ('active_bytes.large_pool.allocated', 3682577213010432), ('active_bytes.large_pool.current', 764690432), ('active_bytes.large_pool.freed', 3682576448320000), ('active_bytes.large_pool.peak', 21118613504), ('active_bytes.small_pool.allocated', 16318014455296), ('active_bytes.small_pool.current', 49523200), ('active_bytes.small_pool.freed', 16317964932096), ('active_bytes.small_pool.peak', 103129600), ('allocated_bytes.all.allocated', 3698895227465728), ('allocated_bytes.all.current', 814213632), ('allocated_bytes.all.freed', 3698894413252096), ('allocated_bytes.all.peak', 21219656192), ('allocated_bytes.large_pool.allocated', 3682577213010432), ('allocated_bytes.large_pool.current', 764690432), ('allocated_bytes.large_pool.freed', 3682576448320000), ('allocated_bytes.large_pool.peak', 21118613504), ('allocated_bytes.small_pool.allocated', 16318014455296), ('allocated_bytes.small_pool.current', 49523200), ('allocated_bytes.small_pool.freed', 16317964932096), ('allocated_bytes.small_pool.peak', 103129600), ('allocation.all.allocated', 129452312), ('allocation.all.current', 722), ('allocation.all.freed', 129451590), ('allocation.all.peak', 1301), ('allocation.large_pool.allocated', 50110030), ('allocation.large_pool.current', 171), ('allocation.large_pool.freed', 50109859), ('allocation.large_pool.peak', 455), ('allocation.small_pool.allocated', 79342282), ('allocation.small_pool.current', 551), ('allocation.small_pool.freed', 79341731), ('allocation.small_pool.peak', 923), ('inactive_split.all.allocated', 63136451), ('inactive_split.all.current', 63), ('inactive_split.all.freed', 63136388), ('inactive_split.all.peak', 155), ('inactive_split.large_pool.allocated', 24319222), ('inactive_split.large_pool.current', 32), ('inactive_split.large_pool.freed', 24319190), ('inactive_split.large_pool.peak', 116), ('inactive_split.small_pool.allocated', 38817229), ('inactive_split.small_pool.current', 31), ('inactive_split.small_pool.freed', 38817198), ('inactive_split.small_pool.peak', 71), ('inactive_split_bytes.all.allocated', 1476095493790208), ('inactive_split_bytes.all.current', 666375680), ('inactive_split_bytes.all.freed', 1476094827414528), ('inactive_split_bytes.all.peak', 2876618752), ('inactive_split_bytes.large_pool.allocated', 1459549242742272), ('inactive_split_bytes.large_pool.current', 655081472), ('inactive_split_bytes.large_pool.freed', 1459548587660800), ('inactive_split_bytes.large_pool.peak', 2852038656), ('inactive_split_bytes.small_pool.allocated', 16546251047936), ('inactive_split_bytes.small_pool.current', 11294208), ('inactive_split_bytes.small_pool.freed', 16546239753728), ('inactive_split_bytes.small_pool.peak', 36898816), ('max_split_size', -1), ('num_alloc_retries', 0), ('num_ooms', 0), ('oversize_allocations.allocated', 0), ('oversize_allocations.current', 0), ('oversize_allocations.freed', 0), ('oversize_allocations.peak', 0), ('oversize_segments.allocated', 0), ('oversize_segments.current', 0), ('oversize_segments.freed', 0), ('oversize_segments.peak', 0), ('requested_bytes.all.allocated', 3695532500125166), ('requested_bytes.all.current', 813142820), ('requested_bytes.all.freed', 3695531686982346), ('requested_bytes.all.peak', 21200522092), ('requested_bytes.large_pool.allocated', 3679217974164640), ('requested_bytes.large_pool.current', 763631616), ('requested_bytes.large_pool.freed', 3679217210533024), ('requested_bytes.large_pool.peak', 21099512704), ('requested_bytes.small_pool.allocated', 16314525960526), ('requested_bytes.small_pool.current', 49511204), ('requested_bytes.small_pool.freed', 16314476449322), ('requested_bytes.small_pool.peak', 103115436), ('reserved_bytes.all.allocated', 21904752640), ('reserved_bytes.all.current', 21904752640), ('reserved_bytes.all.freed', 0), ('reserved_bytes.all.peak', 21904752640), ('reserved_bytes.large_pool.allocated', 21797797888), ('reserved_bytes.large_pool.current', 21797797888), ('reserved_bytes.large_pool.freed', 0), ('reserved_bytes.large_pool.peak', 21797797888), ('reserved_bytes.small_pool.allocated', 106954752), ('reserved_bytes.small_pool.current', 106954752), ('reserved_bytes.small_pool.freed', 0), ('reserved_bytes.small_pool.peak', 106954752), ('segment.all.allocated', 224), ('segment.all.current', 224), ('segment.all.freed', 0), ('segment.all.peak', 224), ('segment.large_pool.allocated', 173), ('segment.large_pool.current', 173), ('segment.large_pool.freed', 0), ('segment.large_pool.peak', 173), ('segment.small_pool.allocated', 51), ('segment.small_pool.current', 51), ('segment.small_pool.freed', 0), ('segment.small_pool.peak', 51)])\n"
     ]
    },
    {
     "name": "stderr",
     "output_type": "stream",
     "text": [
      "100%|████████████████████████████████████████████████████████████████████████████████████████████████████████████████████████████████████████████████████████████████████████████████████████████████████| 291/291 [01:14<00:00,  3.88it/s]\n"
     ]
    },
    {
     "name": "stdout",
     "output_type": "stream",
     "text": [
      "Val   loss: 0.8298, Acc: 0.8377\n",
      "Val and misc time: 75.8245005607605\n",
      "Total time: 894.8422756195068\n",
      "Epoch 33/100\n"
     ]
    },
    {
     "name": "stderr",
     "output_type": "stream",
     "text": [
      "100%|██████████████████████████████████████████████████████████████████████████████████████████████████████████████████████████████████████████████████████████████████████████████████████████████████| 1163/1163 [13:39<00:00,  1.42it/s]\n"
     ]
    },
    {
     "name": "stdout",
     "output_type": "stream",
     "text": [
      "Train loss: 0.0494, Acc: 0.9826\n",
      "Train time: 819.1623313426971\n",
      "OrderedDict([('active.all.allocated', 133507705), ('active.all.current', 722), ('active.all.freed', 133506983), ('active.all.peak', 1301), ('active.large_pool.allocated', 51680219), ('active.large_pool.current', 171), ('active.large_pool.freed', 51680048), ('active.large_pool.peak', 455), ('active.small_pool.allocated', 81827486), ('active.small_pool.current', 551), ('active.small_pool.freed', 81826935), ('active.small_pool.peak', 923), ('active_bytes.all.allocated', 3814833988464128), ('active_bytes.all.current', 814213632), ('active_bytes.all.freed', 3814833174250496), ('active_bytes.all.peak', 21219656192), ('active_bytes.large_pool.allocated', 3798004827187200), ('active_bytes.large_pool.current', 764690432), ('active_bytes.large_pool.freed', 3798004062496768), ('active_bytes.large_pool.peak', 21118613504), ('active_bytes.small_pool.allocated', 16829161276928), ('active_bytes.small_pool.current', 49523200), ('active_bytes.small_pool.freed', 16829111753728), ('active_bytes.small_pool.peak', 103129600), ('allocated_bytes.all.allocated', 3814833988464128), ('allocated_bytes.all.current', 814213632), ('allocated_bytes.all.freed', 3814833174250496), ('allocated_bytes.all.peak', 21219656192), ('allocated_bytes.large_pool.allocated', 3798004827187200), ('allocated_bytes.large_pool.current', 764690432), ('allocated_bytes.large_pool.freed', 3798004062496768), ('allocated_bytes.large_pool.peak', 21118613504), ('allocated_bytes.small_pool.allocated', 16829161276928), ('allocated_bytes.small_pool.current', 49523200), ('allocated_bytes.small_pool.freed', 16829111753728), ('allocated_bytes.small_pool.peak', 103129600), ('allocation.all.allocated', 133507705), ('allocation.all.current', 722), ('allocation.all.freed', 133506983), ('allocation.all.peak', 1301), ('allocation.large_pool.allocated', 51680219), ('allocation.large_pool.current', 171), ('allocation.large_pool.freed', 51680048), ('allocation.large_pool.peak', 455), ('allocation.small_pool.allocated', 81827486), ('allocation.small_pool.current', 551), ('allocation.small_pool.freed', 81826935), ('allocation.small_pool.peak', 923), ('inactive_split.all.allocated', 65116620), ('inactive_split.all.current', 63), ('inactive_split.all.freed', 65116557), ('inactive_split.all.peak', 155), ('inactive_split.large_pool.allocated', 25081688), ('inactive_split.large_pool.current', 32), ('inactive_split.large_pool.freed', 25081656), ('inactive_split.large_pool.peak', 116), ('inactive_split.small_pool.allocated', 40034932), ('inactive_split.small_pool.current', 31), ('inactive_split.small_pool.freed', 40034901), ('inactive_split.small_pool.peak', 71), ('inactive_split_bytes.all.allocated', 1522240396154880), ('inactive_split_bytes.all.current', 666375680), ('inactive_split_bytes.all.freed', 1522239729779200), ('inactive_split_bytes.all.peak', 2876618752), ('inactive_split_bytes.large_pool.allocated', 1505175865340928), ('inactive_split_bytes.large_pool.current', 655081472), ('inactive_split_bytes.large_pool.freed', 1505175210259456), ('inactive_split_bytes.large_pool.peak', 2852038656), ('inactive_split_bytes.small_pool.allocated', 17064530813952), ('inactive_split_bytes.small_pool.current', 11294208), ('inactive_split_bytes.small_pool.freed', 17064519519744), ('inactive_split_bytes.small_pool.peak', 36898816), ('max_split_size', -1), ('num_alloc_retries', 0), ('num_ooms', 0), ('oversize_allocations.allocated', 0), ('oversize_allocations.current', 0), ('oversize_allocations.freed', 0), ('oversize_allocations.peak', 0), ('oversize_segments.allocated', 0), ('oversize_segments.current', 0), ('oversize_segments.freed', 0), ('oversize_segments.peak', 0), ('requested_bytes.all.allocated', 3811365931946014), ('requested_bytes.all.current', 813142820), ('requested_bytes.all.freed', 3811365118803194), ('requested_bytes.all.peak', 21200522092), ('requested_bytes.large_pool.allocated', 3794540368474980), ('requested_bytes.large_pool.current', 763631616), ('requested_bytes.large_pool.freed', 3794539604843364), ('requested_bytes.large_pool.peak', 21099512704), ('requested_bytes.small_pool.allocated', 16825563471034), ('requested_bytes.small_pool.current', 49511204), ('requested_bytes.small_pool.freed', 16825513959830), ('requested_bytes.small_pool.peak', 103115436), ('reserved_bytes.all.allocated', 21904752640), ('reserved_bytes.all.current', 21904752640), ('reserved_bytes.all.freed', 0), ('reserved_bytes.all.peak', 21904752640), ('reserved_bytes.large_pool.allocated', 21797797888), ('reserved_bytes.large_pool.current', 21797797888), ('reserved_bytes.large_pool.freed', 0), ('reserved_bytes.large_pool.peak', 21797797888), ('reserved_bytes.small_pool.allocated', 106954752), ('reserved_bytes.small_pool.current', 106954752), ('reserved_bytes.small_pool.freed', 0), ('reserved_bytes.small_pool.peak', 106954752), ('segment.all.allocated', 224), ('segment.all.current', 224), ('segment.all.freed', 0), ('segment.all.peak', 224), ('segment.large_pool.allocated', 173), ('segment.large_pool.current', 173), ('segment.large_pool.freed', 0), ('segment.large_pool.peak', 173), ('segment.small_pool.allocated', 51), ('segment.small_pool.current', 51), ('segment.small_pool.freed', 0), ('segment.small_pool.peak', 51)])\n"
     ]
    },
    {
     "name": "stderr",
     "output_type": "stream",
     "text": [
      "100%|████████████████████████████████████████████████████████████████████████████████████████████████████████████████████████████████████████████████████████████████████████████████████████████████████| 291/291 [01:14<00:00,  3.88it/s]\n"
     ]
    },
    {
     "name": "stdout",
     "output_type": "stream",
     "text": [
      "Val   loss: 0.9603, Acc: 0.8460\n",
      "Val and misc time: 75.7510335445404\n",
      "Total time: 894.9135015010834\n",
      "Epoch 34/100\n"
     ]
    },
    {
     "name": "stderr",
     "output_type": "stream",
     "text": [
      "100%|██████████████████████████████████████████████████████████████████████████████████████████████████████████████████████████████████████████████████████████████████████████████████████████████████| 1163/1163 [13:39<00:00,  1.42it/s]\n"
     ]
    },
    {
     "name": "stdout",
     "output_type": "stream",
     "text": [
      "Train loss: 0.0456, Acc: 0.9848\n",
      "Train time: 819.2689247131348\n",
      "OrderedDict([('active.all.allocated', 137563098), ('active.all.current', 722), ('active.all.freed', 137562376), ('active.all.peak', 1301), ('active.large_pool.allocated', 53250408), ('active.large_pool.current', 171), ('active.large_pool.freed', 53250237), ('active.large_pool.peak', 455), ('active.small_pool.allocated', 84312690), ('active.small_pool.current', 551), ('active.small_pool.freed', 84312139), ('active.small_pool.peak', 923), ('active_bytes.all.allocated', 3930772749462528), ('active_bytes.all.current', 814213632), ('active_bytes.all.freed', 3930771935248896), ('active_bytes.all.peak', 21219656192), ('active_bytes.large_pool.allocated', 3913432441363968), ('active_bytes.large_pool.current', 764690432), ('active_bytes.large_pool.freed', 3913431676673536), ('active_bytes.large_pool.peak', 21118613504), ('active_bytes.small_pool.allocated', 17340308098560), ('active_bytes.small_pool.current', 49523200), ('active_bytes.small_pool.freed', 17340258575360), ('active_bytes.small_pool.peak', 103129600), ('allocated_bytes.all.allocated', 3930772749462528), ('allocated_bytes.all.current', 814213632), ('allocated_bytes.all.freed', 3930771935248896), ('allocated_bytes.all.peak', 21219656192), ('allocated_bytes.large_pool.allocated', 3913432441363968), ('allocated_bytes.large_pool.current', 764690432), ('allocated_bytes.large_pool.freed', 3913431676673536), ('allocated_bytes.large_pool.peak', 21118613504), ('allocated_bytes.small_pool.allocated', 17340308098560), ('allocated_bytes.small_pool.current', 49523200), ('allocated_bytes.small_pool.freed', 17340258575360), ('allocated_bytes.small_pool.peak', 103129600), ('allocation.all.allocated', 137563098), ('allocation.all.current', 722), ('allocation.all.freed', 137562376), ('allocation.all.peak', 1301), ('allocation.large_pool.allocated', 53250408), ('allocation.large_pool.current', 171), ('allocation.large_pool.freed', 53250237), ('allocation.large_pool.peak', 455), ('allocation.small_pool.allocated', 84312690), ('allocation.small_pool.current', 551), ('allocation.small_pool.freed', 84312139), ('allocation.small_pool.peak', 923), ('inactive_split.all.allocated', 67091745), ('inactive_split.all.current', 63), ('inactive_split.all.freed', 67091682), ('inactive_split.all.peak', 155), ('inactive_split.large_pool.allocated', 25844154), ('inactive_split.large_pool.current', 32), ('inactive_split.large_pool.freed', 25844122), ('inactive_split.large_pool.peak', 116), ('inactive_split.small_pool.allocated', 41247591), ('inactive_split.small_pool.current', 31), ('inactive_split.small_pool.freed', 41247560), ('inactive_split.small_pool.peak', 71), ('inactive_split_bytes.all.allocated', 1568385298519552), ('inactive_split_bytes.all.current', 666375680), ('inactive_split_bytes.all.freed', 1568384632143872), ('inactive_split_bytes.all.peak', 2876618752), ('inactive_split_bytes.large_pool.allocated', 1550802487939584), ('inactive_split_bytes.large_pool.current', 655081472), ('inactive_split_bytes.large_pool.freed', 1550801832858112), ('inactive_split_bytes.large_pool.peak', 2852038656), ('inactive_split_bytes.small_pool.allocated', 17582810579968), ('inactive_split_bytes.small_pool.current', 11294208), ('inactive_split_bytes.small_pool.freed', 17582799285760), ('inactive_split_bytes.small_pool.peak', 36898816), ('max_split_size', -1), ('num_alloc_retries', 0), ('num_ooms', 0), ('oversize_allocations.allocated', 0), ('oversize_allocations.current', 0), ('oversize_allocations.freed', 0), ('oversize_allocations.peak', 0), ('oversize_segments.allocated', 0), ('oversize_segments.current', 0), ('oversize_segments.freed', 0), ('oversize_segments.peak', 0), ('requested_bytes.all.allocated', 3927199363766862), ('requested_bytes.all.current', 813142820), ('requested_bytes.all.freed', 3927198550624042), ('requested_bytes.all.peak', 21200522092), ('requested_bytes.large_pool.allocated', 3909862762785320), ('requested_bytes.large_pool.current', 763631616), ('requested_bytes.large_pool.freed', 3909861999153704), ('requested_bytes.large_pool.peak', 21099512704), ('requested_bytes.small_pool.allocated', 17336600981542), ('requested_bytes.small_pool.current', 49511204), ('requested_bytes.small_pool.freed', 17336551470338), ('requested_bytes.small_pool.peak', 103115436), ('reserved_bytes.all.allocated', 21904752640), ('reserved_bytes.all.current', 21904752640), ('reserved_bytes.all.freed', 0), ('reserved_bytes.all.peak', 21904752640), ('reserved_bytes.large_pool.allocated', 21797797888), ('reserved_bytes.large_pool.current', 21797797888), ('reserved_bytes.large_pool.freed', 0), ('reserved_bytes.large_pool.peak', 21797797888), ('reserved_bytes.small_pool.allocated', 106954752), ('reserved_bytes.small_pool.current', 106954752), ('reserved_bytes.small_pool.freed', 0), ('reserved_bytes.small_pool.peak', 106954752), ('segment.all.allocated', 224), ('segment.all.current', 224), ('segment.all.freed', 0), ('segment.all.peak', 224), ('segment.large_pool.allocated', 173), ('segment.large_pool.current', 173), ('segment.large_pool.freed', 0), ('segment.large_pool.peak', 173), ('segment.small_pool.allocated', 51), ('segment.small_pool.current', 51), ('segment.small_pool.freed', 0), ('segment.small_pool.peak', 51)])\n"
     ]
    },
    {
     "name": "stderr",
     "output_type": "stream",
     "text": [
      "100%|████████████████████████████████████████████████████████████████████████████████████████████████████████████████████████████████████████████████████████████████████████████████████████████████████| 291/291 [01:14<00:00,  3.89it/s]\n"
     ]
    },
    {
     "name": "stdout",
     "output_type": "stream",
     "text": [
      "Val   loss: 0.8358, Acc: 0.8536\n",
      "Val and misc time: 75.76038956642151\n",
      "Total time: 895.0294270515442\n",
      "Epoch 35/100\n"
     ]
    },
    {
     "name": "stderr",
     "output_type": "stream",
     "text": [
      "100%|██████████████████████████████████████████████████████████████████████████████████████████████████████████████████████████████████████████████████████████████████████████████████████████████████| 1163/1163 [13:39<00:00,  1.42it/s]\n"
     ]
    },
    {
     "name": "stdout",
     "output_type": "stream",
     "text": [
      "Train loss: 0.0428, Acc: 0.9848\n",
      "Train time: 819.1415586471558\n",
      "OrderedDict([('active.all.allocated', 141618491), ('active.all.current', 722), ('active.all.freed', 141617769), ('active.all.peak', 1301), ('active.large_pool.allocated', 54820597), ('active.large_pool.current', 171), ('active.large_pool.freed', 54820426), ('active.large_pool.peak', 455), ('active.small_pool.allocated', 86797894), ('active.small_pool.current', 551), ('active.small_pool.freed', 86797343), ('active.small_pool.peak', 923), ('active_bytes.all.allocated', 4046711510460928), ('active_bytes.all.current', 814213632), ('active_bytes.all.freed', 4046710696247296), ('active_bytes.all.peak', 21219656192), ('active_bytes.large_pool.allocated', 4028860055540736), ('active_bytes.large_pool.current', 764690432), ('active_bytes.large_pool.freed', 4028859290850304), ('active_bytes.large_pool.peak', 21118613504), ('active_bytes.small_pool.allocated', 17851454920192), ('active_bytes.small_pool.current', 49523200), ('active_bytes.small_pool.freed', 17851405396992), ('active_bytes.small_pool.peak', 103129600), ('allocated_bytes.all.allocated', 4046711510460928), ('allocated_bytes.all.current', 814213632), ('allocated_bytes.all.freed', 4046710696247296), ('allocated_bytes.all.peak', 21219656192), ('allocated_bytes.large_pool.allocated', 4028860055540736), ('allocated_bytes.large_pool.current', 764690432), ('allocated_bytes.large_pool.freed', 4028859290850304), ('allocated_bytes.large_pool.peak', 21118613504), ('allocated_bytes.small_pool.allocated', 17851454920192), ('allocated_bytes.small_pool.current', 49523200), ('allocated_bytes.small_pool.freed', 17851405396992), ('allocated_bytes.small_pool.peak', 103129600), ('allocation.all.allocated', 141618491), ('allocation.all.current', 722), ('allocation.all.freed', 141617769), ('allocation.all.peak', 1301), ('allocation.large_pool.allocated', 54820597), ('allocation.large_pool.current', 171), ('allocation.large_pool.freed', 54820426), ('allocation.large_pool.peak', 455), ('allocation.small_pool.allocated', 86797894), ('allocation.small_pool.current', 551), ('allocation.small_pool.freed', 86797343), ('allocation.small_pool.peak', 923), ('inactive_split.all.allocated', 69071914), ('inactive_split.all.current', 63), ('inactive_split.all.freed', 69071851), ('inactive_split.all.peak', 155), ('inactive_split.large_pool.allocated', 26606620), ('inactive_split.large_pool.current', 32), ('inactive_split.large_pool.freed', 26606588), ('inactive_split.large_pool.peak', 116), ('inactive_split.small_pool.allocated', 42465294), ('inactive_split.small_pool.current', 31), ('inactive_split.small_pool.freed', 42465263), ('inactive_split.small_pool.peak', 71), ('inactive_split_bytes.all.allocated', 1614530200884224), ('inactive_split_bytes.all.current', 666375680), ('inactive_split_bytes.all.freed', 1614529534508544), ('inactive_split_bytes.all.peak', 2876618752), ('inactive_split_bytes.large_pool.allocated', 1596429110538240), ('inactive_split_bytes.large_pool.current', 655081472), ('inactive_split_bytes.large_pool.freed', 1596428455456768), ('inactive_split_bytes.large_pool.peak', 2852038656), ('inactive_split_bytes.small_pool.allocated', 18101090345984), ('inactive_split_bytes.small_pool.current', 11294208), ('inactive_split_bytes.small_pool.freed', 18101079051776), ('inactive_split_bytes.small_pool.peak', 36898816), ('max_split_size', -1), ('num_alloc_retries', 0), ('num_ooms', 0), ('oversize_allocations.allocated', 0), ('oversize_allocations.current', 0), ('oversize_allocations.freed', 0), ('oversize_allocations.peak', 0), ('oversize_segments.allocated', 0), ('oversize_segments.current', 0), ('oversize_segments.freed', 0), ('oversize_segments.peak', 0), ('requested_bytes.all.allocated', 4043032795587710), ('requested_bytes.all.current', 813142820), ('requested_bytes.all.freed', 4043031982444890), ('requested_bytes.all.peak', 21200522092), ('requested_bytes.large_pool.allocated', 4025185157095660), ('requested_bytes.large_pool.current', 763631616), ('requested_bytes.large_pool.freed', 4025184393464044), ('requested_bytes.large_pool.peak', 21099512704), ('requested_bytes.small_pool.allocated', 17847638492050), ('requested_bytes.small_pool.current', 49511204), ('requested_bytes.small_pool.freed', 17847588980846), ('requested_bytes.small_pool.peak', 103115436), ('reserved_bytes.all.allocated', 21904752640), ('reserved_bytes.all.current', 21904752640), ('reserved_bytes.all.freed', 0), ('reserved_bytes.all.peak', 21904752640), ('reserved_bytes.large_pool.allocated', 21797797888), ('reserved_bytes.large_pool.current', 21797797888), ('reserved_bytes.large_pool.freed', 0), ('reserved_bytes.large_pool.peak', 21797797888), ('reserved_bytes.small_pool.allocated', 106954752), ('reserved_bytes.small_pool.current', 106954752), ('reserved_bytes.small_pool.freed', 0), ('reserved_bytes.small_pool.peak', 106954752), ('segment.all.allocated', 224), ('segment.all.current', 224), ('segment.all.freed', 0), ('segment.all.peak', 224), ('segment.large_pool.allocated', 173), ('segment.large_pool.current', 173), ('segment.large_pool.freed', 0), ('segment.large_pool.peak', 173), ('segment.small_pool.allocated', 51), ('segment.small_pool.current', 51), ('segment.small_pool.freed', 0), ('segment.small_pool.peak', 51)])\n"
     ]
    },
    {
     "name": "stderr",
     "output_type": "stream",
     "text": [
      "100%|████████████████████████████████████████████████████████████████████████████████████████████████████████████████████████████████████████████████████████████████████████████████████████████████████| 291/291 [01:14<00:00,  3.88it/s]\n"
     ]
    },
    {
     "name": "stdout",
     "output_type": "stream",
     "text": [
      "Val   loss: 0.8693, Acc: 0.8420\n",
      "Val and misc time: 75.82216811180115\n",
      "Total time: 894.9638381004333\n",
      "Epoch 36/100\n"
     ]
    },
    {
     "name": "stderr",
     "output_type": "stream",
     "text": [
      " 89%|█████████████████████████████████████████████████████████████████████████████████████████████████████████████████████████████████████████████████████████████████████████████▍                    | 1040/1163 [12:12<01:26,  1.42it/s]"
     ]
    }
   ],
   "source": [
    "from sklearn.model_selection import train_test_split\n",
    "import time\n",
    "from lion_pytorch import Lion\n",
    "from tqdm import tqdm\n",
    "from collections import OrderedDict\n",
    "\n",
    "\n",
    "def train():\n",
    "    # train the models and evaluate them on the validation set\n",
    "    # for model_name, model in efficientnets.items():\n",
    "    for model in models:\n",
    "        # define the transform for data augmentation and resizing\n",
    "        # image_size = efficientnet_sizes[model_name]\n",
    "        image_size = 384\n",
    "        # Define data augmentations and transformations\n",
    "        train_transforms = transforms.Compose(\n",
    "            [\n",
    "                transforms.Resize((image_size, image_size)),\n",
    "                transforms.RandomHorizontalFlip(),\n",
    "                transforms.RandomVerticalFlip(),\n",
    "                transforms.RandomRotation(20),\n",
    "                transforms.ToTensor(),\n",
    "                transforms.Normalize([0.485, 0.456, 0.406], [0.229, 0.224, 0.225]),\n",
    "            ]\n",
    "        )\n",
    "        val_transforms = transforms.Compose(\n",
    "            [\n",
    "                transforms.Resize((image_size, image_size)),\n",
    "                # transforms.CenterCrop(224),\n",
    "                transforms.ToTensor(),\n",
    "                transforms.Normalize([0.485, 0.456, 0.406], [0.229, 0.224, 0.225]),\n",
    "            ]\n",
    "        )\n",
    "\n",
    "        # Create train and validation datasets\n",
    "        dataset = datasets.ImageFolder(\"data_512\", transform=train_transforms)\n",
    "        dataset_val = datasets.ImageFolder(\"data_512\", transform=val_transforms)\n",
    "        print(dataset.classes)\n",
    "\n",
    "        train_idx, val_idx = train_test_split(\n",
    "            list(range(len(dataset.targets))), test_size=0.2, stratify=dataset.targets\n",
    "        )\n",
    "        train_dataset = torch.utils.data.Subset(dataset, train_idx)\n",
    "        val_dataset = torch.utils.data.Subset(dataset_val, val_idx)\n",
    "        train_loader = torch.utils.data.DataLoader(\n",
    "            train_dataset,\n",
    "            batch_size=BATCH_SIZE,\n",
    "            shuffle=True,\n",
    "            num_workers=8,\n",
    "            pin_memory=True,\n",
    "        )\n",
    "        val_loader = torch.utils.data.DataLoader(\n",
    "            val_dataset,\n",
    "            batch_size=BATCH_SIZE,\n",
    "            shuffle=True,\n",
    "            num_workers=8,\n",
    "            pin_memory=True,\n",
    "        )\n",
    "\n",
    "        # Define model\n",
    "        model.to(DEVICE)\n",
    "\n",
    "        # Define loss function and optimizer\n",
    "        criterion = nn.CrossEntropyLoss()\n",
    "        # optimizer = Lion(model.parameters(), lr=1e-5, weight_decay=1e-2)\n",
    "        #         optimizer = optim.Adam(model.parameters(), lr=1e-4)\n",
    "        optimizer = torch.optim.SGD(model.parameters(),\n",
    "                                lr=1e-3,\n",
    "                                momentum=0.9,\n",
    "                                weight_decay=0)\n",
    "\n",
    "        list_exempt_layers = [\"conv1\", \"fc\"]\n",
    "        #         if \"resnet\" in args.arch or \"resnext\" in args.arch:\n",
    "        #             list_exempt_layers = [\"conv1\",\"fc\"]\n",
    "        #         elif args.arch == \"vgg19_bn\":\n",
    "        #             list_exempt_layers = [\"features.0\", \"classifier.6\"]\n",
    "        #         elif args.arch == \"inception_v3\":\n",
    "        #             list_exempt_layers = [\"Conv2d_1a_3x3.conv\", \"fc\"]\n",
    "\n",
    "        # quantization\n",
    "        if QUANTIZE:\n",
    "            model, emulator = mpt_emu.quantize_model(\n",
    "                model,\n",
    "                optimizer=optimizer,\n",
    "                dtype=\"e4m3\",\n",
    "                device=DEVICE,\n",
    "                verbose=True,\n",
    "                list_exempt_layers=list_exempt_layers,\n",
    "                list_layers_output_fused=[],\n",
    "            )\n",
    "            emulator.set_default_inference_qconfig()\n",
    "        #             filter_module_types = [torch.nn.Conv2d, torch.nn.Linear] # Only quantizing convolution and linear modules\n",
    "        #             exempt_modules = [\"conv1\",\"fc\"]\n",
    "        #             is_training = True\n",
    "        #             wt_qconfig = qutils.TensorQuantConfig(\"e4m3\", \"rne\")#, \"per-channel\")\n",
    "        #             iact_qconfig   = qutils.TensorQuantConfig(\"e4m3\", \"rne\")#, \"per-tensor\")\n",
    "        #             emb_qconfig    = qutils.TensorQuantConfig(\"e4m3\", \"rne\")#, \"per-channel\")\n",
    "        #             qconfig = qutils.ModuleQuantConfig(wt_qconfig=wt_qconfig, iact_qconfig=iact_qconfig)\n",
    "        #             model_qconfig_dict  = qutils.get_or_update_model_quant_config_dict(model, filter_module_types, qconfig,\n",
    "        #                                                                         exempt_modules=exempt_modules)\n",
    "        #             print(\"Model quantization configuration\")\n",
    "        #             for layer,qconfig in model_qconfig_dict.items():\n",
    "        #                 print(layer, qconfig)\n",
    "        #             print()\n",
    "\n",
    "        #             qutils.reset_quantization_setup(model, model_qconfig_dict)\n",
    "        #             qhooks = qutils.add_quantization_hooks(model, model_qconfig_dict, is_training=is_training)\n",
    "        # test the model\n",
    "        if TEST_MODEL:\n",
    "            if QUANTIZE:\n",
    "                eval_model = emulator.fuse_bnlayers_and_quantize_model(model)\n",
    "            val_loss = 0.0\n",
    "            val_acc = 0.0\n",
    "            with torch.no_grad():\n",
    "                for images, labels in tqdm(val_loader):\n",
    "                    images, labels = images.to(DEVICE), labels.to(DEVICE)\n",
    "                    if QUANTIZE:\n",
    "                        outputs = eval_model(images)\n",
    "                    else:\n",
    "                        outputs = model(images)\n",
    "                    loss = criterion(outputs, labels)\n",
    "                    val_loss += loss.item() * images.size(0)\n",
    "                    _, predictions = torch.max(outputs, 1)\n",
    "                    val_acc += torch.sum(predictions == labels.data)\n",
    "            val_loss /= len(val_dataset)\n",
    "            val_acc /= len(val_dataset)\n",
    "            print(f\"Val   loss: {val_loss:.4f}, Acc: {val_acc:.4f}\")\n",
    "\n",
    "        # Train and validate the model\n",
    "        for epoch in range(NUM_EPOCHS):\n",
    "            start = time.time()\n",
    "            start_total = time.time()\n",
    "            print(f\"Epoch {epoch+1}/{NUM_EPOCHS}\")\n",
    "\n",
    "            # Train the model\n",
    "            model.train()\n",
    "            train_loss = 0.0\n",
    "            train_acc = 0.0\n",
    "            for images, labels in tqdm(train_loader):\n",
    "                images, labels = images.to(DEVICE), labels.to(DEVICE)\n",
    "                outputs, _ = model(images)\n",
    "                loss = criterion(outputs, labels)\n",
    "                loss.backward()\n",
    "                optimizer.step()\n",
    "                optimizer.zero_grad()\n",
    "                train_loss += loss.item() * images.size(0)\n",
    "                _, predictions = torch.max(outputs, 1)\n",
    "                train_acc += torch.sum(predictions == labels.data)\n",
    "            train_loss /= len(train_dataset)\n",
    "            train_acc /= len(train_dataset)\n",
    "            print(f\"Train loss: {train_loss:.4f}, Acc: {train_acc:.4f}\")\n",
    "            print(f\"Train time: {time.time() - start}\")\n",
    "            print(torch.cuda.memory_stats(DEVICE))\n",
    "\n",
    "            start = time.time()\n",
    "            # Validate the model\n",
    "            if QUANTIZE:\n",
    "                eval_model = emulator.fuse_bnlayers_and_quantize_model(model)\n",
    "            val_loss = 0.0\n",
    "            val_acc = 0.0\n",
    "            with torch.no_grad():\n",
    "                for images, labels in tqdm(val_loader):\n",
    "                    images, labels = images.to(DEVICE), labels.to(DEVICE)\n",
    "                    if QUANTIZE:\n",
    "                        outputs = eval_model(images)\n",
    "                    else:\n",
    "                        outputs, _ = model(images)\n",
    "                    loss = criterion(outputs, labels)\n",
    "                    val_loss += loss.item() * images.size(0)\n",
    "                    _, predictions = torch.max(outputs, 1)\n",
    "                    val_acc += torch.sum(predictions == labels.data)\n",
    "            val_loss /= len(val_dataset)\n",
    "            val_acc /= len(val_dataset)\n",
    "            print(f\"Val   loss: {val_loss:.4f}, Acc: {val_acc:.4f}\")\n",
    "\n",
    "            # Save checkpoint\n",
    "            checkpoint_path = f\"checkpoint_{epoch+1}.pt\"\n",
    "            torch.save(\n",
    "                {\n",
    "                    \"epoch\": epoch + 1,\n",
    "                    \"model_state_dict\": model.state_dict(),\n",
    "                    \"optimizer_state_dict\": optimizer.state_dict(),\n",
    "                    \"train_loss\": train_loss,\n",
    "                    \"train_acc\": train_acc,\n",
    "                    \"val_loss\": val_loss,\n",
    "                    \"val_acc\": val_acc,\n",
    "                },\n",
    "                checkpoint_path,\n",
    "            )\n",
    "            total_end = time.time() - start_total\n",
    "\n",
    "            # Save loss and accuracy values to file\n",
    "            with open(\"loss_acc.txt\", \"a\") as file:\n",
    "                file.write(\n",
    "                    f\"{model_name}, {train_loss:.4f}, {train_acc:.4f}, {val_loss:.4f}, {val_acc:.4f}, {epoch}, {BATCH_SIZE}, {total_end}\\n\"\n",
    "                )\n",
    "\n",
    "            print(f\"Val and misc time: {time.time() - start}\")\n",
    "            print(f\"Total time: {total_end}\")\n",
    "\n",
    "\n",
    "if __name__ == \"__main__\":\n",
    "    train()"
   ]
  },
  {
   "cell_type": "code",
   "execution_count": null,
   "metadata": {},
   "outputs": [],
   "source": []
  }
 ],
 "metadata": {
  "kernelspec": {
   "display_name": "Python 3 (ipykernel)",
   "language": "python",
   "name": "python3"
  },
  "language_info": {
   "codemirror_mode": {
    "name": "ipython",
    "version": 3
   },
   "file_extension": ".py",
   "mimetype": "text/x-python",
   "name": "python",
   "nbconvert_exporter": "python",
   "pygments_lexer": "ipython3",
   "version": "3.10.6"
  }
 },
 "nbformat": 4,
 "nbformat_minor": 1
}
